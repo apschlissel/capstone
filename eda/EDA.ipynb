{
 "cells": [
  {
   "cell_type": "markdown",
   "id": "be609a07-e3ba-419b-8674-a84a87c67b42",
   "metadata": {},
   "source": [
    "# EDA Notebook"
   ]
  },
  {
   "cell_type": "code",
   "execution_count": 1,
   "id": "d4189e9b-bb9f-405f-a492-d3233cdc0d94",
   "metadata": {},
   "outputs": [
    {
     "name": "stderr",
     "output_type": "stream",
     "text": [
      "[nltk_data] Downloading package wordnet to /home/ec2-user/nltk_data...\n",
      "[nltk_data]   Package wordnet is already up-to-date!\n",
      "[nltk_data] Downloading package omw-1.4 to /home/ec2-user/nltk_data...\n",
      "[nltk_data]   Package omw-1.4 is already up-to-date!\n",
      "[nltk_data] Downloading package stopwords to\n",
      "[nltk_data]     /home/ec2-user/nltk_data...\n",
      "[nltk_data]   Package stopwords is already up-to-date!\n",
      "[nltk_data] Downloading package punkt to /home/ec2-user/nltk_data...\n",
      "[nltk_data]   Package punkt is already up-to-date!\n"
     ]
    }
   ],
   "source": [
    "import s3fs\n",
    "import boto3\n",
    "import pandas as pd\n",
    "import nltk\n",
    "nltk.download('wordnet')\n",
    "nltk.download('omw-1.4')\n",
    "nltk.download('stopwords')\n",
    "nltk.download('punkt')\n",
    "\n",
    "import re\n",
    "from nltk.corpus import stopwords\n",
    "from nltk.corpus import wordnet\n",
    "from nltk.tokenize import word_tokenize"
   ]
  },
  {
   "cell_type": "code",
   "execution_count": 2,
   "id": "9aae697c-550f-4d4a-9301-73f747338213",
   "metadata": {},
   "outputs": [],
   "source": [
    "#ec2-jupyter-notebook-us-west-2-8c94c42abbd5478ca9a1a477613965a7 #amber's s3 bucket\n",
    "# Alison's s3 bucket"
   ]
  },
  {
   "cell_type": "code",
   "execution_count": 3,
   "id": "89fcec43-5cfa-409f-8bf0-65a86ba1687c",
   "metadata": {},
   "outputs": [
    {
     "name": "stdout",
     "output_type": "stream",
     "text": [
      "Total Text DF size: 29652\n"
     ]
    }
   ],
   "source": [
    "# csv file\n",
    "df_books_filtered = pd.read_csv('s3://ec2-jupyter-notebook-us-west-2-8c94c42abbd5478ca9a1a477613965a7/books_filtered.csv')\n",
    "text_data = pd.read_csv('s3://ec2-jupyter-notebook-us-west-2-8c94c42abbd5478ca9a1a477613965a7/books_filtered_colsreduced.csv')\n",
    "print('Total Text DF size:', len(text_data))\n",
    "token_data = pd.read_csv('s3://ec2-jupyter-notebook-us-west-2-8c94c42abbd5478ca9a1a477613965a7/tokenized_data (1).csv')\n",
    "#model_data = pd.read_csv('s3://book-data-ucb-capstone-s2022/tokenized_data.csv')\n",
    "#print('Tokenized Text DF Size:', len(model_data))"
   ]
  },
  {
   "cell_type": "code",
   "execution_count": 4,
   "id": "a35ea47a-33b8-4a73-9855-b8a032e59133",
   "metadata": {},
   "outputs": [],
   "source": [
    "def preprocess_text(text):\n",
    "\n",
    "  #lowercase text\n",
    "  text_preprocessed = text.lower()\n",
    "  #remove punctuation\n",
    "  text_preprocessed = re.sub(r'[^a-zA-Z ]+', '', text_preprocessed)\n",
    "  #tokenize for stopword removal\n",
    "  text_preprocessed = word_tokenize(text_preprocessed)\n",
    "  #remove stopwords\n",
    "  text_preprocessed = [word for word in text_preprocessed if word not in stopwords.words('english')]\n",
    "  #join to make string again\n",
    "  #text_preprocessed = (\" \").join(text_preprocessed)\n",
    "\n",
    "  return text_preprocessed"
   ]
  },
  {
   "cell_type": "code",
   "execution_count": 22,
   "id": "c5ec146c-0281-4e53-b6a1-1d635fddad0f",
   "metadata": {},
   "outputs": [
    {
     "name": "stdout",
     "output_type": "stream",
     "text": [
      "CPU times: user 5min 1s, sys: 25.7 s, total: 5min 26s\n",
      "Wall time: 5min 26s\n"
     ]
    }
   ],
   "source": [
    "%%time\n",
    "text_data['tokens'] = text_data['description'].apply(lambda x: preprocess_text(x))"
   ]
  },
  {
   "cell_type": "code",
   "execution_count": 6,
   "id": "246706d7-7dec-4dcf-90b6-23db8b7fce88",
   "metadata": {},
   "outputs": [
    {
     "data": {
      "text/plain": [
       "0    [winning, means, fame, fortunelosing, means, c...\n",
       "1    [door, end, silent, corridor, haunting, harry,...\n",
       "2    [unforgettable, novel, childhood, sleepy, sout...\n",
       "3    [alternate, cover, edition, isbn, since, immed...\n",
       "4    [three, things, absolutely, positivefirst, edw...\n",
       "Name: tokens, dtype: object"
      ]
     },
     "execution_count": 6,
     "metadata": {},
     "output_type": "execute_result"
    }
   ],
   "source": [
    "text_data['tokens'].head()"
   ]
  },
  {
   "cell_type": "code",
   "execution_count": 32,
   "id": "1b3b08d7-7fda-447f-b8d9-f58a49da535f",
   "metadata": {},
   "outputs": [],
   "source": [
    "#save dataset to csv\n",
    "text_data.to_csv('text_data_AR.csv')"
   ]
  },
  {
   "cell_type": "code",
   "execution_count": null,
   "id": "67a58d6d-8b81-4495-8325-211656f99a7e",
   "metadata": {},
   "outputs": [],
   "source": [
    "#upload dataset to s3 & google drive\n",
    "\n",
    "#Creating Session With Boto3.\n",
    "#session = boto3.Session(\n",
    "#aws_access_key_id='<your_access_key_id>',\n",
    "#aws_secret_access_key='<your_secret_access_key>'\n",
    "#)\n",
    "\n",
    "#Creating S3 Resource From the Session.\n",
    "#s3 = session.resource('s3')\n",
    "\n",
    "#result = s3.Bucket('ec2-jupyter-notebook-us-west-2-8c94c42abbd5478ca9a1a477613965a7').upload_file('E:/temp/testfile.txt','file2_uploaded_by_boto3.txt')\n",
    "\n",
    "#print(result)"
   ]
  },
  {
   "cell_type": "markdown",
   "id": "516ec0fb-201b-43af-aef0-337b586be40f",
   "metadata": {},
   "source": [
    "# EDA Plan"
   ]
  },
  {
   "cell_type": "markdown",
   "id": "7fea1fec-f17b-4884-bea8-cafa0cf0ce06",
   "metadata": {},
   "source": [
    "Overall EDA\n",
    "1. Book counts across main genres with visualization (histogram)\n",
    "2. Average rating per book - histogram \n",
    "3. % of dataset with award winning books\n",
    "4. Common genres paired together\n",
    "5. Number of Genres\n",
    "\n",
    "Description EDA\n",
    "1. Histogram of description length buckets (nice to have)\n",
    "2. Histogram of tokens per 'description' \n",
    "3. bi-grams and tri-grams per description \n",
    "4. most frequent words in descriptions - histograms - common adjectives used to describe books \n",
    "5. word types in description\n",
    "6. Average number of sentences in description"
   ]
  },
  {
   "cell_type": "markdown",
   "id": "531c4612-821c-4e00-969a-0fc1def2dbfd",
   "metadata": {},
   "source": [
    "## Overall EDA"
   ]
  },
  {
   "cell_type": "code",
   "execution_count": 5,
   "id": "b3e24fdd-3a9e-4369-81c2-9e90f58a5793",
   "metadata": {},
   "outputs": [
    {
     "data": {
      "text/plain": [
       "Young Adult       10264\n",
       "Childrens          3706\n",
       "New Adult          1289\n",
       "Fantasy           12677\n",
       "History              55\n",
       "Dystopia           1522\n",
       "Manga               593\n",
       "Thriller           3987\n",
       "Graphic Novels     1399\n",
       "Romance           11624\n",
       "dtype: int64"
      ]
     },
     "execution_count": 5,
     "metadata": {},
     "output_type": "execute_result"
    }
   ],
   "source": [
    "df_genres = token_data[['Young Adult', 'Childrens', 'New Adult', 'Fantasy', 'History', 'Dystopia', 'Manga', 'Thriller', 'Graphic Novels', 'Romance']]\n",
    "df_genres.count()"
   ]
  },
  {
   "cell_type": "code",
   "execution_count": 6,
   "id": "a2b28b4a-4fe2-48f1-a9ed-82875b9ab9bd",
   "metadata": {},
   "outputs": [
    {
     "data": {
      "text/plain": [
       "<AxesSubplot:>"
      ]
     },
     "execution_count": 6,
     "metadata": {},
     "output_type": "execute_result"
    },
    {
     "data": {
      "image/png": "[encoded data removed]",
      "text/plain": [
       "<Figure size 432x288 with 1 Axes>"
      ]
     },
     "metadata": {
      "needs_background": "light"
     },
     "output_type": "display_data"
    }
   ],
   "source": [
    "df_genres.count().plot(kind='bar')"
   ]
  },
  {
   "cell_type": "code",
   "execution_count": 7,
   "id": "d57ac103-6ad0-4124-a132-b6edf4e971ef",
   "metadata": {},
   "outputs": [],
   "source": [
    "genre_combos = df_genres.groupby(['Young Adult', 'Childrens', 'New Adult', 'Fantasy', 'History', 'Dystopia', 'Manga', 'Thriller', 'Graphic Novels', 'Romance'], dropna=False, as_index=False,).size().sort_values(by='size', axis=0, ascending=False)"
   ]
  },
  {
   "cell_type": "code",
   "execution_count": 8,
   "id": "f2f77791-533c-4a38-bd7e-c694f3d16fc6",
   "metadata": {},
   "outputs": [
    {
     "data": {
      "text/html": [
       "<div>\n",
       "<style scoped>\n",
       "    .dataframe tbody tr th:only-of-type {\n",
       "        vertical-align: middle;\n",
       "    }\n",
       "\n",
       "    .dataframe tbody tr th {\n",
       "        vertical-align: top;\n",
       "    }\n",
       "\n",
       "    .dataframe thead th {\n",
       "        text-align: right;\n",
       "    }\n",
       "</style>\n",
       "<table border=\"1\" class=\"dataframe\">\n",
       "  <thead>\n",
       "    <tr style=\"text-align: right;\">\n",
       "      <th></th>\n",
       "      <th>Young Adult</th>\n",
       "      <th>Childrens</th>\n",
       "      <th>New Adult</th>\n",
       "      <th>Fantasy</th>\n",
       "      <th>History</th>\n",
       "      <th>Dystopia</th>\n",
       "      <th>Manga</th>\n",
       "      <th>Thriller</th>\n",
       "      <th>Graphic Novels</th>\n",
       "      <th>Romance</th>\n",
       "      <th>size</th>\n",
       "    </tr>\n",
       "  </thead>\n",
       "  <tbody>\n",
       "    <tr>\n",
       "      <th>52</th>\n",
       "      <td>Young Adult</td>\n",
       "      <td>NaN</td>\n",
       "      <td>NaN</td>\n",
       "      <td>Fantasy</td>\n",
       "      <td>NaN</td>\n",
       "      <td>NaN</td>\n",
       "      <td>NaN</td>\n",
       "      <td>NaN</td>\n",
       "      <td>NaN</td>\n",
       "      <td>Romance</td>\n",
       "      <td>2121</td>\n",
       "    </tr>\n",
       "    <tr>\n",
       "      <th>114</th>\n",
       "      <td>NaN</td>\n",
       "      <td>NaN</td>\n",
       "      <td>NaN</td>\n",
       "      <td>Fantasy</td>\n",
       "      <td>NaN</td>\n",
       "      <td>NaN</td>\n",
       "      <td>NaN</td>\n",
       "      <td>NaN</td>\n",
       "      <td>NaN</td>\n",
       "      <td>Romance</td>\n",
       "      <td>1993</td>\n",
       "    </tr>\n",
       "    <tr>\n",
       "      <th>13</th>\n",
       "      <td>Young Adult</td>\n",
       "      <td>Childrens</td>\n",
       "      <td>NaN</td>\n",
       "      <td>Fantasy</td>\n",
       "      <td>NaN</td>\n",
       "      <td>NaN</td>\n",
       "      <td>NaN</td>\n",
       "      <td>NaN</td>\n",
       "      <td>NaN</td>\n",
       "      <td>NaN</td>\n",
       "      <td>1418</td>\n",
       "    </tr>\n",
       "    <tr>\n",
       "      <th>69</th>\n",
       "      <td>Young Adult</td>\n",
       "      <td>NaN</td>\n",
       "      <td>NaN</td>\n",
       "      <td>NaN</td>\n",
       "      <td>NaN</td>\n",
       "      <td>NaN</td>\n",
       "      <td>NaN</td>\n",
       "      <td>NaN</td>\n",
       "      <td>NaN</td>\n",
       "      <td>Romance</td>\n",
       "      <td>1059</td>\n",
       "    </tr>\n",
       "    <tr>\n",
       "      <th>20</th>\n",
       "      <td>Young Adult</td>\n",
       "      <td>Childrens</td>\n",
       "      <td>NaN</td>\n",
       "      <td>NaN</td>\n",
       "      <td>NaN</td>\n",
       "      <td>NaN</td>\n",
       "      <td>NaN</td>\n",
       "      <td>NaN</td>\n",
       "      <td>NaN</td>\n",
       "      <td>NaN</td>\n",
       "      <td>1017</td>\n",
       "    </tr>\n",
       "    <tr>\n",
       "      <th>53</th>\n",
       "      <td>Young Adult</td>\n",
       "      <td>NaN</td>\n",
       "      <td>NaN</td>\n",
       "      <td>Fantasy</td>\n",
       "      <td>NaN</td>\n",
       "      <td>NaN</td>\n",
       "      <td>NaN</td>\n",
       "      <td>NaN</td>\n",
       "      <td>NaN</td>\n",
       "      <td>NaN</td>\n",
       "      <td>969</td>\n",
       "    </tr>\n",
       "    <tr>\n",
       "      <th>70</th>\n",
       "      <td>Young Adult</td>\n",
       "      <td>NaN</td>\n",
       "      <td>NaN</td>\n",
       "      <td>NaN</td>\n",
       "      <td>NaN</td>\n",
       "      <td>NaN</td>\n",
       "      <td>NaN</td>\n",
       "      <td>NaN</td>\n",
       "      <td>NaN</td>\n",
       "      <td>NaN</td>\n",
       "      <td>579</td>\n",
       "    </tr>\n",
       "    <tr>\n",
       "      <th>31</th>\n",
       "      <td>Young Adult</td>\n",
       "      <td>NaN</td>\n",
       "      <td>New Adult</td>\n",
       "      <td>NaN</td>\n",
       "      <td>NaN</td>\n",
       "      <td>NaN</td>\n",
       "      <td>NaN</td>\n",
       "      <td>NaN</td>\n",
       "      <td>NaN</td>\n",
       "      <td>Romance</td>\n",
       "      <td>561</td>\n",
       "    </tr>\n",
       "    <tr>\n",
       "      <th>111</th>\n",
       "      <td>NaN</td>\n",
       "      <td>NaN</td>\n",
       "      <td>NaN</td>\n",
       "      <td>Fantasy</td>\n",
       "      <td>NaN</td>\n",
       "      <td>NaN</td>\n",
       "      <td>NaN</td>\n",
       "      <td>Thriller</td>\n",
       "      <td>NaN</td>\n",
       "      <td>NaN</td>\n",
       "      <td>487</td>\n",
       "    </tr>\n",
       "    <tr>\n",
       "      <th>131</th>\n",
       "      <td>NaN</td>\n",
       "      <td>NaN</td>\n",
       "      <td>NaN</td>\n",
       "      <td>NaN</td>\n",
       "      <td>NaN</td>\n",
       "      <td>NaN</td>\n",
       "      <td>NaN</td>\n",
       "      <td>Thriller</td>\n",
       "      <td>NaN</td>\n",
       "      <td>Romance</td>\n",
       "      <td>440</td>\n",
       "    </tr>\n",
       "    <tr>\n",
       "      <th>39</th>\n",
       "      <td>Young Adult</td>\n",
       "      <td>NaN</td>\n",
       "      <td>NaN</td>\n",
       "      <td>Fantasy</td>\n",
       "      <td>NaN</td>\n",
       "      <td>Dystopia</td>\n",
       "      <td>NaN</td>\n",
       "      <td>NaN</td>\n",
       "      <td>NaN</td>\n",
       "      <td>Romance</td>\n",
       "      <td>431</td>\n",
       "    </tr>\n",
       "  </tbody>\n",
       "</table>\n",
       "</div>"
      ],
      "text/plain": [
       "     Young Adult  Childrens  New Adult  Fantasy History  Dystopia Manga  \\\n",
       "52   Young Adult        NaN        NaN  Fantasy     NaN       NaN   NaN   \n",
       "114          NaN        NaN        NaN  Fantasy     NaN       NaN   NaN   \n",
       "13   Young Adult  Childrens        NaN  Fantasy     NaN       NaN   NaN   \n",
       "69   Young Adult        NaN        NaN      NaN     NaN       NaN   NaN   \n",
       "20   Young Adult  Childrens        NaN      NaN     NaN       NaN   NaN   \n",
       "53   Young Adult        NaN        NaN  Fantasy     NaN       NaN   NaN   \n",
       "70   Young Adult        NaN        NaN      NaN     NaN       NaN   NaN   \n",
       "31   Young Adult        NaN  New Adult      NaN     NaN       NaN   NaN   \n",
       "111          NaN        NaN        NaN  Fantasy     NaN       NaN   NaN   \n",
       "131          NaN        NaN        NaN      NaN     NaN       NaN   NaN   \n",
       "39   Young Adult        NaN        NaN  Fantasy     NaN  Dystopia   NaN   \n",
       "\n",
       "     Thriller Graphic Novels  Romance  size  \n",
       "52        NaN            NaN  Romance  2121  \n",
       "114       NaN            NaN  Romance  1993  \n",
       "13        NaN            NaN      NaN  1418  \n",
       "69        NaN            NaN  Romance  1059  \n",
       "20        NaN            NaN      NaN  1017  \n",
       "53        NaN            NaN      NaN   969  \n",
       "70        NaN            NaN      NaN   579  \n",
       "31        NaN            NaN  Romance   561  \n",
       "111  Thriller            NaN      NaN   487  \n",
       "131  Thriller            NaN  Romance   440  \n",
       "39        NaN            NaN  Romance   431  "
      ]
     },
     "execution_count": 8,
     "metadata": {},
     "output_type": "execute_result"
    }
   ],
   "source": [
    "genre_combos[4:15]"
   ]
  },
  {
   "cell_type": "code",
   "execution_count": 9,
   "id": "1e4da610-dd42-4010-9347-bed59620691b",
   "metadata": {},
   "outputs": [],
   "source": [
    "award_count = 0\n",
    "for x in df_books_filtered['awards']:\n",
    "    if x != \"[]\":\n",
    "        award_count = award_count + 1"
   ]
  },
  {
   "cell_type": "code",
   "execution_count": 10,
   "id": "acc53a58-1762-48f0-ab33-79846c2a98fd",
   "metadata": {},
   "outputs": [
    {
     "data": {
      "text/plain": [
       "7655"
      ]
     },
     "execution_count": 10,
     "metadata": {},
     "output_type": "execute_result"
    }
   ],
   "source": [
    "award_count"
   ]
  },
  {
   "cell_type": "code",
   "execution_count": 11,
   "id": "5ac923d4-f70b-4c88-905e-e199e187cd62",
   "metadata": {},
   "outputs": [
    {
     "name": "stdout",
     "output_type": "stream",
     "text": [
      "Percentage of award winning books: 0.2581613381896668\n"
     ]
    }
   ],
   "source": [
    "print(\"Percentage of award winning books:\", 7655 / len(df_books_filtered))"
   ]
  },
  {
   "cell_type": "code",
   "execution_count": 12,
   "id": "34e7826e-8aa7-4413-9077-053d8ab81dc6",
   "metadata": {},
   "outputs": [
    {
     "data": {
      "text/plain": [
       "<AxesSubplot:>"
      ]
     },
     "execution_count": 12,
     "metadata": {},
     "output_type": "execute_result"
    },
    {
     "data": {
      "image/png": "[encoded data removed]",
      "text/plain": [
       "<Figure size 432x288 with 1 Axes>"
      ]
     },
     "metadata": {
      "needs_background": "light"
     },
     "output_type": "display_data"
    }
   ],
   "source": [
    "df_books_filtered['rating'].hist()"
   ]
  },
  {
   "cell_type": "code",
   "execution_count": 118,
   "id": "ff13cfd6-461e-4b0f-a3a6-86290feaa7da",
   "metadata": {},
   "outputs": [
    {
     "data": {
      "text/plain": [
       "(3.5, 4.0]       14091\n",
       "(4.0, 4.5]       13241\n",
       "(3.0, 3.5]        1444\n",
       "(4.5, 5.0]         812\n",
       "(2.5, 3.0]          61\n",
       "(1.5, 2.0]           2\n",
       "(2.0, 2.5]           1\n",
       "(-0.001, 0.5]        0\n",
       "(0.5, 1.0]           0\n",
       "(1.0, 1.5]           0\n",
       "Name: rating, dtype: int64"
      ]
     },
     "execution_count": 118,
     "metadata": {},
     "output_type": "execute_result"
    }
   ],
   "source": [
    "df_books_filtered['rating'].value_counts(bins = [0,0.5,1,1.5,2,2.5,3,3.5,4,4.5,5])"
   ]
  },
  {
   "cell_type": "code",
   "execution_count": 116,
   "id": "1675212c-c98b-4a9c-80af-53b7ee2b561f",
   "metadata": {},
   "outputs": [
    {
     "data": {
      "text/plain": [
       "<AxesSubplot:>"
      ]
     },
     "execution_count": 116,
     "metadata": {},
     "output_type": "execute_result"
    },
    {
     "data": {
      "image/png": "[encoded data removed]",
      "text/plain": [
       "<Figure size 432x288 with 1 Axes>"
      ]
     },
     "metadata": {
      "needs_background": "light"
     },
     "output_type": "display_data"
    }
   ],
   "source": [
    "df_books_filtered['rating'].hist(bins = [0,0.5,1,1.5,2,2.5,3,3.5,4,4.5,5])"
   ]
  },
  {
   "cell_type": "code",
   "execution_count": 14,
   "id": "5cd1bf38-bdf7-48e6-9fb9-861bc533354d",
   "metadata": {},
   "outputs": [
    {
     "data": {
      "text/plain": [
       "3.9797497639282264"
      ]
     },
     "execution_count": 14,
     "metadata": {},
     "output_type": "execute_result"
    }
   ],
   "source": [
    "df_books_filtered['rating'].mean()"
   ]
  },
  {
   "cell_type": "code",
   "execution_count": 121,
   "id": "78f7e7e6-7361-4733-9b31-ad329c97479c",
   "metadata": {},
   "outputs": [
    {
     "data": {
      "text/plain": [
       "<AxesSubplot:>"
      ]
     },
     "execution_count": 121,
     "metadata": {},
     "output_type": "execute_result"
    },
    {
     "data": {
      "image/png": "[encoded data removed]",
      "text/plain": [
       "<Figure size 432x288 with 1 Axes>"
      ]
     },
     "metadata": {
      "needs_background": "light"
     },
     "output_type": "display_data"
    }
   ],
   "source": [
    "df_books_filtered[df_books_filtered['New Adult'] == 'New Adult']['rating'].hist(bins = [0,0.5,1,1.5,2,2.5,3,3.5,4,4.5,5])"
   ]
  },
  {
   "cell_type": "code",
   "execution_count": 126,
   "id": "0e71e042-d9b2-41ef-9539-e5195268e528",
   "metadata": {},
   "outputs": [
    {
     "name": "stdout",
     "output_type": "stream",
     "text": [
      "Avg Rating of  Young Adult  is  3.98109801247077\n",
      "Avg Rating of  Childrens  is  4.029471127900705\n",
      "Avg Rating of  New Adult  is  4.078425135764161\n",
      "Avg Rating of  Fantasy  is  4.006073992269465\n",
      "Avg Rating of  History  is  4.098181818181817\n",
      "Avg Rating of  Dystopia  is  3.948291721419182\n",
      "Avg Rating of  Manga  is  4.23920741989882\n",
      "Avg Rating of  Thriller  is  3.9241234010534254\n",
      "Avg Rating of  Graphic Novels  is  4.178849177984272\n",
      "Avg Rating of  Romance  is  3.9833981417756243\n"
     ]
    }
   ],
   "source": [
    "for i in df_genres.columns:\n",
    "    x = df_books_filtered[df_books_filtered[i] == i]['rating'].mean()\n",
    "    print('Avg Rating of ', i, ' is ', x)"
   ]
  },
  {
   "cell_type": "code",
   "execution_count": 127,
   "id": "4fa03b29-059a-49c9-8ed8-2a2695249aff",
   "metadata": {},
   "outputs": [
    {
     "data": {
      "text/plain": [
       "0.25945765597059367"
      ]
     },
     "execution_count": 127,
     "metadata": {},
     "output_type": "execute_result"
    }
   ],
   "source": [
    "4.23920741989882 - 3.9797497639282264"
   ]
  },
  {
   "cell_type": "code",
   "execution_count": 19,
   "id": "9c9d4903-92df-4abf-b888-0aea2086df32",
   "metadata": {},
   "outputs": [
    {
     "data": {
      "text/html": [
       "<div>\n",
       "<style scoped>\n",
       "    .dataframe tbody tr th:only-of-type {\n",
       "        vertical-align: middle;\n",
       "    }\n",
       "\n",
       "    .dataframe tbody tr th {\n",
       "        vertical-align: top;\n",
       "    }\n",
       "\n",
       "    .dataframe thead th {\n",
       "        text-align: right;\n",
       "    }\n",
       "</style>\n",
       "<table border=\"1\" class=\"dataframe\">\n",
       "  <thead>\n",
       "    <tr style=\"text-align: right;\">\n",
       "      <th></th>\n",
       "      <th>Unnamed: 0.1</th>\n",
       "      <th>Unnamed: 0</th>\n",
       "      <th>bookId</th>\n",
       "      <th>title</th>\n",
       "      <th>series</th>\n",
       "      <th>author</th>\n",
       "      <th>description</th>\n",
       "      <th>isbn</th>\n",
       "      <th>genres</th>\n",
       "      <th>pages</th>\n",
       "      <th>...</th>\n",
       "      <th>New Adult</th>\n",
       "      <th>Fantasy</th>\n",
       "      <th>History</th>\n",
       "      <th>Dystopia</th>\n",
       "      <th>Manga</th>\n",
       "      <th>Thriller</th>\n",
       "      <th>Graphic Novels</th>\n",
       "      <th>Romance</th>\n",
       "      <th>tokens</th>\n",
       "      <th>token_length</th>\n",
       "    </tr>\n",
       "  </thead>\n",
       "  <tbody>\n",
       "    <tr>\n",
       "      <th>0</th>\n",
       "      <td>0</td>\n",
       "      <td>0</td>\n",
       "      <td>2767052-the-hunger-games</td>\n",
       "      <td>The Hunger Games</td>\n",
       "      <td>The Hunger Games #1</td>\n",
       "      <td>Suzanne Collins</td>\n",
       "      <td>WINNING MEANS FAME AND FORTUNE.LOSING MEANS CE...</td>\n",
       "      <td>9.78044E+12</td>\n",
       "      <td>['Young Adult', 'Fiction', 'Dystopia', 'Fantas...</td>\n",
       "      <td>374</td>\n",
       "      <td>...</td>\n",
       "      <td>NaN</td>\n",
       "      <td>Fantasy</td>\n",
       "      <td>NaN</td>\n",
       "      <td>Dystopia</td>\n",
       "      <td>NaN</td>\n",
       "      <td>NaN</td>\n",
       "      <td>NaN</td>\n",
       "      <td>Romance</td>\n",
       "      <td>{'sentence', 'america', 'take', 'life', 'conte...</td>\n",
       "      <td>686</td>\n",
       "    </tr>\n",
       "    <tr>\n",
       "      <th>1</th>\n",
       "      <td>1</td>\n",
       "      <td>1</td>\n",
       "      <td>2.Harry_Potter_and_the_Order_of_the_Phoenix</td>\n",
       "      <td>Harry Potter and the Order of the Phoenix</td>\n",
       "      <td>Harry Potter #5</td>\n",
       "      <td>J.K. Rowling, Mary GrandPré (Illustrator)</td>\n",
       "      <td>There is a door at the end of a silent corrido...</td>\n",
       "      <td>9.78044E+12</td>\n",
       "      <td>['Fantasy', 'Young Adult', 'Fiction', 'Magic',...</td>\n",
       "      <td>870</td>\n",
       "      <td>...</td>\n",
       "      <td>NaN</td>\n",
       "      <td>Fantasy</td>\n",
       "      <td>NaN</td>\n",
       "      <td>NaN</td>\n",
       "      <td>NaN</td>\n",
       "      <td>NaN</td>\n",
       "      <td>NaN</td>\n",
       "      <td>NaN</td>\n",
       "      <td>{'strength', 'lot', 'ordinary', 'end', 'things...</td>\n",
       "      <td>730</td>\n",
       "    </tr>\n",
       "    <tr>\n",
       "      <th>2</th>\n",
       "      <td>2</td>\n",
       "      <td>2</td>\n",
       "      <td>2657.To_Kill_a_Mockingbird</td>\n",
       "      <td>To Kill a Mockingbird</td>\n",
       "      <td>To Kill a Mockingbird</td>\n",
       "      <td>Harper Lee</td>\n",
       "      <td>The unforgettable novel of a childhood in a sl...</td>\n",
       "      <td>1E+13</td>\n",
       "      <td>['Classics', 'Fiction', 'Historical Fiction', ...</td>\n",
       "      <td>324</td>\n",
       "      <td>...</td>\n",
       "      <td>NaN</td>\n",
       "      <td>NaN</td>\n",
       "      <td>NaN</td>\n",
       "      <td>NaN</td>\n",
       "      <td>NaN</td>\n",
       "      <td>NaN</td>\n",
       "      <td>NaN</td>\n",
       "      <td>NaN</td>\n",
       "      <td>{'published', 'experience', 'roots', 'classicc...</td>\n",
       "      <td>765</td>\n",
       "    </tr>\n",
       "    <tr>\n",
       "      <th>3</th>\n",
       "      <td>3</td>\n",
       "      <td>3</td>\n",
       "      <td>1885.Pride_and_Prejudice</td>\n",
       "      <td>Pride and Prejudice</td>\n",
       "      <td>NaN</td>\n",
       "      <td>Jane Austen, Anna Quindlen (Introduction)</td>\n",
       "      <td>Alternate cover edition of ISBN 9780679783268S...</td>\n",
       "      <td>1E+13</td>\n",
       "      <td>['Classics', 'Fiction', 'Romance', 'Historical...</td>\n",
       "      <td>279</td>\n",
       "      <td>...</td>\n",
       "      <td>NaN</td>\n",
       "      <td>NaN</td>\n",
       "      <td>NaN</td>\n",
       "      <td>NaN</td>\n",
       "      <td>NaN</td>\n",
       "      <td>NaN</td>\n",
       "      <td>NaN</td>\n",
       "      <td>Romance</td>\n",
       "      <td>{'austens', 'wit', 'cover', 'austen', 'popular...</td>\n",
       "      <td>636</td>\n",
       "    </tr>\n",
       "    <tr>\n",
       "      <th>4</th>\n",
       "      <td>4</td>\n",
       "      <td>4</td>\n",
       "      <td>41865.Twilight</td>\n",
       "      <td>Twilight</td>\n",
       "      <td>The Twilight Saga #1</td>\n",
       "      <td>Stephenie Meyer</td>\n",
       "      <td>About three things I was absolutely positive.\\...</td>\n",
       "      <td>9.78032E+12</td>\n",
       "      <td>['Young Adult', 'Fantasy', 'Romance', 'Vampire...</td>\n",
       "      <td>501</td>\n",
       "      <td>...</td>\n",
       "      <td>NaN</td>\n",
       "      <td>Fantasy</td>\n",
       "      <td>NaN</td>\n",
       "      <td>NaN</td>\n",
       "      <td>NaN</td>\n",
       "      <td>NaN</td>\n",
       "      <td>NaN</td>\n",
       "      <td>Romance</td>\n",
       "      <td>{'positivefirst', 'himand', 'things', 'part', ...</td>\n",
       "      <td>307</td>\n",
       "    </tr>\n",
       "    <tr>\n",
       "      <th>...</th>\n",
       "      <td>...</td>\n",
       "      <td>...</td>\n",
       "      <td>...</td>\n",
       "      <td>...</td>\n",
       "      <td>...</td>\n",
       "      <td>...</td>\n",
       "      <td>...</td>\n",
       "      <td>...</td>\n",
       "      <td>...</td>\n",
       "      <td>...</td>\n",
       "      <td>...</td>\n",
       "      <td>...</td>\n",
       "      <td>...</td>\n",
       "      <td>...</td>\n",
       "      <td>...</td>\n",
       "      <td>...</td>\n",
       "      <td>...</td>\n",
       "      <td>...</td>\n",
       "      <td>...</td>\n",
       "      <td>...</td>\n",
       "      <td>...</td>\n",
       "    </tr>\n",
       "    <tr>\n",
       "      <th>29647</th>\n",
       "      <td>29647</td>\n",
       "      <td>52473</td>\n",
       "      <td>11492014-fractured</td>\n",
       "      <td>Fractured</td>\n",
       "      <td>Fateful #2</td>\n",
       "      <td>Cheri Schmidt (Goodreads Author)</td>\n",
       "      <td>The Fateful Trilogy continues with Fractured. ...</td>\n",
       "      <td>2.94001E+12</td>\n",
       "      <td>['Vampires', 'Paranormal', 'Young Adult', 'Rom...</td>\n",
       "      <td>0</td>\n",
       "      <td>...</td>\n",
       "      <td>New Adult</td>\n",
       "      <td>Fantasy</td>\n",
       "      <td>NaN</td>\n",
       "      <td>NaN</td>\n",
       "      <td>NaN</td>\n",
       "      <td>NaN</td>\n",
       "      <td>NaN</td>\n",
       "      <td>Romance</td>\n",
       "      <td>{'trilogy', 'continues', 'want', 'destroy', 'd...</td>\n",
       "      <td>547</td>\n",
       "    </tr>\n",
       "    <tr>\n",
       "      <th>29648</th>\n",
       "      <td>29648</td>\n",
       "      <td>52474</td>\n",
       "      <td>11836711-anasazi</td>\n",
       "      <td>Anasazi</td>\n",
       "      <td>Sense of Truth #2</td>\n",
       "      <td>Emma Michaels</td>\n",
       "      <td>'Anasazi', sequel to 'The Thirteenth Chime' by...</td>\n",
       "      <td>1E+13</td>\n",
       "      <td>['Mystery', 'Young Adult']</td>\n",
       "      <td>190</td>\n",
       "      <td>...</td>\n",
       "      <td>NaN</td>\n",
       "      <td>NaN</td>\n",
       "      <td>NaN</td>\n",
       "      <td>NaN</td>\n",
       "      <td>NaN</td>\n",
       "      <td>NaN</td>\n",
       "      <td>NaN</td>\n",
       "      <td>NaN</td>\n",
       "      <td>{'david', 'desert', 'arrived', 'wants', 'cant'...</td>\n",
       "      <td>349</td>\n",
       "    </tr>\n",
       "    <tr>\n",
       "      <th>29649</th>\n",
       "      <td>29649</td>\n",
       "      <td>52475</td>\n",
       "      <td>10815662-marked</td>\n",
       "      <td>Marked</td>\n",
       "      <td>Soul Guardians #1</td>\n",
       "      <td>Kim Richardson (Goodreads Author)</td>\n",
       "      <td>--READERS FAVORITE AWARDS WINNER 2011--Sixteen...</td>\n",
       "      <td>9.78146E+12</td>\n",
       "      <td>['Fantasy', 'Young Adult', 'Paranormal', 'Ange...</td>\n",
       "      <td>280</td>\n",
       "      <td>...</td>\n",
       "      <td>NaN</td>\n",
       "      <td>Fantasy</td>\n",
       "      <td>NaN</td>\n",
       "      <td>NaN</td>\n",
       "      <td>NaN</td>\n",
       "      <td>NaN</td>\n",
       "      <td>NaN</td>\n",
       "      <td>Romance</td>\n",
       "      <td>{'hurtles', 'yearold', 'life', 'david', 'night...</td>\n",
       "      <td>488</td>\n",
       "    </tr>\n",
       "    <tr>\n",
       "      <th>29650</th>\n",
       "      <td>29650</td>\n",
       "      <td>52476</td>\n",
       "      <td>11330278-wayward-son</td>\n",
       "      <td>Wayward Son</td>\n",
       "      <td>NaN</td>\n",
       "      <td>Tom Pollack (Goodreads Author), John Loftus (G...</td>\n",
       "      <td>A POWERFUL TREMOR UNEARTHS AN ANCIENT SECRETBu...</td>\n",
       "      <td>9.78145E+12</td>\n",
       "      <td>['Fiction', 'Mystery', 'Historical Fiction', '...</td>\n",
       "      <td>507</td>\n",
       "      <td>...</td>\n",
       "      <td>NaN</td>\n",
       "      <td>NaN</td>\n",
       "      <td>NaN</td>\n",
       "      <td>NaN</td>\n",
       "      <td>NaN</td>\n",
       "      <td>NaN</td>\n",
       "      <td>NaN</td>\n",
       "      <td>NaN</td>\n",
       "      <td>{'suspense', 'relic', 'near', 'vesuvius', 'evi...</td>\n",
       "      <td>888</td>\n",
       "    </tr>\n",
       "    <tr>\n",
       "      <th>29651</th>\n",
       "      <td>29651</td>\n",
       "      <td>52477</td>\n",
       "      <td>10991547-daughter-of-helaman</td>\n",
       "      <td>Daughter of Helaman</td>\n",
       "      <td>Stripling Warrior #1</td>\n",
       "      <td>Misty Moncur (Goodreads Author)</td>\n",
       "      <td>Fighting in Helaman's army is Keturah's deepes...</td>\n",
       "      <td>9.7816E+12</td>\n",
       "      <td>['Lds Fiction', 'Historical Fiction', 'Young A...</td>\n",
       "      <td>201</td>\n",
       "      <td>...</td>\n",
       "      <td>NaN</td>\n",
       "      <td>Fantasy</td>\n",
       "      <td>NaN</td>\n",
       "      <td>NaN</td>\n",
       "      <td>NaN</td>\n",
       "      <td>NaN</td>\n",
       "      <td>NaN</td>\n",
       "      <td>Romance</td>\n",
       "      <td>{'raiders', 'danger', 'fray', 'part', 'turn', ...</td>\n",
       "      <td>318</td>\n",
       "    </tr>\n",
       "  </tbody>\n",
       "</table>\n",
       "<p>29652 rows × 24 columns</p>\n",
       "</div>"
      ],
      "text/plain": [
       "       Unnamed: 0.1  Unnamed: 0                                       bookId  \\\n",
       "0                 0           0                     2767052-the-hunger-games   \n",
       "1                 1           1  2.Harry_Potter_and_the_Order_of_the_Phoenix   \n",
       "2                 2           2                   2657.To_Kill_a_Mockingbird   \n",
       "3                 3           3                     1885.Pride_and_Prejudice   \n",
       "4                 4           4                               41865.Twilight   \n",
       "...             ...         ...                                          ...   \n",
       "29647         29647       52473                           11492014-fractured   \n",
       "29648         29648       52474                             11836711-anasazi   \n",
       "29649         29649       52475                              10815662-marked   \n",
       "29650         29650       52476                         11330278-wayward-son   \n",
       "29651         29651       52477                 10991547-daughter-of-helaman   \n",
       "\n",
       "                                           title                 series  \\\n",
       "0                               The Hunger Games    The Hunger Games #1   \n",
       "1      Harry Potter and the Order of the Phoenix        Harry Potter #5   \n",
       "2                          To Kill a Mockingbird  To Kill a Mockingbird   \n",
       "3                            Pride and Prejudice                    NaN   \n",
       "4                                       Twilight   The Twilight Saga #1   \n",
       "...                                          ...                    ...   \n",
       "29647                                  Fractured             Fateful #2   \n",
       "29648                                    Anasazi      Sense of Truth #2   \n",
       "29649                                     Marked      Soul Guardians #1   \n",
       "29650                                Wayward Son                    NaN   \n",
       "29651                        Daughter of Helaman   Stripling Warrior #1   \n",
       "\n",
       "                                                  author  \\\n",
       "0                                        Suzanne Collins   \n",
       "1              J.K. Rowling, Mary GrandPré (Illustrator)   \n",
       "2                                             Harper Lee   \n",
       "3              Jane Austen, Anna Quindlen (Introduction)   \n",
       "4                                        Stephenie Meyer   \n",
       "...                                                  ...   \n",
       "29647                   Cheri Schmidt (Goodreads Author)   \n",
       "29648                                      Emma Michaels   \n",
       "29649                  Kim Richardson (Goodreads Author)   \n",
       "29650  Tom Pollack (Goodreads Author), John Loftus (G...   \n",
       "29651                    Misty Moncur (Goodreads Author)   \n",
       "\n",
       "                                             description         isbn  \\\n",
       "0      WINNING MEANS FAME AND FORTUNE.LOSING MEANS CE...  9.78044E+12   \n",
       "1      There is a door at the end of a silent corrido...  9.78044E+12   \n",
       "2      The unforgettable novel of a childhood in a sl...        1E+13   \n",
       "3      Alternate cover edition of ISBN 9780679783268S...        1E+13   \n",
       "4      About three things I was absolutely positive.\\...  9.78032E+12   \n",
       "...                                                  ...          ...   \n",
       "29647  The Fateful Trilogy continues with Fractured. ...  2.94001E+12   \n",
       "29648  'Anasazi', sequel to 'The Thirteenth Chime' by...        1E+13   \n",
       "29649  --READERS FAVORITE AWARDS WINNER 2011--Sixteen...  9.78146E+12   \n",
       "29650  A POWERFUL TREMOR UNEARTHS AN ANCIENT SECRETBu...  9.78145E+12   \n",
       "29651  Fighting in Helaman's army is Keturah's deepes...   9.7816E+12   \n",
       "\n",
       "                                                  genres pages  ...  \\\n",
       "0      ['Young Adult', 'Fiction', 'Dystopia', 'Fantas...   374  ...   \n",
       "1      ['Fantasy', 'Young Adult', 'Fiction', 'Magic',...   870  ...   \n",
       "2      ['Classics', 'Fiction', 'Historical Fiction', ...   324  ...   \n",
       "3      ['Classics', 'Fiction', 'Romance', 'Historical...   279  ...   \n",
       "4      ['Young Adult', 'Fantasy', 'Romance', 'Vampire...   501  ...   \n",
       "...                                                  ...   ...  ...   \n",
       "29647  ['Vampires', 'Paranormal', 'Young Adult', 'Rom...     0  ...   \n",
       "29648                         ['Mystery', 'Young Adult']   190  ...   \n",
       "29649  ['Fantasy', 'Young Adult', 'Paranormal', 'Ange...   280  ...   \n",
       "29650  ['Fiction', 'Mystery', 'Historical Fiction', '...   507  ...   \n",
       "29651  ['Lds Fiction', 'Historical Fiction', 'Young A...   201  ...   \n",
       "\n",
       "       New Adult  Fantasy History  Dystopia Manga Thriller Graphic Novels  \\\n",
       "0            NaN  Fantasy     NaN  Dystopia   NaN      NaN            NaN   \n",
       "1            NaN  Fantasy     NaN       NaN   NaN      NaN            NaN   \n",
       "2            NaN      NaN     NaN       NaN   NaN      NaN            NaN   \n",
       "3            NaN      NaN     NaN       NaN   NaN      NaN            NaN   \n",
       "4            NaN  Fantasy     NaN       NaN   NaN      NaN            NaN   \n",
       "...          ...      ...     ...       ...   ...      ...            ...   \n",
       "29647  New Adult  Fantasy     NaN       NaN   NaN      NaN            NaN   \n",
       "29648        NaN      NaN     NaN       NaN   NaN      NaN            NaN   \n",
       "29649        NaN  Fantasy     NaN       NaN   NaN      NaN            NaN   \n",
       "29650        NaN      NaN     NaN       NaN   NaN      NaN            NaN   \n",
       "29651        NaN  Fantasy     NaN       NaN   NaN      NaN            NaN   \n",
       "\n",
       "       Romance                                             tokens token_length  \n",
       "0      Romance  {'sentence', 'america', 'take', 'life', 'conte...          686  \n",
       "1          NaN  {'strength', 'lot', 'ordinary', 'end', 'things...          730  \n",
       "2          NaN  {'published', 'experience', 'roots', 'classicc...          765  \n",
       "3      Romance  {'austens', 'wit', 'cover', 'austen', 'popular...          636  \n",
       "4      Romance  {'positivefirst', 'himand', 'things', 'part', ...          307  \n",
       "...        ...                                                ...          ...  \n",
       "29647  Romance  {'trilogy', 'continues', 'want', 'destroy', 'd...          547  \n",
       "29648      NaN  {'david', 'desert', 'arrived', 'wants', 'cant'...          349  \n",
       "29649  Romance  {'hurtles', 'yearold', 'life', 'david', 'night...          488  \n",
       "29650      NaN  {'suspense', 'relic', 'near', 'vesuvius', 'evi...          888  \n",
       "29651  Romance  {'raiders', 'danger', 'fray', 'part', 'turn', ...          318  \n",
       "\n",
       "[29652 rows x 24 columns]"
      ]
     },
     "execution_count": 19,
     "metadata": {},
     "output_type": "execute_result"
    }
   ],
   "source": [
    "token_data"
   ]
  },
  {
   "cell_type": "markdown",
   "id": "c95678ad-01a0-49f9-b71c-6f4f0e9a4f2f",
   "metadata": {},
   "source": [
    "# Description EDA"
   ]
  },
  {
   "cell_type": "markdown",
   "id": "c0d0dd70-9e6a-42db-b277-c0269a1527a5",
   "metadata": {},
   "source": [
    "## Token EDA"
   ]
  },
  {
   "cell_type": "code",
   "execution_count": 23,
   "id": "ba1e62ed-4fc1-4679-85ae-13e29e08e5d2",
   "metadata": {},
   "outputs": [],
   "source": [
    "text_data['token_length'] = text_data['tokens'].apply(lambda x: len(x))"
   ]
  },
  {
   "cell_type": "code",
   "execution_count": 24,
   "id": "9b7cc236-0cc4-4ac9-9f8f-3ee2e32686e8",
   "metadata": {},
   "outputs": [
    {
     "data": {
      "text/plain": [
       "78.08970727101038"
      ]
     },
     "execution_count": 24,
     "metadata": {},
     "output_type": "execute_result"
    }
   ],
   "source": [
    "text_data['token_length'].mean()"
   ]
  },
  {
   "cell_type": "code",
   "execution_count": 25,
   "id": "45217937-1a28-4d28-9c18-d803a795574c",
   "metadata": {},
   "outputs": [
    {
     "data": {
      "text/plain": [
       "0"
      ]
     },
     "execution_count": 25,
     "metadata": {},
     "output_type": "execute_result"
    }
   ],
   "source": [
    "text_data['token_length'].min()"
   ]
  },
  {
   "cell_type": "code",
   "execution_count": 26,
   "id": "ae66369c-0d9a-4553-aac8-f9ba4789f24c",
   "metadata": {},
   "outputs": [
    {
     "data": {
      "text/plain": [
       "759"
      ]
     },
     "execution_count": 26,
     "metadata": {},
     "output_type": "execute_result"
    }
   ],
   "source": [
    "text_data['token_length'].max()"
   ]
  },
  {
   "cell_type": "code",
   "execution_count": 27,
   "id": "b4242554-883b-4910-b40c-1f43a17e0c82",
   "metadata": {},
   "outputs": [
    {
     "data": {
      "text/plain": [
       "<AxesSubplot:>"
      ]
     },
     "execution_count": 27,
     "metadata": {},
     "output_type": "execute_result"
    },
    {
     "data": {
      "image/png": "[encoded data removed]",
      "text/plain": [
       "<Figure size 432x288 with 1 Axes>"
      ]
     },
     "metadata": {
      "needs_background": "light"
     },
     "output_type": "display_data"
    }
   ],
   "source": [
    "text_data['token_length'].hist()"
   ]
  },
  {
   "cell_type": "code",
   "execution_count": 28,
   "id": "e50ee060-f559-49d9-95db-3b23c74fe53f",
   "metadata": {},
   "outputs": [],
   "source": [
    "#most frequent tokens\n",
    "all_tokens = []\n",
    "pos = []\n",
    "for i in text_data['tokens']:\n",
    "    all_tokens = i + all_tokens"
   ]
  },
  {
   "cell_type": "code",
   "execution_count": 29,
   "id": "df64e712-3604-4be3-adce-452c9c7a57e8",
   "metadata": {},
   "outputs": [],
   "source": [
    "df_all_tokens = pd.DataFrame(all_tokens, columns = ['token']) "
   ]
  },
  {
   "cell_type": "code",
   "execution_count": 30,
   "id": "32724f10-d643-48cf-a85d-1ecd57e45fd2",
   "metadata": {},
   "outputs": [],
   "source": [
    "#save dataset to csv\n",
    "df_all_tokens.to_csv('df_all_tokens.csv')"
   ]
  },
  {
   "cell_type": "code",
   "execution_count": 31,
   "id": "343e08e2-df77-4215-9896-5965387fe2b0",
   "metadata": {},
   "outputs": [
    {
     "data": {
      "text/plain": [
       "one        16015\n",
       "life       13529\n",
       "new        12732\n",
       "world      10561\n",
       "love        9361\n",
       "time        7001\n",
       "story       6892\n",
       "first       6425\n",
       "family      6267\n",
       "man         5940\n",
       "find        5879\n",
       "must        5813\n",
       "novel       5730\n",
       "two         5679\n",
       "shes        5564\n",
       "years       5446\n",
       "young       5404\n",
       "even        5349\n",
       "book        5264\n",
       "never       5153\n",
       "like        4571\n",
       "way         4529\n",
       "back        4512\n",
       "ever        4282\n",
       "could       4266\n",
       "hes         4170\n",
       "war         3988\n",
       "home        3818\n",
       "past        3764\n",
       "series      3753\n",
       "finds       3742\n",
       "secret      3690\n",
       "woman       3685\n",
       "people      3628\n",
       "friends     3574\n",
       "make        3562\n",
       "girl        3555\n",
       "lives       3431\n",
       "best        3425\n",
       "dark        3418\n",
       "death       3381\n",
       "would       3370\n",
       "get         3365\n",
       "author      3313\n",
       "heart       3295\n",
       "help        3243\n",
       "old         3141\n",
       "father      3084\n",
       "knows       3071\n",
       "may         3058\n",
       "Name: token, dtype: int64"
      ]
     },
     "execution_count": 31,
     "metadata": {},
     "output_type": "execute_result"
    }
   ],
   "source": [
    "df_all_tokens['token'].value_counts()[0:50]"
   ]
  },
  {
   "cell_type": "code",
   "execution_count": 26,
   "id": "45d6d047-f6b4-4536-ad5c-3b3f1ddfb074",
   "metadata": {},
   "outputs": [
    {
     "data": {
      "text/plain": [
       "<AxesSubplot:>"
      ]
     },
     "execution_count": 26,
     "metadata": {},
     "output_type": "execute_result"
    },
    {
     "data": {
      "image/png": "[encoded data removed]",
      "text/plain": [
       "<Figure size 432x288 with 1 Axes>"
      ]
     },
     "metadata": {
      "needs_background": "light"
     },
     "output_type": "display_data"
    }
   ],
   "source": [
    "df_all_tokens['token'].value_counts()[0:50].plot.bar()"
   ]
  },
  {
   "cell_type": "markdown",
   "id": "d1b4990d-cc46-4f26-93e7-d38ab9347cbb",
   "metadata": {},
   "source": [
    "## Full Text EDA"
   ]
  },
  {
   "cell_type": "code",
   "execution_count": 27,
   "id": "59ae8701-7d9b-45fc-8df9-071c6fd0cfb9",
   "metadata": {},
   "outputs": [],
   "source": [
    "text_data['description_len'] = text_data['description'].apply(lambda x: len(x))"
   ]
  },
  {
   "cell_type": "code",
   "execution_count": 28,
   "id": "31f7bcec-c611-490c-9658-36bd5efbef61",
   "metadata": {},
   "outputs": [
    {
     "data": {
      "text/plain": [
       "6"
      ]
     },
     "execution_count": 28,
     "metadata": {},
     "output_type": "execute_result"
    }
   ],
   "source": [
    "text_data['description_len'].min()"
   ]
  },
  {
   "cell_type": "code",
   "execution_count": 29,
   "id": "872ff888-b7a7-43f4-ba33-ed697ce30ea5",
   "metadata": {},
   "outputs": [
    {
     "data": {
      "text/plain": [
       "7802"
      ]
     },
     "execution_count": 29,
     "metadata": {},
     "output_type": "execute_result"
    }
   ],
   "source": [
    "text_data['description_len'].max()"
   ]
  },
  {
   "cell_type": "code",
   "execution_count": 30,
   "id": "286509ee-6100-46fe-a804-796969e71ef7",
   "metadata": {},
   "outputs": [
    {
     "data": {
      "text/plain": [
       "831.800182112505"
      ]
     },
     "execution_count": 30,
     "metadata": {},
     "output_type": "execute_result"
    }
   ],
   "source": [
    "text_data['description_len'].mean()"
   ]
  },
  {
   "cell_type": "code",
   "execution_count": 31,
   "id": "52b52402-879d-4610-b840-c037ac649309",
   "metadata": {},
   "outputs": [
    {
     "data": {
      "text/plain": [
       "<AxesSubplot:>"
      ]
     },
     "execution_count": 31,
     "metadata": {},
     "output_type": "execute_result"
    },
    {
     "data": {
      "image/png": "[encoded data removed]",
      "text/plain": [
       "<Figure size 432x288 with 1 Axes>"
      ]
     },
     "metadata": {
      "needs_background": "light"
     },
     "output_type": "display_data"
    }
   ],
   "source": [
    "text_data['description_len'].hist()"
   ]
  },
  {
   "cell_type": "code",
   "execution_count": 32,
   "id": "87cd5675-7058-4888-9b78-c08e7b9ca272",
   "metadata": {},
   "outputs": [],
   "source": [
    "text_data['sentence_count'] = text_data['description'].apply(lambda x: x.count('.'))"
   ]
  },
  {
   "cell_type": "code",
   "execution_count": 33,
   "id": "0c3ecfa4-5971-4008-a7a8-dc8c609a2d75",
   "metadata": {},
   "outputs": [
    {
     "data": {
      "text/plain": [
       "7.908100634021314"
      ]
     },
     "execution_count": 33,
     "metadata": {},
     "output_type": "execute_result"
    }
   ],
   "source": [
    "text_data['sentence_count'].mean()"
   ]
  },
  {
   "cell_type": "code",
   "execution_count": 34,
   "id": "08e94865-b8a9-45df-83ff-dbdfd314c918",
   "metadata": {},
   "outputs": [
    {
     "data": {
      "text/plain": [
       "0"
      ]
     },
     "execution_count": 34,
     "metadata": {},
     "output_type": "execute_result"
    }
   ],
   "source": [
    "text_data['sentence_count'].min()"
   ]
  },
  {
   "cell_type": "code",
   "execution_count": 35,
   "id": "d72e6193-695d-473b-b7f7-3698d69c5a57",
   "metadata": {},
   "outputs": [
    {
     "data": {
      "text/plain": [
       "112"
      ]
     },
     "execution_count": 35,
     "metadata": {},
     "output_type": "execute_result"
    }
   ],
   "source": [
    "text_data['sentence_count'].max()"
   ]
  },
  {
   "cell_type": "code",
   "execution_count": 36,
   "id": "2ccea703-4fe1-4a03-b4fa-fdae5a5221b8",
   "metadata": {},
   "outputs": [
    {
     "data": {
      "text/plain": [
       "<AxesSubplot:>"
      ]
     },
     "execution_count": 36,
     "metadata": {},
     "output_type": "execute_result"
    },
    {
     "data": {
      "image/png": "[encoded data removed]",
      "text/plain": [
       "<Figure size 432x288 with 1 Axes>"
      ]
     },
     "metadata": {
      "needs_background": "light"
     },
     "output_type": "display_data"
    }
   ],
   "source": [
    "text_data['sentence_count'].hist()"
   ]
  },
  {
   "cell_type": "markdown",
   "id": "97e8432b-5a63-40a1-accd-618f390bab81",
   "metadata": {},
   "source": [
    "## Example Bi/trigams"
   ]
  },
  {
   "cell_type": "code",
   "execution_count": 82,
   "id": "2c64613f-3212-496e-aff7-9eb5737085fe",
   "metadata": {},
   "outputs": [],
   "source": [
    "import nltk\n",
    ">>> from nltk.collocations import *"
   ]
  },
  {
   "cell_type": "markdown",
   "id": "6bb4cb13-a4ac-4e4d-9620-1e7c84c636fb",
   "metadata": {},
   "source": [
    "# Example"
   ]
  },
  {
   "cell_type": "code",
   "execution_count": 83,
   "id": "759ce02e-3202-4783-8941-e37d1da6bac8",
   "metadata": {},
   "outputs": [],
   "source": [
    "sample = text_data['description'][0]\n",
    "sample = sample.lower()\n",
    "sample = re.sub(r'[^a-zA-Z ]+', '', sample)"
   ]
  },
  {
   "cell_type": "code",
   "execution_count": 84,
   "id": "64705072-a43d-44b0-af80-1bef4c3e194e",
   "metadata": {},
   "outputs": [
    {
     "data": {
      "text/plain": [
       "'winning means fame and fortunelosing means certain deaththe hunger games have begun   in the ruins of a place once known as north america lies the nation of panem a shining capitol surrounded by twelve outlying districts the capitol is harsh and cruel and keeps the districts in line by forcing them all to send one boy and once girl between the ages of twelve and eighteen to participate in the annual hunger games a fight to the death on live tvsixteenyearold katniss everdeen regards it as a death sentence when she steps forward to take her sisters place in the games but katniss has been close to dead beforeand survival for her is second nature without really meaning to she becomes a contender but if she is to win she will have to start making choices that weight survival against humanity and life against love'"
      ]
     },
     "execution_count": 84,
     "metadata": {},
     "output_type": "execute_result"
    }
   ],
   "source": [
    "sample"
   ]
  },
  {
   "cell_type": "code",
   "execution_count": 86,
   "id": "206c2618-f2ab-4a80-98cd-82e105e907c0",
   "metadata": {},
   "outputs": [
    {
     "data": {
      "text/plain": [
       "[('america', 'lies'),\n",
       " ('been', 'close'),\n",
       " ('certain', 'deaththe'),\n",
       " ('choices', 'that'),\n",
       " ('dead', 'beforeand'),\n",
       " ('everdeen', 'regards'),\n",
       " ('forcing', 'them'),\n",
       " ('girl', 'between'),\n",
       " ('has', 'been'),\n",
       " ('live', 'tvsixteenyearold'),\n",
       " ('making', 'choices'),\n",
       " ('nature', 'without'),\n",
       " ('north', 'america'),\n",
       " ('on', 'live'),\n",
       " ('one', 'boy')]"
      ]
     },
     "execution_count": 86,
     "metadata": {},
     "output_type": "execute_result"
    }
   ],
   "source": [
    "bigram_measures = nltk.collocations.BigramAssocMeasures()\n",
    "trigram_measures = nltk.collocations.TrigramAssocMeasures()\n",
    "fourgram_measures = nltk.collocations.QuadgramAssocMeasures()\n",
    "finder = BigramCollocationFinder.from_words(word_tokenize(sample))\n",
    "#finder.apply_freq_filter(3)\n",
    "finder.nbest(bigram_measures.pmi, 15)\n",
    "#finder.nbest(trigram_measures.pmi, 15)\n",
    "#finder.nbest(fourgram_measures.pmi, 15)"
   ]
  },
  {
   "cell_type": "markdown",
   "id": "2950233d-e2b1-491a-8d29-8130ab953752",
   "metadata": {},
   "source": [
    "## Pre-Processing"
   ]
  },
  {
   "cell_type": "code",
   "execution_count": 90,
   "id": "48464384-483a-4226-bc9c-5f0858ea0f35",
   "metadata": {},
   "outputs": [],
   "source": [
    "def simple_processing(sample):\n",
    "    sample = sample.lower()\n",
    "    sample = re.sub(r'[^a-zA-Z ]+', '', sample)\n",
    "    #sample = word_tokenize(sample)\n",
    "    return sample"
   ]
  },
  {
   "cell_type": "code",
   "execution_count": 91,
   "id": "687b2b6e-d8aa-4a91-8b30-c9271d656da4",
   "metadata": {},
   "outputs": [],
   "source": [
    "text_data['desc_bigrams'] = text_data['description'].apply(lambda x: simple_processing(x))"
   ]
  },
  {
   "cell_type": "markdown",
   "id": "2ed69a9d-a5ac-43e5-8a4b-cd6a5882c355",
   "metadata": {},
   "source": [
    "## Bigrams"
   ]
  },
  {
   "cell_type": "code",
   "execution_count": 94,
   "id": "73362d36-dcdd-4367-bc04-02ea8438bd7f",
   "metadata": {},
   "outputs": [],
   "source": [
    "bigram_measures = nltk.collocations.BigramAssocMeasures()\n",
    "bigram_list = []\n",
    "for i in range(0, len(text_data)):\n",
    "    sample = text_data['desc_bigrams'][i]\n",
    "    finder = BigramCollocationFinder.from_words(word_tokenize(sample))\n",
    "    top_15 = finder.nbest(bigram_measures.pmi, 15)\n",
    "    bigram_list = bigram_list + top_15"
   ]
  },
  {
   "cell_type": "code",
   "execution_count": 97,
   "id": "6bc8f24c-25c0-4546-a1bc-f99002f4dde8",
   "metadata": {},
   "outputs": [],
   "source": [
    "df_bigrams = pd.DataFrame(bigram_list)"
   ]
  },
  {
   "cell_type": "code",
   "execution_count": 99,
   "id": "a02cacce-a9d8-4a0e-8afe-72d6621accb0",
   "metadata": {},
   "outputs": [
    {
     "data": {
      "text/plain": [
       "0            1       \n",
       "bestselling  author      1017\n",
       "best         friend       786\n",
       "but          when         609\n",
       "each         other        534\n",
       "finds        herself      400\n",
       "                         ... \n",
       "catch        part           1\n",
       "             poachers       1\n",
       "             polio          1\n",
       "             raccoons       1\n",
       "zone         more           1\n",
       "Length: 273812, dtype: int64"
      ]
     },
     "execution_count": 99,
     "metadata": {},
     "output_type": "execute_result"
    }
   ],
   "source": [
    "df_bigrams.value_counts()"
   ]
  },
  {
   "cell_type": "code",
   "execution_count": 104,
   "id": "95d18d63-ec67-4cf5-a72c-b55c6bb7a565",
   "metadata": {},
   "outputs": [],
   "source": [
    "df_bigrams.to_csv('df_bigrams.csv')"
   ]
  },
  {
   "cell_type": "code",
   "execution_count": 110,
   "id": "77309f3b-5ef0-41c0-9635-1e65cd1e1f77",
   "metadata": {},
   "outputs": [],
   "source": [
    "bi_vc = df_bigrams.value_counts().reset_index(name='counts')\n",
    "bi_vc.to_csv('bi_value_counts.csv')"
   ]
  },
  {
   "cell_type": "markdown",
   "id": "b9a936a0-2dc3-4f3a-aa4a-ad758695fac4",
   "metadata": {},
   "source": [
    "## Trigrams"
   ]
  },
  {
   "cell_type": "code",
   "execution_count": 101,
   "id": "57e90bf2-3b7b-4977-96e9-0dd3e5b83b0f",
   "metadata": {},
   "outputs": [],
   "source": [
    "trigram_measures = nltk.collocations.TrigramAssocMeasures()\n",
    "trigram_list = []\n",
    "for i in range(0, len(text_data)):\n",
    "    sample = text_data['desc_bigrams'][i]\n",
    "    finder = TrigramCollocationFinder.from_words(word_tokenize(sample))\n",
    "    top_15 = finder.nbest(trigram_measures.pmi, 15)\n",
    "    trigram_list = trigram_list + top_15"
   ]
  },
  {
   "cell_type": "code",
   "execution_count": 102,
   "id": "95290421-1411-486b-8e86-55bfe50fa662",
   "metadata": {},
   "outputs": [],
   "source": [
    "df_trigrams = pd.DataFrame(trigram_list)"
   ]
  },
  {
   "cell_type": "code",
   "execution_count": 103,
   "id": "47204996-4f57-4f7d-a44c-f45f9dbed710",
   "metadata": {},
   "outputs": [
    {
     "data": {
      "text/plain": [
       "0          1              2             \n",
       "new        york           times             369\n",
       "alternate  cover          edition           248\n",
       "new        york           city              102\n",
       "can        be             found             101\n",
       "before     its            too                98\n",
       "                                           ... \n",
       "deep       philosophical  questions           1\n",
       "                          messaging           1\n",
       "           personal       turmoil             1\n",
       "                          tragedy             1\n",
       "zyras      horrifying     torturedrugged      1\n",
       "Length: 402996, dtype: int64"
      ]
     },
     "execution_count": 103,
     "metadata": {},
     "output_type": "execute_result"
    }
   ],
   "source": [
    "df_trigrams.value_counts()"
   ]
  },
  {
   "cell_type": "code",
   "execution_count": 107,
   "id": "d07e8abf-2889-4d77-9d95-2e401ab4b601",
   "metadata": {},
   "outputs": [],
   "source": [
    "tri_vc = df_trigrams.value_counts().reset_index(name='counts')"
   ]
  },
  {
   "cell_type": "code",
   "execution_count": 105,
   "id": "74d5f1d4-9800-4cd2-b707-939472c05e82",
   "metadata": {},
   "outputs": [],
   "source": [
    "df_trigrams.to_csv('df_trigrams.csv')"
   ]
  },
  {
   "cell_type": "code",
   "execution_count": 109,
   "id": "77f0fcb0-165b-4180-ac33-5ccbae9c3ada",
   "metadata": {},
   "outputs": [],
   "source": [
    "tri_vc.to_csv('tri_value_counts.csv')"
   ]
  },
  {
   "cell_type": "markdown",
   "id": "4c1f9f0e-d3e9-4363-9346-5ea5415080e0",
   "metadata": {},
   "source": [
    "## Part of Speech"
   ]
  },
  {
   "cell_type": "code",
   "execution_count": 47,
   "id": "1a960cf5-965d-4db8-b044-c0d6380ce95c",
   "metadata": {},
   "outputs": [
    {
     "data": {
      "text/html": [
       "<div>\n",
       "<style scoped>\n",
       "    .dataframe tbody tr th:only-of-type {\n",
       "        vertical-align: middle;\n",
       "    }\n",
       "\n",
       "    .dataframe tbody tr th {\n",
       "        vertical-align: top;\n",
       "    }\n",
       "\n",
       "    .dataframe thead th {\n",
       "        text-align: right;\n",
       "    }\n",
       "</style>\n",
       "<table border=\"1\" class=\"dataframe\">\n",
       "  <thead>\n",
       "    <tr style=\"text-align: right;\">\n",
       "      <th></th>\n",
       "      <th>token</th>\n",
       "    </tr>\n",
       "  </thead>\n",
       "  <tbody>\n",
       "    <tr>\n",
       "      <th>0</th>\n",
       "      <td>fighting</td>\n",
       "    </tr>\n",
       "    <tr>\n",
       "      <th>1</th>\n",
       "      <td>helamans</td>\n",
       "    </tr>\n",
       "    <tr>\n",
       "      <th>2</th>\n",
       "      <td>army</td>\n",
       "    </tr>\n",
       "    <tr>\n",
       "      <th>3</th>\n",
       "      <td>keturahs</td>\n",
       "    </tr>\n",
       "    <tr>\n",
       "      <th>4</th>\n",
       "      <td>deepest</td>\n",
       "    </tr>\n",
       "    <tr>\n",
       "      <th>...</th>\n",
       "      <td>...</td>\n",
       "    </tr>\n",
       "    <tr>\n",
       "      <th>2315511</th>\n",
       "      <td>weight</td>\n",
       "    </tr>\n",
       "    <tr>\n",
       "      <th>2315512</th>\n",
       "      <td>survival</td>\n",
       "    </tr>\n",
       "    <tr>\n",
       "      <th>2315513</th>\n",
       "      <td>humanity</td>\n",
       "    </tr>\n",
       "    <tr>\n",
       "      <th>2315514</th>\n",
       "      <td>life</td>\n",
       "    </tr>\n",
       "    <tr>\n",
       "      <th>2315515</th>\n",
       "      <td>love</td>\n",
       "    </tr>\n",
       "  </tbody>\n",
       "</table>\n",
       "<p>2315516 rows × 1 columns</p>\n",
       "</div>"
      ],
      "text/plain": [
       "            token\n",
       "0        fighting\n",
       "1        helamans\n",
       "2            army\n",
       "3        keturahs\n",
       "4         deepest\n",
       "...           ...\n",
       "2315511    weight\n",
       "2315512  survival\n",
       "2315513  humanity\n",
       "2315514      life\n",
       "2315515      love\n",
       "\n",
       "[2315516 rows x 1 columns]"
      ]
     },
     "execution_count": 47,
     "metadata": {},
     "output_type": "execute_result"
    }
   ],
   "source": [
    "df_all_tokens"
   ]
  },
  {
   "cell_type": "code",
   "execution_count": 48,
   "id": "c36e47d3-2409-45ef-b7c9-a59329d4258f",
   "metadata": {},
   "outputs": [
    {
     "data": {
      "text/plain": [
       "token      \n",
       "one            16015\n",
       "life           13529\n",
       "new            12732\n",
       "world          10561\n",
       "love            9361\n",
       "               ...  \n",
       "mordecais          1\n",
       "frostbloods        1\n",
       "frostburg          1\n",
       "mordasov           1\n",
       "zzyxx              1\n",
       "Length: 152720, dtype: int64"
      ]
     },
     "execution_count": 48,
     "metadata": {},
     "output_type": "execute_result"
    }
   ],
   "source": [
    "df_all_tokens.value_counts()"
   ]
  },
  {
   "cell_type": "code",
   "execution_count": 50,
   "id": "3dd1f00e-7e2c-4963-8d40-089cf02067f9",
   "metadata": {},
   "outputs": [],
   "source": [
    "df_unqiue_tokens = df_all_tokens.value_counts().rename_axis('unique_tokens').reset_index(name='counts')"
   ]
  },
  {
   "cell_type": "code",
   "execution_count": 56,
   "id": "c608cd16-e7b4-41be-8378-edd28ea9c203",
   "metadata": {},
   "outputs": [
    {
     "name": "stderr",
     "output_type": "stream",
     "text": [
      "[nltk_data] Downloading package averaged_perceptron_tagger to\n",
      "[nltk_data]     /home/ec2-user/nltk_data...\n",
      "[nltk_data]   Unzipping taggers/averaged_perceptron_tagger.zip.\n"
     ]
    }
   ],
   "source": [
    "from nltk.corpus import stopwords\n",
    "from nltk.tokenize import word_tokenize, sent_tokenize\n",
    "nltk.download('averaged_perceptron_tagger')\n",
    "stop_words = set(stopwords.words('english'))\n",
    "tokens_list = list(df_unqiue_tokens['unique_tokens'])"
   ]
  },
  {
   "cell_type": "code",
   "execution_count": 57,
   "id": "22d3e15f-c112-4687-90a5-45373fbe835d",
   "metadata": {},
   "outputs": [],
   "source": [
    "tagged = nltk.pos_tag(tokens_list)"
   ]
  },
  {
   "cell_type": "code",
   "execution_count": 59,
   "id": "b8654452-597d-4fbf-b4f9-b0ebfb8ce5bd",
   "metadata": {},
   "outputs": [],
   "source": [
    "tagged_df = pd.DataFrame(tagged, columns=['Token', 'POS'])"
   ]
  },
  {
   "cell_type": "code",
   "execution_count": 69,
   "id": "9de830b5-dd69-416f-9d30-88594c5fb24f",
   "metadata": {},
   "outputs": [],
   "source": [
    "tagged_sorted = tagged_df.groupby('POS').size().sort_values(ascending=False)"
   ]
  },
  {
   "cell_type": "code",
   "execution_count": 71,
   "id": "1ac92215-bf07-408f-acbf-cd293fb3b121",
   "metadata": {},
   "outputs": [
    {
     "data": {
      "text/plain": [
       "POS\n",
       "NN      62312\n",
       "JJ      28814\n",
       "NNS     18625\n",
       "VBP     12803\n",
       "VBG      6950\n",
       "VBD      6064\n",
       "RB       6005\n",
       "VBZ      3351\n",
       "VBN      2182\n",
       "IN       1987\n",
       "VB        799\n",
       "FW        611\n",
       "JJR       398\n",
       "NNP       343\n",
       "WP        340\n",
       "JJS       281\n",
       "RBR       217\n",
       "CC        104\n",
       "CD        101\n",
       "RP         89\n",
       "DT         82\n",
       "MD         55\n",
       "PRP        54\n",
       "WRB        53\n",
       "WDT        29\n",
       "PRP$       25\n",
       "RBS        20\n",
       "EX         16\n",
       "PDT         4\n",
       "NNPS        4\n",
       "POS         1\n",
       "WP$         1\n",
       "dtype: int64"
      ]
     },
     "execution_count": 71,
     "metadata": {},
     "output_type": "execute_result"
    }
   ],
   "source": [
    "tagged_sorted"
   ]
  },
  {
   "cell_type": "code",
   "execution_count": 106,
   "id": "8b191704-3d07-4e19-9ae6-2d868db0e410",
   "metadata": {},
   "outputs": [],
   "source": [
    "tagged_sorted.to_csv('pos_tags.csv')"
   ]
  },
  {
   "cell_type": "code",
   "execution_count": null,
   "id": "db7734eb-32fc-42c9-aebb-f16a88fecaff",
   "metadata": {},
   "outputs": [],
   "source": []
  }
 ],
 "metadata": {
  "kernelspec": {
   "display_name": "Python 3 (ipykernel)",
   "language": "python",
   "name": "python3"
  },
  "language_info": {
   "codemirror_mode": {
    "name": "ipython",
    "version": 3
   },
   "file_extension": ".py",
   "mimetype": "text/x-python",
   "name": "python",
   "nbconvert_exporter": "python",
   "pygments_lexer": "ipython3",
   "version": "3.9.12"
  }
 },
 "nbformat": 4,
 "nbformat_minor": 5
}
