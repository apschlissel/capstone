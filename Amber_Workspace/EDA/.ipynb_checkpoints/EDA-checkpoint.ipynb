{
 "cells": [
  {
   "cell_type": "code",
   "execution_count": 1,
   "id": "d4189e9b-bb9f-405f-a492-d3233cdc0d94",
   "metadata": {},
   "outputs": [
    {
     "name": "stderr",
     "output_type": "stream",
     "text": [
      "[nltk_data] Downloading package wordnet to /home/ec2-user/nltk_data...\n",
      "[nltk_data]   Package wordnet is already up-to-date!\n",
      "[nltk_data] Downloading package omw-1.4 to /home/ec2-user/nltk_data...\n",
      "[nltk_data]   Package omw-1.4 is already up-to-date!\n",
      "[nltk_data] Downloading package stopwords to\n",
      "[nltk_data]     /home/ec2-user/nltk_data...\n",
      "[nltk_data]   Package stopwords is already up-to-date!\n",
      "[nltk_data] Downloading package punkt to /home/ec2-user/nltk_data...\n",
      "[nltk_data]   Package punkt is already up-to-date!\n"
     ]
    }
   ],
   "source": [
    "import s3fs\n",
    "import boto3\n",
    "import pandas as pd\n",
    "import nltk\n",
    "nltk.download('wordnet')\n",
    "nltk.download('omw-1.4')\n",
    "nltk.download('stopwords')\n",
    "nltk.download('punkt')\n",
    "\n",
    "import re\n",
    "from nltk.corpus import stopwords\n",
    "from nltk.corpus import wordnet\n",
    "from nltk.tokenize import word_tokenize"
   ]
  },
  {
   "cell_type": "code",
   "execution_count": 2,
   "id": "9aae697c-550f-4d4a-9301-73f747338213",
   "metadata": {},
   "outputs": [],
   "source": [
    "#ec2-jupyter-notebook-us-west-2-8c94c42abbd5478ca9a1a477613965a7 #amber's s3 bucket\n",
    "# Alison's s3 bucket"
   ]
  },
  {
   "cell_type": "code",
   "execution_count": 3,
   "id": "89fcec43-5cfa-409f-8bf0-65a86ba1687c",
   "metadata": {},
   "outputs": [
    {
     "name": "stdout",
     "output_type": "stream",
     "text": [
      "Total Text DF size: 29652\n"
     ]
    }
   ],
   "source": [
    "# csv file\n",
    "df_books_filtered = pd.read_csv('s3://ec2-jupyter-notebook-us-west-2-8c94c42abbd5478ca9a1a477613965a7/books_filtered.csv')\n",
    "text_data = pd.read_csv('s3://ec2-jupyter-notebook-us-west-2-8c94c42abbd5478ca9a1a477613965a7/books_filtered_colsreduced.csv')\n",
    "print('Total Text DF size:', len(text_data))\n",
    "\n",
    "#model_data = pd.read_csv('s3://book-data-ucb-capstone-s2022/tokenized_data.csv')\n",
    "#print('Tokenized Text DF Size:', len(model_data))"
   ]
  },
  {
   "cell_type": "code",
   "execution_count": 4,
   "id": "a35ea47a-33b8-4a73-9855-b8a032e59133",
   "metadata": {},
   "outputs": [],
   "source": [
    "def preprocess_text(text):\n",
    "\n",
    "  #lowercase text\n",
    "  text_preprocessed = text.lower()\n",
    "  #remove punctuation\n",
    "  text_preprocessed = re.sub(r'[^a-zA-Z ]+', '', text_preprocessed)\n",
    "  #tokenize for stopword removal\n",
    "  text_preprocessed = word_tokenize(text_preprocessed)\n",
    "  #remove stopwords\n",
    "  text_preprocessed = [word for word in text_preprocessed if word not in stopwords.words('english')]\n",
    "  #join to make string again\n",
    "  #text_preprocessed = (\" \").join(text_preprocessed)\n",
    "\n",
    "  return text_preprocessed"
   ]
  },
  {
   "cell_type": "code",
   "execution_count": 5,
   "id": "c5ec146c-0281-4e53-b6a1-1d635fddad0f",
   "metadata": {},
   "outputs": [
    {
     "name": "stdout",
     "output_type": "stream",
     "text": [
      "CPU times: user 4min 54s, sys: 24.7 s, total: 5min 19s\n",
      "Wall time: 5min 19s\n"
     ]
    }
   ],
   "source": [
    "%%time\n",
    "text_data['tokens'] = text_data['description'].apply(lambda x: preprocess_text(x))"
   ]
  },
  {
   "cell_type": "code",
   "execution_count": 6,
   "id": "246706d7-7dec-4dcf-90b6-23db8b7fce88",
   "metadata": {},
   "outputs": [
    {
     "data": {
      "text/plain": [
       "0    [winning, means, fame, fortunelosing, means, c...\n",
       "1    [door, end, silent, corridor, haunting, harry,...\n",
       "2    [unforgettable, novel, childhood, sleepy, sout...\n",
       "3    [alternate, cover, edition, isbn, since, immed...\n",
       "4    [three, things, absolutely, positivefirst, edw...\n",
       "Name: tokens, dtype: object"
      ]
     },
     "execution_count": 6,
     "metadata": {},
     "output_type": "execute_result"
    }
   ],
   "source": [
    "text_data['tokens'].head()"
   ]
  },
  {
   "cell_type": "code",
   "execution_count": null,
   "id": "1b3b08d7-7fda-447f-b8d9-f58a49da535f",
   "metadata": {},
   "outputs": [],
   "source": [
    "#save dataset to csv\n",
    "#model_data.to_csv('tokenized_data.csv')"
   ]
  },
  {
   "cell_type": "code",
   "execution_count": null,
   "id": "67a58d6d-8b81-4495-8325-211656f99a7e",
   "metadata": {},
   "outputs": [],
   "source": [
    "#upload dataset to s3 & google drive\n",
    "\n",
    "#Creating Session With Boto3.\n",
    "#session = boto3.Session(\n",
    "#aws_access_key_id='<your_access_key_id>',\n",
    "#aws_secret_access_key='<your_secret_access_key>'\n",
    "#)\n",
    "\n",
    "#Creating S3 Resource From the Session.\n",
    "#s3 = session.resource('s3')\n",
    "\n",
    "#result = s3.Bucket('ec2-jupyter-notebook-us-west-2-8c94c42abbd5478ca9a1a477613965a7').upload_file('E:/temp/testfile.txt','file2_uploaded_by_boto3.txt')\n",
    "\n",
    "#print(result)"
   ]
  },
  {
   "cell_type": "markdown",
   "id": "516ec0fb-201b-43af-aef0-337b586be40f",
   "metadata": {},
   "source": [
    "# EDA Plan"
   ]
  },
  {
   "cell_type": "markdown",
   "id": "7fea1fec-f17b-4884-bea8-cafa0cf0ce06",
   "metadata": {},
   "source": [
    "Overall EDA\n",
    "1. Book counts across main genres with visualization (histogram)\n",
    "2. Average rating per book - histogram \n",
    "3. % of dataset with award winning books\n",
    "4. Common genres paired together\n",
    "5. Number of Genres\n",
    "\n",
    "Description EDA\n",
    "1. Histogram of description length buckets (nice to have)\n",
    "2. Histogram of tokens per 'description' \n",
    "3. bi-grams and tri-grams per description \n",
    "4. most frequent words in descriptions - histograms - common adjectives used to describe books \n",
    "5. word types in description\n",
    "6. Average number of sentences in description"
   ]
  },
  {
   "cell_type": "markdown",
   "id": "531c4612-821c-4e00-969a-0fc1def2dbfd",
   "metadata": {},
   "source": [
    "## Overall EDA"
   ]
  },
  {
   "cell_type": "code",
   "execution_count": 7,
   "id": "81366161-1936-4d2e-bb7e-281d7eb34da0",
   "metadata": {},
   "outputs": [
    {
     "data": {
      "text/plain": [
       "['Unnamed: 0',\n",
       " 'bookId',\n",
       " 'title',\n",
       " 'series',\n",
       " 'author',\n",
       " 'description',\n",
       " 'isbn',\n",
       " 'genres',\n",
       " 'pages',\n",
       " 'publishDate',\n",
       " 'Fiction',\n",
       " 'Young Adult',\n",
       " 'Childrens',\n",
       " 'New Adult',\n",
       " 'Fantasy',\n",
       " 'History',\n",
       " 'Dystopia',\n",
       " 'Manga',\n",
       " 'Thriller',\n",
       " 'Graphic Novels',\n",
       " 'Romance',\n",
       " 'tokens']"
      ]
     },
     "execution_count": 7,
     "metadata": {},
     "output_type": "execute_result"
    }
   ],
   "source": [
    "text_data.columns.values.tolist()"
   ]
  },
  {
   "cell_type": "code",
   "execution_count": 8,
   "id": "b3e24fdd-3a9e-4369-81c2-9e90f58a5793",
   "metadata": {},
   "outputs": [
    {
     "data": {
      "text/plain": [
       "Young Adult       10264\n",
       "Childrens          3706\n",
       "New Adult          1289\n",
       "Fantasy           12677\n",
       "History              55\n",
       "Dystopia           1522\n",
       "Manga               593\n",
       "Thriller           3987\n",
       "Graphic Novels     1399\n",
       "Romance           11624\n",
       "dtype: int64"
      ]
     },
     "execution_count": 8,
     "metadata": {},
     "output_type": "execute_result"
    }
   ],
   "source": [
    "df_genres = text_data[['Young Adult', 'Childrens', 'New Adult', 'Fantasy', 'History', 'Dystopia', 'Manga', 'Thriller', 'Graphic Novels', 'Romance']]\n",
    "df_genres.count()"
   ]
  },
  {
   "cell_type": "code",
   "execution_count": 9,
   "id": "a2b28b4a-4fe2-48f1-a9ed-82875b9ab9bd",
   "metadata": {},
   "outputs": [
    {
     "data": {
      "text/plain": [
       "<AxesSubplot:>"
      ]
     },
     "execution_count": 9,
     "metadata": {},
     "output_type": "execute_result"
    },
    {
     "data": {
      "image/png": "[encoded data removed]",
      "text/plain": [
       "<Figure size 432x288 with 1 Axes>"
      ]
     },
     "metadata": {
      "needs_background": "light"
     },
     "output_type": "display_data"
    }
   ],
   "source": [
    "df_genres.count().plot(kind='bar')"
   ]
  },
  {
   "cell_type": "code",
   "execution_count": 10,
   "id": "d57ac103-6ad0-4124-a132-b6edf4e971ef",
   "metadata": {},
   "outputs": [],
   "source": [
    "genre_combos = df_genres.groupby(['Young Adult', 'Childrens', 'New Adult', 'Fantasy', 'History', 'Dystopia', 'Manga', 'Thriller', 'Graphic Novels', 'Romance'], dropna=False, as_index=False,).size().sort_values(by='size', axis=0, ascending=False)"
   ]
  },
  {
   "cell_type": "code",
   "execution_count": 11,
   "id": "f2f77791-533c-4a38-bd7e-c694f3d16fc6",
   "metadata": {},
   "outputs": [
    {
     "data": {
      "text/html": [
       "<div>\n",
       "<style scoped>\n",
       "    .dataframe tbody tr th:only-of-type {\n",
       "        vertical-align: middle;\n",
       "    }\n",
       "\n",
       "    .dataframe tbody tr th {\n",
       "        vertical-align: top;\n",
       "    }\n",
       "\n",
       "    .dataframe thead th {\n",
       "        text-align: right;\n",
       "    }\n",
       "</style>\n",
       "<table border=\"1\" class=\"dataframe\">\n",
       "  <thead>\n",
       "    <tr style=\"text-align: right;\">\n",
       "      <th></th>\n",
       "      <th>Young Adult</th>\n",
       "      <th>Childrens</th>\n",
       "      <th>New Adult</th>\n",
       "      <th>Fantasy</th>\n",
       "      <th>History</th>\n",
       "      <th>Dystopia</th>\n",
       "      <th>Manga</th>\n",
       "      <th>Thriller</th>\n",
       "      <th>Graphic Novels</th>\n",
       "      <th>Romance</th>\n",
       "      <th>size</th>\n",
       "    </tr>\n",
       "  </thead>\n",
       "  <tbody>\n",
       "    <tr>\n",
       "      <th>52</th>\n",
       "      <td>Young Adult</td>\n",
       "      <td>NaN</td>\n",
       "      <td>NaN</td>\n",
       "      <td>Fantasy</td>\n",
       "      <td>NaN</td>\n",
       "      <td>NaN</td>\n",
       "      <td>NaN</td>\n",
       "      <td>NaN</td>\n",
       "      <td>NaN</td>\n",
       "      <td>Romance</td>\n",
       "      <td>2121</td>\n",
       "    </tr>\n",
       "    <tr>\n",
       "      <th>114</th>\n",
       "      <td>NaN</td>\n",
       "      <td>NaN</td>\n",
       "      <td>NaN</td>\n",
       "      <td>Fantasy</td>\n",
       "      <td>NaN</td>\n",
       "      <td>NaN</td>\n",
       "      <td>NaN</td>\n",
       "      <td>NaN</td>\n",
       "      <td>NaN</td>\n",
       "      <td>Romance</td>\n",
       "      <td>1993</td>\n",
       "    </tr>\n",
       "    <tr>\n",
       "      <th>13</th>\n",
       "      <td>Young Adult</td>\n",
       "      <td>Childrens</td>\n",
       "      <td>NaN</td>\n",
       "      <td>Fantasy</td>\n",
       "      <td>NaN</td>\n",
       "      <td>NaN</td>\n",
       "      <td>NaN</td>\n",
       "      <td>NaN</td>\n",
       "      <td>NaN</td>\n",
       "      <td>NaN</td>\n",
       "      <td>1418</td>\n",
       "    </tr>\n",
       "    <tr>\n",
       "      <th>69</th>\n",
       "      <td>Young Adult</td>\n",
       "      <td>NaN</td>\n",
       "      <td>NaN</td>\n",
       "      <td>NaN</td>\n",
       "      <td>NaN</td>\n",
       "      <td>NaN</td>\n",
       "      <td>NaN</td>\n",
       "      <td>NaN</td>\n",
       "      <td>NaN</td>\n",
       "      <td>Romance</td>\n",
       "      <td>1059</td>\n",
       "    </tr>\n",
       "    <tr>\n",
       "      <th>20</th>\n",
       "      <td>Young Adult</td>\n",
       "      <td>Childrens</td>\n",
       "      <td>NaN</td>\n",
       "      <td>NaN</td>\n",
       "      <td>NaN</td>\n",
       "      <td>NaN</td>\n",
       "      <td>NaN</td>\n",
       "      <td>NaN</td>\n",
       "      <td>NaN</td>\n",
       "      <td>NaN</td>\n",
       "      <td>1017</td>\n",
       "    </tr>\n",
       "    <tr>\n",
       "      <th>53</th>\n",
       "      <td>Young Adult</td>\n",
       "      <td>NaN</td>\n",
       "      <td>NaN</td>\n",
       "      <td>Fantasy</td>\n",
       "      <td>NaN</td>\n",
       "      <td>NaN</td>\n",
       "      <td>NaN</td>\n",
       "      <td>NaN</td>\n",
       "      <td>NaN</td>\n",
       "      <td>NaN</td>\n",
       "      <td>969</td>\n",
       "    </tr>\n",
       "    <tr>\n",
       "      <th>70</th>\n",
       "      <td>Young Adult</td>\n",
       "      <td>NaN</td>\n",
       "      <td>NaN</td>\n",
       "      <td>NaN</td>\n",
       "      <td>NaN</td>\n",
       "      <td>NaN</td>\n",
       "      <td>NaN</td>\n",
       "      <td>NaN</td>\n",
       "      <td>NaN</td>\n",
       "      <td>NaN</td>\n",
       "      <td>579</td>\n",
       "    </tr>\n",
       "    <tr>\n",
       "      <th>31</th>\n",
       "      <td>Young Adult</td>\n",
       "      <td>NaN</td>\n",
       "      <td>New Adult</td>\n",
       "      <td>NaN</td>\n",
       "      <td>NaN</td>\n",
       "      <td>NaN</td>\n",
       "      <td>NaN</td>\n",
       "      <td>NaN</td>\n",
       "      <td>NaN</td>\n",
       "      <td>Romance</td>\n",
       "      <td>561</td>\n",
       "    </tr>\n",
       "    <tr>\n",
       "      <th>111</th>\n",
       "      <td>NaN</td>\n",
       "      <td>NaN</td>\n",
       "      <td>NaN</td>\n",
       "      <td>Fantasy</td>\n",
       "      <td>NaN</td>\n",
       "      <td>NaN</td>\n",
       "      <td>NaN</td>\n",
       "      <td>Thriller</td>\n",
       "      <td>NaN</td>\n",
       "      <td>NaN</td>\n",
       "      <td>487</td>\n",
       "    </tr>\n",
       "    <tr>\n",
       "      <th>131</th>\n",
       "      <td>NaN</td>\n",
       "      <td>NaN</td>\n",
       "      <td>NaN</td>\n",
       "      <td>NaN</td>\n",
       "      <td>NaN</td>\n",
       "      <td>NaN</td>\n",
       "      <td>NaN</td>\n",
       "      <td>Thriller</td>\n",
       "      <td>NaN</td>\n",
       "      <td>Romance</td>\n",
       "      <td>440</td>\n",
       "    </tr>\n",
       "    <tr>\n",
       "      <th>39</th>\n",
       "      <td>Young Adult</td>\n",
       "      <td>NaN</td>\n",
       "      <td>NaN</td>\n",
       "      <td>Fantasy</td>\n",
       "      <td>NaN</td>\n",
       "      <td>Dystopia</td>\n",
       "      <td>NaN</td>\n",
       "      <td>NaN</td>\n",
       "      <td>NaN</td>\n",
       "      <td>Romance</td>\n",
       "      <td>431</td>\n",
       "    </tr>\n",
       "  </tbody>\n",
       "</table>\n",
       "</div>"
      ],
      "text/plain": [
       "     Young Adult  Childrens  New Adult  Fantasy History  Dystopia Manga  \\\n",
       "52   Young Adult        NaN        NaN  Fantasy     NaN       NaN   NaN   \n",
       "114          NaN        NaN        NaN  Fantasy     NaN       NaN   NaN   \n",
       "13   Young Adult  Childrens        NaN  Fantasy     NaN       NaN   NaN   \n",
       "69   Young Adult        NaN        NaN      NaN     NaN       NaN   NaN   \n",
       "20   Young Adult  Childrens        NaN      NaN     NaN       NaN   NaN   \n",
       "53   Young Adult        NaN        NaN  Fantasy     NaN       NaN   NaN   \n",
       "70   Young Adult        NaN        NaN      NaN     NaN       NaN   NaN   \n",
       "31   Young Adult        NaN  New Adult      NaN     NaN       NaN   NaN   \n",
       "111          NaN        NaN        NaN  Fantasy     NaN       NaN   NaN   \n",
       "131          NaN        NaN        NaN      NaN     NaN       NaN   NaN   \n",
       "39   Young Adult        NaN        NaN  Fantasy     NaN  Dystopia   NaN   \n",
       "\n",
       "     Thriller Graphic Novels  Romance  size  \n",
       "52        NaN            NaN  Romance  2121  \n",
       "114       NaN            NaN  Romance  1993  \n",
       "13        NaN            NaN      NaN  1418  \n",
       "69        NaN            NaN  Romance  1059  \n",
       "20        NaN            NaN      NaN  1017  \n",
       "53        NaN            NaN      NaN   969  \n",
       "70        NaN            NaN      NaN   579  \n",
       "31        NaN            NaN  Romance   561  \n",
       "111  Thriller            NaN      NaN   487  \n",
       "131  Thriller            NaN  Romance   440  \n",
       "39        NaN            NaN  Romance   431  "
      ]
     },
     "execution_count": 11,
     "metadata": {},
     "output_type": "execute_result"
    }
   ],
   "source": [
    "genre_combos[4:15]"
   ]
  },
  {
   "cell_type": "code",
   "execution_count": 12,
   "id": "1e4da610-dd42-4010-9347-bed59620691b",
   "metadata": {},
   "outputs": [],
   "source": [
    "award_count = 0\n",
    "for x in df_books_filtered['awards']:\n",
    "    if x != \"[]\":\n",
    "        award_count = award_count + 1"
   ]
  },
  {
   "cell_type": "code",
   "execution_count": 13,
   "id": "acc53a58-1762-48f0-ab33-79846c2a98fd",
   "metadata": {},
   "outputs": [
    {
     "data": {
      "text/plain": [
       "7655"
      ]
     },
     "execution_count": 13,
     "metadata": {},
     "output_type": "execute_result"
    }
   ],
   "source": [
    "award_count"
   ]
  },
  {
   "cell_type": "code",
   "execution_count": 14,
   "id": "5ac923d4-f70b-4c88-905e-e199e187cd62",
   "metadata": {},
   "outputs": [
    {
     "name": "stdout",
     "output_type": "stream",
     "text": [
      "Percentage of award winning books: 0.2581613381896668\n"
     ]
    }
   ],
   "source": [
    "print(\"Percentage of award winning books:\", 7655 / len(df_books_filtered))"
   ]
  },
  {
   "cell_type": "code",
   "execution_count": 15,
   "id": "34e7826e-8aa7-4413-9077-053d8ab81dc6",
   "metadata": {},
   "outputs": [
    {
     "data": {
      "text/plain": [
       "<AxesSubplot:>"
      ]
     },
     "execution_count": 15,
     "metadata": {},
     "output_type": "execute_result"
    },
    {
     "data": {
      "image/png": "[encoded data removed]",
      "text/plain": [
       "<Figure size 432x288 with 1 Axes>"
      ]
     },
     "metadata": {
      "needs_background": "light"
     },
     "output_type": "display_data"
    }
   ],
   "source": [
    "df_books_filtered['rating'].hist()"
   ]
  },
  {
   "cell_type": "code",
   "execution_count": 16,
   "id": "5cd1bf38-bdf7-48e6-9fb9-861bc533354d",
   "metadata": {},
   "outputs": [
    {
     "data": {
      "text/plain": [
       "3.9797497639282264"
      ]
     },
     "execution_count": 16,
     "metadata": {},
     "output_type": "execute_result"
    }
   ],
   "source": [
    "df_books_filtered['rating'].mean()"
   ]
  },
  {
   "cell_type": "markdown",
   "id": "c95678ad-01a0-49f9-b71c-6f4f0e9a4f2f",
   "metadata": {},
   "source": [
    "# Description EDA"
   ]
  },
  {
   "cell_type": "markdown",
   "id": "c0d0dd70-9e6a-42db-b277-c0269a1527a5",
   "metadata": {},
   "source": [
    "## Token EDA"
   ]
  },
  {
   "cell_type": "code",
   "execution_count": 17,
   "id": "ba1e62ed-4fc1-4679-85ae-13e29e08e5d2",
   "metadata": {},
   "outputs": [],
   "source": [
    "text_data['token_length'] = text_data['tokens'].apply(lambda x: len(x))"
   ]
  },
  {
   "cell_type": "code",
   "execution_count": 18,
   "id": "9b7cc236-0cc4-4ac9-9f8f-3ee2e32686e8",
   "metadata": {},
   "outputs": [
    {
     "data": {
      "text/plain": [
       "78.08970727101038"
      ]
     },
     "execution_count": 18,
     "metadata": {},
     "output_type": "execute_result"
    }
   ],
   "source": [
    "text_data['token_length'].mean()"
   ]
  },
  {
   "cell_type": "code",
   "execution_count": 19,
   "id": "45217937-1a28-4d28-9c18-d803a795574c",
   "metadata": {},
   "outputs": [
    {
     "data": {
      "text/plain": [
       "0"
      ]
     },
     "execution_count": 19,
     "metadata": {},
     "output_type": "execute_result"
    }
   ],
   "source": [
    "text_data['token_length'].min()"
   ]
  },
  {
   "cell_type": "code",
   "execution_count": 20,
   "id": "ae66369c-0d9a-4553-aac8-f9ba4789f24c",
   "metadata": {},
   "outputs": [
    {
     "data": {
      "text/plain": [
       "759"
      ]
     },
     "execution_count": 20,
     "metadata": {},
     "output_type": "execute_result"
    }
   ],
   "source": [
    "text_data['token_length'].max()"
   ]
  },
  {
   "cell_type": "code",
   "execution_count": 21,
   "id": "b4242554-883b-4910-b40c-1f43a17e0c82",
   "metadata": {},
   "outputs": [
    {
     "data": {
      "text/plain": [
       "<AxesSubplot:>"
      ]
     },
     "execution_count": 21,
     "metadata": {},
     "output_type": "execute_result"
    },
    {
     "data": {
      "image/png": "[encoded data removed]",
      "text/plain": [
       "<Figure size 432x288 with 1 Axes>"
      ]
     },
     "metadata": {
      "needs_background": "light"
     },
     "output_type": "display_data"
    }
   ],
   "source": [
    "text_data['token_length'].hist()"
   ]
  },
  {
   "cell_type": "code",
   "execution_count": null,
   "id": "e50ee060-f559-49d9-95db-3b23c74fe53f",
   "metadata": {},
   "outputs": [],
   "source": [
    "#most frequent tokens\n",
    "%%time\n",
    "all_tokens = []\n",
    "for i in text_data['tokens']:\n",
    "    all_tokens = i + all_tokens"
   ]
  },
  {
   "cell_type": "code",
   "execution_count": 58,
   "id": "df64e712-3604-4be3-adce-452c9c7a57e8",
   "metadata": {},
   "outputs": [],
   "source": [
    "df_all_tokens = pd.DataFrame(all_tokens, columns = ['token']) "
   ]
  },
  {
   "cell_type": "code",
   "execution_count": 65,
   "id": "343e08e2-df77-4215-9896-5965387fe2b0",
   "metadata": {},
   "outputs": [
    {
     "data": {
      "text/plain": [
       "one        16015\n",
       "life       13529\n",
       "new        12732\n",
       "world      10561\n",
       "love        9361\n",
       "time        7001\n",
       "story       6892\n",
       "first       6425\n",
       "family      6267\n",
       "man         5940\n",
       "find        5879\n",
       "must        5813\n",
       "novel       5730\n",
       "two         5679\n",
       "shes        5564\n",
       "years       5446\n",
       "young       5404\n",
       "even        5349\n",
       "book        5264\n",
       "never       5153\n",
       "like        4571\n",
       "way         4529\n",
       "back        4512\n",
       "ever        4282\n",
       "could       4266\n",
       "hes         4170\n",
       "war         3988\n",
       "home        3818\n",
       "past        3764\n",
       "series      3753\n",
       "finds       3742\n",
       "secret      3690\n",
       "woman       3685\n",
       "people      3628\n",
       "friends     3574\n",
       "make        3562\n",
       "girl        3555\n",
       "lives       3431\n",
       "best        3425\n",
       "dark        3418\n",
       "death       3381\n",
       "would       3370\n",
       "get         3365\n",
       "author      3313\n",
       "heart       3295\n",
       "help        3243\n",
       "old         3141\n",
       "father      3084\n",
       "knows       3071\n",
       "may         3058\n",
       "Name: token, dtype: int64"
      ]
     },
     "execution_count": 65,
     "metadata": {},
     "output_type": "execute_result"
    }
   ],
   "source": [
    "df_all_tokens['token'].value_counts()[0:50]"
   ]
  },
  {
   "cell_type": "code",
   "execution_count": 68,
   "id": "45d6d047-f6b4-4536-ad5c-3b3f1ddfb074",
   "metadata": {},
   "outputs": [
    {
     "data": {
      "text/plain": [
       "<AxesSubplot:>"
      ]
     },
     "execution_count": 68,
     "metadata": {},
     "output_type": "execute_result"
    },
    {
     "data": {
      "image/png": "[encoded data removed]",
      "text/plain": [
       "<Figure size 432x288 with 1 Axes>"
      ]
     },
     "metadata": {
      "needs_background": "light"
     },
     "output_type": "display_data"
    }
   ],
   "source": [
    "df_all_tokens['token'].value_counts()[0:50].plot.bar()"
   ]
  },
  {
   "cell_type": "markdown",
   "id": "d1b4990d-cc46-4f26-93e7-d38ab9347cbb",
   "metadata": {},
   "source": [
    "## Full Text EDA"
   ]
  },
  {
   "cell_type": "code",
   "execution_count": 69,
   "id": "59ae8701-7d9b-45fc-8df9-071c6fd0cfb9",
   "metadata": {},
   "outputs": [],
   "source": [
    "text_data['description_len'] = text_data['description'].apply(lambda x: len(x))"
   ]
  },
  {
   "cell_type": "code",
   "execution_count": 70,
   "id": "31f7bcec-c611-490c-9658-36bd5efbef61",
   "metadata": {},
   "outputs": [
    {
     "data": {
      "text/plain": [
       "6"
      ]
     },
     "execution_count": 70,
     "metadata": {},
     "output_type": "execute_result"
    }
   ],
   "source": [
    "text_data['description_len'].min()"
   ]
  },
  {
   "cell_type": "code",
   "execution_count": 71,
   "id": "872ff888-b7a7-43f4-ba33-ed697ce30ea5",
   "metadata": {},
   "outputs": [
    {
     "data": {
      "text/plain": [
       "7802"
      ]
     },
     "execution_count": 71,
     "metadata": {},
     "output_type": "execute_result"
    }
   ],
   "source": [
    "text_data['description_len'].max()"
   ]
  },
  {
   "cell_type": "code",
   "execution_count": 87,
   "id": "286509ee-6100-46fe-a804-796969e71ef7",
   "metadata": {},
   "outputs": [
    {
     "data": {
      "text/plain": [
       "831.800182112505"
      ]
     },
     "execution_count": 87,
     "metadata": {},
     "output_type": "execute_result"
    }
   ],
   "source": [
    "text_data['description_len'].mean()"
   ]
  },
  {
   "cell_type": "code",
   "execution_count": 88,
   "id": "52b52402-879d-4610-b840-c037ac649309",
   "metadata": {},
   "outputs": [
    {
     "data": {
      "text/plain": [
       "<AxesSubplot:>"
      ]
     },
     "execution_count": 88,
     "metadata": {},
     "output_type": "execute_result"
    },
    {
     "data": {
      "image/png": "[encoded data removed]",
      "text/plain": [
       "<Figure size 432x288 with 1 Axes>"
      ]
     },
     "metadata": {
      "needs_background": "light"
     },
     "output_type": "display_data"
    }
   ],
   "source": [
    "text_data['description_len'].hist()"
   ]
  },
  {
   "cell_type": "code",
   "execution_count": 91,
   "id": "87cd5675-7058-4888-9b78-c08e7b9ca272",
   "metadata": {},
   "outputs": [],
   "source": [
    "text_data['sentence_count'] = text_data['description'].apply(lambda x: x.count('.'))"
   ]
  },
  {
   "cell_type": "code",
   "execution_count": 93,
   "id": "0c3ecfa4-5971-4008-a7a8-dc8c609a2d75",
   "metadata": {},
   "outputs": [
    {
     "data": {
      "text/plain": [
       "7.908100634021314"
      ]
     },
     "execution_count": 93,
     "metadata": {},
     "output_type": "execute_result"
    }
   ],
   "source": [
    "text_data['sentence_count'].mean()"
   ]
  },
  {
   "cell_type": "code",
   "execution_count": 94,
   "id": "08e94865-b8a9-45df-83ff-dbdfd314c918",
   "metadata": {},
   "outputs": [
    {
     "data": {
      "text/plain": [
       "0"
      ]
     },
     "execution_count": 94,
     "metadata": {},
     "output_type": "execute_result"
    }
   ],
   "source": [
    "text_data['sentence_count'].min()"
   ]
  },
  {
   "cell_type": "code",
   "execution_count": 95,
   "id": "d72e6193-695d-473b-b7f7-3698d69c5a57",
   "metadata": {},
   "outputs": [
    {
     "data": {
      "text/plain": [
       "112"
      ]
     },
     "execution_count": 95,
     "metadata": {},
     "output_type": "execute_result"
    }
   ],
   "source": [
    "text_data['sentence_count'].max()"
   ]
  },
  {
   "cell_type": "code",
   "execution_count": 96,
   "id": "2ccea703-4fe1-4a03-b4fa-fdae5a5221b8",
   "metadata": {},
   "outputs": [
    {
     "data": {
      "text/plain": [
       "<AxesSubplot:>"
      ]
     },
     "execution_count": 96,
     "metadata": {},
     "output_type": "execute_result"
    },
    {
     "data": {
      "image/png": "[encoded data removed]",
      "text/plain": [
       "<Figure size 432x288 with 1 Axes>"
      ]
     },
     "metadata": {
      "needs_background": "light"
     },
     "output_type": "display_data"
    }
   ],
   "source": [
    "text_data['sentence_count'].hist()"
   ]
  },
  {
   "cell_type": "markdown",
   "id": "97e8432b-5a63-40a1-accd-618f390bab81",
   "metadata": {},
   "source": [
    "## Example Bi/trigams"
   ]
  },
  {
   "cell_type": "code",
   "execution_count": 84,
   "id": "2c64613f-3212-496e-aff7-9eb5737085fe",
   "metadata": {},
   "outputs": [],
   "source": [
    "import nltk\n",
    ">>> from nltk.collocations import *"
   ]
  },
  {
   "cell_type": "markdown",
   "id": "6bb4cb13-a4ac-4e4d-9620-1e7c84c636fb",
   "metadata": {},
   "source": [
    "# Example"
   ]
  },
  {
   "cell_type": "code",
   "execution_count": 82,
   "id": "759ce02e-3202-4783-8941-e37d1da6bac8",
   "metadata": {},
   "outputs": [],
   "source": [
    "sample = text_data['description'][0]\n",
    "sample = sample.lower()\n",
    "sample = re.sub(r'[^a-zA-Z ]+', '', sample)"
   ]
  },
  {
   "cell_type": "code",
   "execution_count": 83,
   "id": "64705072-a43d-44b0-af80-1bef4c3e194e",
   "metadata": {},
   "outputs": [
    {
     "data": {
      "text/plain": [
       "'winning means fame and fortunelosing means certain deaththe hunger games have begun   in the ruins of a place once known as north america lies the nation of panem a shining capitol surrounded by twelve outlying districts the capitol is harsh and cruel and keeps the districts in line by forcing them all to send one boy and once girl between the ages of twelve and eighteen to participate in the annual hunger games a fight to the death on live tvsixteenyearold katniss everdeen regards it as a death sentence when she steps forward to take her sisters place in the games but katniss has been close to dead beforeand survival for her is second nature without really meaning to she becomes a contender but if she is to win she will have to start making choices that weight survival against humanity and life against love'"
      ]
     },
     "execution_count": 83,
     "metadata": {},
     "output_type": "execute_result"
    }
   ],
   "source": [
    "sample"
   ]
  },
  {
   "cell_type": "code",
   "execution_count": 86,
   "id": "206c2618-f2ab-4a80-98cd-82e105e907c0",
   "metadata": {},
   "outputs": [
    {
     "data": {
      "text/plain": [
       "[('in', 'the')]"
      ]
     },
     "execution_count": 86,
     "metadata": {},
     "output_type": "execute_result"
    }
   ],
   "source": [
    "bigram_measures = nltk.collocations.BigramAssocMeasures()\n",
    "trigram_measures = nltk.collocations.TrigramAssocMeasures()\n",
    "fourgram_measures = nltk.collocations.QuadgramAssocMeasures()\n",
    "finder = BigramCollocationFinder.from_words(word_tokenize(sample))\n",
    "finder.apply_freq_filter(3)\n",
    "finder.nbest(bigram_measures.pmi, 15)\n",
    "finder.nbest(trigram_measures.pmi, 15)\n",
    "finder.nbest(fourgram_measures.pmi, 15)"
   ]
  },
  {
   "cell_type": "markdown",
   "id": "2950233d-e2b1-491a-8d29-8130ab953752",
   "metadata": {},
   "source": [
    "## Pre-Processing"
   ]
  },
  {
   "cell_type": "code",
   "execution_count": null,
   "id": "48464384-483a-4226-bc9c-5f0858ea0f35",
   "metadata": {},
   "outputs": [],
   "source": [
    "def simple_processing(sample):\n",
    "    sample = sample.lower()\n",
    "    sample = re.sub(r'[^a-zA-Z ]+', '', sample)\n",
    "    sample = word_tokenize(sample)\n",
    "    return sample"
   ]
  },
  {
   "cell_type": "markdown",
   "id": "2ed69a9d-a5ac-43e5-8a4b-cd6a5882c355",
   "metadata": {},
   "source": [
    "## Bigrams"
   ]
  },
  {
   "cell_type": "code",
   "execution_count": null,
   "id": "48f9388c-830b-4097-87ac-539829995e4e",
   "metadata": {},
   "outputs": [],
   "source": [
    "%%time\n",
    "text_data['desc_bigrams'] = text_data['description'].apply(lambda x: simple_processing(x))\n",
    "text_data['desc_bigrams'] = text_data['desc_bigrams'].apply(lambda x: BigramCollocationFinder.from_words(x).apply_freq_filter(3).nbest(bigram_measures.pmi, 15))"
   ]
  },
  {
   "cell_type": "code",
   "execution_count": null,
   "id": "5f528b09-8ae4-49ce-bf25-7c6644f284d0",
   "metadata": {},
   "outputs": [],
   "source": [
    "#most frequent bigrams\n",
    "%%time\n",
    "all_bigrams = []\n",
    "for i in text_data['desc_bigrams']:\n",
    "    all_bigrams = i + all_bigrams"
   ]
  },
  {
   "cell_type": "code",
   "execution_count": null,
   "id": "15ef36ab-d3d7-477e-9b8c-b26a77c06589",
   "metadata": {},
   "outputs": [],
   "source": [
    "df_all_bigrams = pd.DataFrame(all_brigrams, columns = ['bigram'])\n",
    "df_all_bigrams['bigram'].value_counts()"
   ]
  },
  {
   "cell_type": "markdown",
   "id": "b9a936a0-2dc3-4f3a-aa4a-ad758695fac4",
   "metadata": {},
   "source": [
    "## Trigrams"
   ]
  },
  {
   "cell_type": "code",
   "execution_count": null,
   "id": "57e90bf2-3b7b-4977-96e9-0dd3e5b83b0f",
   "metadata": {},
   "outputs": [],
   "source": [
    "%%time\n",
    "text_data['desc_trigrams'] = text_data['description'].apply(lambda x: simple_processing(x))\n",
    "text_data['desc_trigrams'] = text_data['desc_trigrams'].apply(lambda x: TrigramCollocationFinder.from_words(x).apply_freq_filter(3).nbest(trigram_measures.pmi, 15))"
   ]
  },
  {
   "cell_type": "code",
   "execution_count": null,
   "id": "2a496a17-a448-43e7-91c7-7cdda57f8fd6",
   "metadata": {},
   "outputs": [],
   "source": [
    "%%time\n",
    "all_trigrams = []\n",
    "for i in text_data['desc_trigrams']:\n",
    "    all_bigrams = i + all_trigrams"
   ]
  },
  {
   "cell_type": "code",
   "execution_count": null,
   "id": "e027b6d4-4f3b-41ec-9917-2d8b65fcfd87",
   "metadata": {},
   "outputs": [],
   "source": [
    "df_all_trigrams = pd.DataFrame(all_brigrams, columns = ['trigram'])\n",
    "df_all_trigrams['trigram'].value_counts()"
   ]
  },
  {
   "cell_type": "markdown",
   "id": "4c1f9f0e-d3e9-4363-9346-5ea5415080e0",
   "metadata": {},
   "source": [
    "## Part of Speech"
   ]
  },
  {
   "cell_type": "code",
   "execution_count": null,
   "id": "672a1a61-5c06-44cc-888c-d4bd758df63d",
   "metadata": {},
   "outputs": [],
   "source": [
    "import spacy\n",
    "df_all_tokens['POS'] = df_all_tokens['token'].apply(lambda x: x.pos_)\n",
    "df_all_tokens['token'].value_counts()"
   ]
  }
 ],
 "metadata": {
  "kernelspec": {
   "display_name": "Python 3 (ipykernel)",
   "language": "python",
   "name": "python3"
  },
  "language_info": {
   "codemirror_mode": {
    "name": "ipython",
    "version": 3
   },
   "file_extension": ".py",
   "mimetype": "text/x-python",
   "name": "python",
   "nbconvert_exporter": "python",
   "pygments_lexer": "ipython3",
   "version": "3.9.12"
  }
 },
 "nbformat": 4,
 "nbformat_minor": 5
}
