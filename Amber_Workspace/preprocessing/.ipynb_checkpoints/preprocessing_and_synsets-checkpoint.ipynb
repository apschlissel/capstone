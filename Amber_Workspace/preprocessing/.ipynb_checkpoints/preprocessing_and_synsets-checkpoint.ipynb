{
  "nbformat": 4,
  "nbformat_minor": 0,
  "metadata": {
    "colab": {
      "name": "preprocessing_and_synsets.ipynb",
      "provenance": [],
      "collapsed_sections": [],
      "mount_file_id": "1bSZPyZ-g_Bpk13Ih8nai2iu1qTULNDUe",
      "authorship_tag": "ABX9TyNirkimEhHHhZtBkJnIekyC",
      "include_colab_link": true
    },
    "kernelspec": {
      "name": "python3",
      "display_name": "Python 3"
    },
    "language_info": {
      "name": "python"
    }
  },
  "cells": [
    {
      "cell_type": "markdown",
      "metadata": {
        "id": "view-in-github",
        "colab_type": "text"
      },
      "source": [
        "<a href=\"https://colab.research.google.com/github/apschlissel/capstone/blob/main/preprocessing/preprocessing_and_synsets.ipynb\" target=\"_parent\"><img src=\"https://colab.research.google.com/assets/colab-badge.svg\" alt=\"Open In Colab\"/></a>"
      ]
    },
    {
      "cell_type": "code",
      "execution_count": 1,
      "metadata": {
        "id": "FbpI2NdIK4YM"
      },
      "outputs": [],
      "source": [
        "import pandas as pd\n",
        "pd.set_option(\"display.max_rows\", None)"
      ]
    },
    {
      "cell_type": "code",
      "source": [
        "data = '/content/drive/MyDrive/w210/books_1.Best_Books_Ever.csv'"
      ],
      "metadata": {
        "id": "-A8N-UWUK9Pu"
      },
      "execution_count": 2,
      "outputs": []
    },
    {
      "cell_type": "code",
      "source": [
        "df = pd.read_csv(data)\n",
        "df.head()"
      ],
      "metadata": {
        "colab": {
          "base_uri": "https://localhost:8080/",
          "height": 681
        },
        "id": "Fd6r2ywrK-wM",
        "outputId": "9d1e06a3-ad72-490c-87b5-121857726ea0"
      },
      "execution_count": 4,
      "outputs": [
        {
          "output_type": "execute_result",
          "data": {
            "text/plain": [
              "                                        bookId  \\\n",
              "0                     2767052-the-hunger-games   \n",
              "1  2.Harry_Potter_and_the_Order_of_the_Phoenix   \n",
              "2                   2657.To_Kill_a_Mockingbird   \n",
              "3                     1885.Pride_and_Prejudice   \n",
              "4                               41865.Twilight   \n",
              "\n",
              "                                       title                 series  \\\n",
              "0                           The Hunger Games    The Hunger Games #1   \n",
              "1  Harry Potter and the Order of the Phoenix        Harry Potter #5   \n",
              "2                      To Kill a Mockingbird  To Kill a Mockingbird   \n",
              "3                        Pride and Prejudice                    NaN   \n",
              "4                                   Twilight   The Twilight Saga #1   \n",
              "\n",
              "                                      author  rating  \\\n",
              "0                            Suzanne Collins    4.33   \n",
              "1  J.K. Rowling, Mary GrandPré (Illustrator)    4.50   \n",
              "2                                 Harper Lee    4.28   \n",
              "3  Jane Austen, Anna Quindlen (Introduction)    4.26   \n",
              "4                            Stephenie Meyer    3.60   \n",
              "\n",
              "                                         description language           isbn  \\\n",
              "0  WINNING MEANS FAME AND FORTUNE.LOSING MEANS CE...  English  9780439023481   \n",
              "1  There is a door at the end of a silent corrido...  English  9780439358071   \n",
              "2  The unforgettable novel of a childhood in a sl...  English  9999999999999   \n",
              "3  Alternate cover edition of ISBN 9780679783268S...  English  9999999999999   \n",
              "4  About three things I was absolutely positive.\\...  English  9780316015844   \n",
              "\n",
              "                                              genres  \\\n",
              "0  ['Young Adult', 'Fiction', 'Dystopia', 'Fantas...   \n",
              "1  ['Fantasy', 'Young Adult', 'Fiction', 'Magic',...   \n",
              "2  ['Classics', 'Fiction', 'Historical Fiction', ...   \n",
              "3  ['Classics', 'Fiction', 'Romance', 'Historical...   \n",
              "4  ['Young Adult', 'Fantasy', 'Romance', 'Vampire...   \n",
              "\n",
              "                                          characters  ... firstPublishDate  \\\n",
              "0  ['Katniss Everdeen', 'Peeta Mellark', 'Cato (H...  ...              NaN   \n",
              "1  ['Sirius Black', 'Draco Malfoy', 'Ron Weasley'...  ...         06/21/03   \n",
              "2  ['Scout Finch', 'Atticus Finch', 'Jem Finch', ...  ...         07/11/60   \n",
              "3  ['Mr. Bennet', 'Mrs. Bennet', 'Jane Bennet', '...  ...         01/28/13   \n",
              "4  ['Edward Cullen', 'Jacob Black', 'Laurent', 'R...  ...         10/05/05   \n",
              "\n",
              "                                              awards numRatings  \\\n",
              "0  ['Locus Award Nominee for Best Young Adult Boo...    6376780   \n",
              "1  ['Bram Stoker Award for Works for Young Reader...    2507623   \n",
              "2  ['Pulitzer Prize for Fiction (1961)', 'Audie A...    4501075   \n",
              "3                                                 []    2998241   \n",
              "4  ['Georgia Peach Book Award (2007)', 'Buxtehude...    4964519   \n",
              "\n",
              "                                      ratingsByStars likedPercent  \\\n",
              "0  ['3444695', '1921313', '745221', '171994', '93...         96.0   \n",
              "1  ['1593642', '637516', '222366', '39573', '14526']         98.0   \n",
              "2  ['2363896', '1333153', '573280', '149952', '80...         95.0   \n",
              "3  ['1617567', '816659', '373311', '113934', '767...         94.0   \n",
              "4  ['1751460', '1113682', '1008686', '542017', '5...         78.0   \n",
              "\n",
              "                                             setting  \\\n",
              "0  ['District 12, Panem', 'Capitol, Panem', 'Pane...   \n",
              "1  ['Hogwarts School of Witchcraft and Wizardry (...   \n",
              "2               ['Maycomb, Alabama (United States)']   \n",
              "3  ['United Kingdom', 'Derbyshire, England (Unite...   \n",
              "4  ['Forks, Washington (United States)', 'Phoenix...   \n",
              "\n",
              "                                            coverImg  bbeScore bbeVotes  price  \n",
              "0  https://i.gr-assets.com/images/S/compressed.ph...   2993816    30516   5.09  \n",
              "1  https://i.gr-assets.com/images/S/compressed.ph...   2632233    26923   7.38  \n",
              "2  https://i.gr-assets.com/images/S/compressed.ph...   2269402    23328    NaN  \n",
              "3  https://i.gr-assets.com/images/S/compressed.ph...   1983116    20452    NaN  \n",
              "4  https://i.gr-assets.com/images/S/compressed.ph...   1459448    14874    2.1  \n",
              "\n",
              "[5 rows x 25 columns]"
            ],
            "text/html": [
              "\n",
              "  <div id=\"df-af566f5c-c236-4f93-8ff2-c8019bc17e14\">\n",
              "    <div class=\"colab-df-container\">\n",
              "      <div>\n",
              "<style scoped>\n",
              "    .dataframe tbody tr th:only-of-type {\n",
              "        vertical-align: middle;\n",
              "    }\n",
              "\n",
              "    .dataframe tbody tr th {\n",
              "        vertical-align: top;\n",
              "    }\n",
              "\n",
              "    .dataframe thead th {\n",
              "        text-align: right;\n",
              "    }\n",
              "</style>\n",
              "<table border=\"1\" class=\"dataframe\">\n",
              "  <thead>\n",
              "    <tr style=\"text-align: right;\">\n",
              "      <th></th>\n",
              "      <th>bookId</th>\n",
              "      <th>title</th>\n",
              "      <th>series</th>\n",
              "      <th>author</th>\n",
              "      <th>rating</th>\n",
              "      <th>description</th>\n",
              "      <th>language</th>\n",
              "      <th>isbn</th>\n",
              "      <th>genres</th>\n",
              "      <th>characters</th>\n",
              "      <th>...</th>\n",
              "      <th>firstPublishDate</th>\n",
              "      <th>awards</th>\n",
              "      <th>numRatings</th>\n",
              "      <th>ratingsByStars</th>\n",
              "      <th>likedPercent</th>\n",
              "      <th>setting</th>\n",
              "      <th>coverImg</th>\n",
              "      <th>bbeScore</th>\n",
              "      <th>bbeVotes</th>\n",
              "      <th>price</th>\n",
              "    </tr>\n",
              "  </thead>\n",
              "  <tbody>\n",
              "    <tr>\n",
              "      <th>0</th>\n",
              "      <td>2767052-the-hunger-games</td>\n",
              "      <td>The Hunger Games</td>\n",
              "      <td>The Hunger Games #1</td>\n",
              "      <td>Suzanne Collins</td>\n",
              "      <td>4.33</td>\n",
              "      <td>WINNING MEANS FAME AND FORTUNE.LOSING MEANS CE...</td>\n",
              "      <td>English</td>\n",
              "      <td>9780439023481</td>\n",
              "      <td>['Young Adult', 'Fiction', 'Dystopia', 'Fantas...</td>\n",
              "      <td>['Katniss Everdeen', 'Peeta Mellark', 'Cato (H...</td>\n",
              "      <td>...</td>\n",
              "      <td>NaN</td>\n",
              "      <td>['Locus Award Nominee for Best Young Adult Boo...</td>\n",
              "      <td>6376780</td>\n",
              "      <td>['3444695', '1921313', '745221', '171994', '93...</td>\n",
              "      <td>96.0</td>\n",
              "      <td>['District 12, Panem', 'Capitol, Panem', 'Pane...</td>\n",
              "      <td>https://i.gr-assets.com/images/S/compressed.ph...</td>\n",
              "      <td>2993816</td>\n",
              "      <td>30516</td>\n",
              "      <td>5.09</td>\n",
              "    </tr>\n",
              "    <tr>\n",
              "      <th>1</th>\n",
              "      <td>2.Harry_Potter_and_the_Order_of_the_Phoenix</td>\n",
              "      <td>Harry Potter and the Order of the Phoenix</td>\n",
              "      <td>Harry Potter #5</td>\n",
              "      <td>J.K. Rowling, Mary GrandPré (Illustrator)</td>\n",
              "      <td>4.50</td>\n",
              "      <td>There is a door at the end of a silent corrido...</td>\n",
              "      <td>English</td>\n",
              "      <td>9780439358071</td>\n",
              "      <td>['Fantasy', 'Young Adult', 'Fiction', 'Magic',...</td>\n",
              "      <td>['Sirius Black', 'Draco Malfoy', 'Ron Weasley'...</td>\n",
              "      <td>...</td>\n",
              "      <td>06/21/03</td>\n",
              "      <td>['Bram Stoker Award for Works for Young Reader...</td>\n",
              "      <td>2507623</td>\n",
              "      <td>['1593642', '637516', '222366', '39573', '14526']</td>\n",
              "      <td>98.0</td>\n",
              "      <td>['Hogwarts School of Witchcraft and Wizardry (...</td>\n",
              "      <td>https://i.gr-assets.com/images/S/compressed.ph...</td>\n",
              "      <td>2632233</td>\n",
              "      <td>26923</td>\n",
              "      <td>7.38</td>\n",
              "    </tr>\n",
              "    <tr>\n",
              "      <th>2</th>\n",
              "      <td>2657.To_Kill_a_Mockingbird</td>\n",
              "      <td>To Kill a Mockingbird</td>\n",
              "      <td>To Kill a Mockingbird</td>\n",
              "      <td>Harper Lee</td>\n",
              "      <td>4.28</td>\n",
              "      <td>The unforgettable novel of a childhood in a sl...</td>\n",
              "      <td>English</td>\n",
              "      <td>9999999999999</td>\n",
              "      <td>['Classics', 'Fiction', 'Historical Fiction', ...</td>\n",
              "      <td>['Scout Finch', 'Atticus Finch', 'Jem Finch', ...</td>\n",
              "      <td>...</td>\n",
              "      <td>07/11/60</td>\n",
              "      <td>['Pulitzer Prize for Fiction (1961)', 'Audie A...</td>\n",
              "      <td>4501075</td>\n",
              "      <td>['2363896', '1333153', '573280', '149952', '80...</td>\n",
              "      <td>95.0</td>\n",
              "      <td>['Maycomb, Alabama (United States)']</td>\n",
              "      <td>https://i.gr-assets.com/images/S/compressed.ph...</td>\n",
              "      <td>2269402</td>\n",
              "      <td>23328</td>\n",
              "      <td>NaN</td>\n",
              "    </tr>\n",
              "    <tr>\n",
              "      <th>3</th>\n",
              "      <td>1885.Pride_and_Prejudice</td>\n",
              "      <td>Pride and Prejudice</td>\n",
              "      <td>NaN</td>\n",
              "      <td>Jane Austen, Anna Quindlen (Introduction)</td>\n",
              "      <td>4.26</td>\n",
              "      <td>Alternate cover edition of ISBN 9780679783268S...</td>\n",
              "      <td>English</td>\n",
              "      <td>9999999999999</td>\n",
              "      <td>['Classics', 'Fiction', 'Romance', 'Historical...</td>\n",
              "      <td>['Mr. Bennet', 'Mrs. Bennet', 'Jane Bennet', '...</td>\n",
              "      <td>...</td>\n",
              "      <td>01/28/13</td>\n",
              "      <td>[]</td>\n",
              "      <td>2998241</td>\n",
              "      <td>['1617567', '816659', '373311', '113934', '767...</td>\n",
              "      <td>94.0</td>\n",
              "      <td>['United Kingdom', 'Derbyshire, England (Unite...</td>\n",
              "      <td>https://i.gr-assets.com/images/S/compressed.ph...</td>\n",
              "      <td>1983116</td>\n",
              "      <td>20452</td>\n",
              "      <td>NaN</td>\n",
              "    </tr>\n",
              "    <tr>\n",
              "      <th>4</th>\n",
              "      <td>41865.Twilight</td>\n",
              "      <td>Twilight</td>\n",
              "      <td>The Twilight Saga #1</td>\n",
              "      <td>Stephenie Meyer</td>\n",
              "      <td>3.60</td>\n",
              "      <td>About three things I was absolutely positive.\\...</td>\n",
              "      <td>English</td>\n",
              "      <td>9780316015844</td>\n",
              "      <td>['Young Adult', 'Fantasy', 'Romance', 'Vampire...</td>\n",
              "      <td>['Edward Cullen', 'Jacob Black', 'Laurent', 'R...</td>\n",
              "      <td>...</td>\n",
              "      <td>10/05/05</td>\n",
              "      <td>['Georgia Peach Book Award (2007)', 'Buxtehude...</td>\n",
              "      <td>4964519</td>\n",
              "      <td>['1751460', '1113682', '1008686', '542017', '5...</td>\n",
              "      <td>78.0</td>\n",
              "      <td>['Forks, Washington (United States)', 'Phoenix...</td>\n",
              "      <td>https://i.gr-assets.com/images/S/compressed.ph...</td>\n",
              "      <td>1459448</td>\n",
              "      <td>14874</td>\n",
              "      <td>2.1</td>\n",
              "    </tr>\n",
              "  </tbody>\n",
              "</table>\n",
              "<p>5 rows × 25 columns</p>\n",
              "</div>\n",
              "      <button class=\"colab-df-convert\" onclick=\"convertToInteractive('df-af566f5c-c236-4f93-8ff2-c8019bc17e14')\"\n",
              "              title=\"Convert this dataframe to an interactive table.\"\n",
              "              style=\"display:none;\">\n",
              "        \n",
              "  <svg xmlns=\"http://www.w3.org/2000/svg\" height=\"24px\"viewBox=\"0 0 24 24\"\n",
              "       width=\"24px\">\n",
              "    <path d=\"M0 0h24v24H0V0z\" fill=\"none\"/>\n",
              "    <path d=\"M18.56 5.44l.94 2.06.94-2.06 2.06-.94-2.06-.94-.94-2.06-.94 2.06-2.06.94zm-11 1L8.5 8.5l.94-2.06 2.06-.94-2.06-.94L8.5 2.5l-.94 2.06-2.06.94zm10 10l.94 2.06.94-2.06 2.06-.94-2.06-.94-.94-2.06-.94 2.06-2.06.94z\"/><path d=\"M17.41 7.96l-1.37-1.37c-.4-.4-.92-.59-1.43-.59-.52 0-1.04.2-1.43.59L10.3 9.45l-7.72 7.72c-.78.78-.78 2.05 0 2.83L4 21.41c.39.39.9.59 1.41.59.51 0 1.02-.2 1.41-.59l7.78-7.78 2.81-2.81c.8-.78.8-2.07 0-2.86zM5.41 20L4 18.59l7.72-7.72 1.47 1.35L5.41 20z\"/>\n",
              "  </svg>\n",
              "      </button>\n",
              "      \n",
              "  <style>\n",
              "    .colab-df-container {\n",
              "      display:flex;\n",
              "      flex-wrap:wrap;\n",
              "      gap: 12px;\n",
              "    }\n",
              "\n",
              "    .colab-df-convert {\n",
              "      background-color: #E8F0FE;\n",
              "      border: none;\n",
              "      border-radius: 50%;\n",
              "      cursor: pointer;\n",
              "      display: none;\n",
              "      fill: #1967D2;\n",
              "      height: 32px;\n",
              "      padding: 0 0 0 0;\n",
              "      width: 32px;\n",
              "    }\n",
              "\n",
              "    .colab-df-convert:hover {\n",
              "      background-color: #E2EBFA;\n",
              "      box-shadow: 0px 1px 2px rgba(60, 64, 67, 0.3), 0px 1px 3px 1px rgba(60, 64, 67, 0.15);\n",
              "      fill: #174EA6;\n",
              "    }\n",
              "\n",
              "    [theme=dark] .colab-df-convert {\n",
              "      background-color: #3B4455;\n",
              "      fill: #D2E3FC;\n",
              "    }\n",
              "\n",
              "    [theme=dark] .colab-df-convert:hover {\n",
              "      background-color: #434B5C;\n",
              "      box-shadow: 0px 1px 3px 1px rgba(0, 0, 0, 0.15);\n",
              "      filter: drop-shadow(0px 1px 2px rgba(0, 0, 0, 0.3));\n",
              "      fill: #FFFFFF;\n",
              "    }\n",
              "  </style>\n",
              "\n",
              "      <script>\n",
              "        const buttonEl =\n",
              "          document.querySelector('#df-af566f5c-c236-4f93-8ff2-c8019bc17e14 button.colab-df-convert');\n",
              "        buttonEl.style.display =\n",
              "          google.colab.kernel.accessAllowed ? 'block' : 'none';\n",
              "\n",
              "        async function convertToInteractive(key) {\n",
              "          const element = document.querySelector('#df-af566f5c-c236-4f93-8ff2-c8019bc17e14');\n",
              "          const dataTable =\n",
              "            await google.colab.kernel.invokeFunction('convertToInteractive',\n",
              "                                                     [key], {});\n",
              "          if (!dataTable) return;\n",
              "\n",
              "          const docLinkHtml = 'Like what you see? Visit the ' +\n",
              "            '<a target=\"_blank\" href=https://colab.research.google.com/notebooks/data_table.ipynb>data table notebook</a>'\n",
              "            + ' to learn more about interactive tables.';\n",
              "          element.innerHTML = '';\n",
              "          dataTable['output_type'] = 'display_data';\n",
              "          await google.colab.output.renderOutput(dataTable, element);\n",
              "          const docLink = document.createElement('div');\n",
              "          docLink.innerHTML = docLinkHtml;\n",
              "          element.appendChild(docLink);\n",
              "        }\n",
              "      </script>\n",
              "    </div>\n",
              "  </div>\n",
              "  "
            ]
          },
          "metadata": {},
          "execution_count": 4
        }
      ]
    },
    {
      "cell_type": "markdown",
      "source": [
        "## Synsets"
      ],
      "metadata": {
        "id": "aJFnEJi5LldH"
      }
    },
    {
      "cell_type": "code",
      "source": [
        "import nltk\n",
        "nltk.download('wordnet')\n",
        "nltk.download('omw-1.4')"
      ],
      "metadata": {
        "colab": {
          "base_uri": "https://localhost:8080/"
        },
        "id": "qmyWdTcgLm7O",
        "outputId": "7d96c74a-ff89-45fc-bab3-8b9718e1c0c9"
      },
      "execution_count": 8,
      "outputs": [
        {
          "output_type": "stream",
          "name": "stderr",
          "text": [
            "[nltk_data] Downloading package wordnet to /root/nltk_data...\n",
            "[nltk_data]   Package wordnet is already up-to-date!\n",
            "[nltk_data] Downloading package omw-1.4 to /root/nltk_data...\n",
            "[nltk_data]   Unzipping corpora/omw-1.4.zip.\n"
          ]
        },
        {
          "output_type": "execute_result",
          "data": {
            "text/plain": [
              "True"
            ]
          },
          "metadata": {},
          "execution_count": 8
        }
      ]
    },
    {
      "cell_type": "markdown",
      "source": [
        ""
      ],
      "metadata": {
        "id": "Ljlj_6f5Ml8x"
      }
    },
    {
      "cell_type": "code",
      "source": [
        "from nltk.corpus import wordnet"
      ],
      "metadata": {
        "id": "mMv7hOBXMmS7"
      },
      "execution_count": 7,
      "outputs": []
    },
    {
      "cell_type": "code",
      "source": [
        "import nltk \n",
        "#import wordnet package from NLTK module\n",
        "from nltk.corpus import wordnet \n",
        "#declare 2 empty list : one for synonyms and one for antonyms \n",
        "\n",
        "def create_synsets(event):\n",
        "  synonym = [] \n",
        "    \n",
        "  for synset in wordnet.synsets(event): \n",
        "      for i in synset.lemmas(): \n",
        "          synonym.append(i.name()) # add all the synonyms available \n",
        "    \n",
        "  return set(synonym)"
      ],
      "metadata": {
        "id": "ghgWpxqxMLa0"
      },
      "execution_count": 19,
      "outputs": []
    },
    {
      "cell_type": "code",
      "source": [
        "print(create_synsets('married'))"
      ],
      "metadata": {
        "colab": {
          "base_uri": "https://localhost:8080/"
        },
        "id": "mjJphvmLMdOu",
        "outputId": "db392602-1f61-4916-faed-69de7a97fb51"
      },
      "execution_count": 21,
      "outputs": [
        {
          "output_type": "stream",
          "name": "stdout",
          "text": [
            "{'married', 'wed', 'get_married', 'marry', 'espouse', 'hook_up_with', 'matrimonial', 'conjoin', 'tie', 'get_hitched_with', 'marital', 'splice'}\n"
          ]
        }
      ]
    },
    {
      "cell_type": "markdown",
      "source": [
        "## Preprocessing\n",
        "\n",
        "\n",
        "1.   Lowercase\n",
        "2.   Remove Punctuation\n",
        "3.   Remove numbers & non-alpha characters\n",
        "4.   Remove stopwords\n",
        "\n"
      ],
      "metadata": {
        "id": "8C-xv4jVQbrM"
      }
    },
    {
      "cell_type": "code",
      "source": [
        "import re\n",
        "from nltk.corpus import stopwords\n",
        "nltk.download('stopwords')\n",
        "from nltk.tokenize import word_tokenize\n",
        "nltk.download('punkt')"
      ],
      "metadata": {
        "colab": {
          "base_uri": "https://localhost:8080/"
        },
        "id": "82Ga9H_oR2WZ",
        "outputId": "e3097ce4-93c5-4a86-8dbf-ede3d940f7e2"
      },
      "execution_count": 38,
      "outputs": [
        {
          "output_type": "stream",
          "name": "stderr",
          "text": [
            "[nltk_data] Downloading package stopwords to /root/nltk_data...\n",
            "[nltk_data]   Package stopwords is already up-to-date!\n",
            "[nltk_data] Downloading package punkt to /root/nltk_data...\n",
            "[nltk_data]   Unzipping tokenizers/punkt.zip.\n"
          ]
        },
        {
          "output_type": "execute_result",
          "data": {
            "text/plain": [
              "True"
            ]
          },
          "metadata": {},
          "execution_count": 38
        }
      ]
    },
    {
      "cell_type": "code",
      "source": [
        "my_text = 'THIS is my 100% messy text! ... It is not pretty'"
      ],
      "metadata": {
        "id": "2E8seIDKQ1D0"
      },
      "execution_count": 22,
      "outputs": []
    },
    {
      "cell_type": "code",
      "source": [
        "#lowercase text\n",
        "my_text_lower = my_text.lower()\n",
        "print(my_text_lower)"
      ],
      "metadata": {
        "colab": {
          "base_uri": "https://localhost:8080/"
        },
        "id": "sSdTZy3-ObRA",
        "outputId": "1f402a21-ea9d-4ddc-a463-fd97a7defed8"
      },
      "execution_count": 23,
      "outputs": [
        {
          "output_type": "stream",
          "name": "stdout",
          "text": [
            "this is my 100% messy text! ... it is not pretty\n"
          ]
        }
      ]
    },
    {
      "cell_type": "code",
      "source": [
        "#remove punctuation\n",
        "my_text_lower_alphanum = re.sub(r'[^a-zA-Z ]+', '', my_text_lower)\n",
        "print(my_text_lower_alphanum)"
      ],
      "metadata": {
        "colab": {
          "base_uri": "https://localhost:8080/"
        },
        "id": "9-Vp6BL8RCSE",
        "outputId": "2314e9d3-9ca5-4c1b-b9f1-201ca32d2eaf"
      },
      "execution_count": 27,
      "outputs": [
        {
          "output_type": "stream",
          "name": "stdout",
          "text": [
            "this is my  messy text  it is not pretty\n"
          ]
        }
      ]
    },
    {
      "cell_type": "code",
      "source": [
        "#tokenize for stopword removal\n",
        "my_text_lower_alphanum_tokenized = word_tokenize(my_text_lower_alphanum)\n",
        "print(my_text_lower_alphanum_tokenized)"
      ],
      "metadata": {
        "colab": {
          "base_uri": "https://localhost:8080/"
        },
        "id": "V6xcznRQReak",
        "outputId": "2c34ccd9-d2fc-443d-da03-062399020d2c"
      },
      "execution_count": 39,
      "outputs": [
        {
          "output_type": "stream",
          "name": "stdout",
          "text": [
            "['this', 'is', 'my', 'messy', 'text', 'it', 'is', 'not', 'pretty']\n"
          ]
        }
      ]
    },
    {
      "cell_type": "code",
      "source": [
        "my_text_lower_alphanum_tokenized_nostop = [word for word in my_text_lower_alphanum_tokenized if word not in stopwords.words('english')]\n",
        "print(my_text_lower_alphanum_tokenized_nostop)"
      ],
      "metadata": {
        "colab": {
          "base_uri": "https://localhost:8080/"
        },
        "id": "CmYvqoNpTwSd",
        "outputId": "d06bf0a5-30eb-41d5-9c18-98802310a1a1"
      },
      "execution_count": 40,
      "outputs": [
        {
          "output_type": "stream",
          "name": "stdout",
          "text": [
            "['messy', 'text', 'pretty']\n"
          ]
        }
      ]
    },
    {
      "cell_type": "code",
      "source": [
        "filtered_sentence = (\" \").join(my_text_lower_alphanum_tokenized_nostop)\n",
        "print(filtered_sentence)"
      ],
      "metadata": {
        "colab": {
          "base_uri": "https://localhost:8080/"
        },
        "id": "Wqo1DFr-TsVR",
        "outputId": "ae49b20f-e455-40b6-df94-826f6bc219c3"
      },
      "execution_count": 42,
      "outputs": [
        {
          "output_type": "stream",
          "name": "stdout",
          "text": [
            "messy text pretty\n"
          ]
        }
      ]
    },
    {
      "cell_type": "markdown",
      "source": [
        "## Putting It All Together"
      ],
      "metadata": {
        "id": "1Rgql4FqWE1G"
      }
    },
    {
      "cell_type": "code",
      "source": [
        "import nltk\n",
        "nltk.download('wordnet')\n",
        "nltk.download('omw-1.4')\n",
        "nltk.download('stopwords')\n",
        "nltk.download('punkt')\n",
        "\n",
        "import re\n",
        "from nltk.corpus import stopwords\n",
        "from nltk.corpus import wordnet\n",
        "from nltk.tokenize import word_tokenize"
      ],
      "metadata": {
        "id": "prSBWLicWMnD"
      },
      "execution_count": null,
      "outputs": []
    },
    {
      "cell_type": "markdown",
      "source": [
        "### Synset Function"
      ],
      "metadata": {
        "id": "JIb9whcUWI4X"
      }
    },
    {
      "cell_type": "code",
      "source": [
        "def create_synsets(event):\n",
        "  \n",
        "  synonym = [] \n",
        "    \n",
        "  for synset in wordnet.synsets(event): \n",
        "      for i in synset.lemmas(): \n",
        "          synonym.append(i.name()) # add all the synonyms available \n",
        "    \n",
        "  return set(synonym)"
      ],
      "metadata": {
        "id": "OPWsQNFdT0G3"
      },
      "execution_count": 43,
      "outputs": []
    },
    {
      "cell_type": "markdown",
      "source": [
        "### Preprocessing Function"
      ],
      "metadata": {
        "id": "K166Q7PvWqFp"
      }
    },
    {
      "cell_type": "code",
      "source": [
        "def preprocess_text(text):\n",
        "\n",
        "  #lowercase text\n",
        "  text_preprocessed = text.lower()\n",
        "  #remove punctuation\n",
        "  text_preprocessed = re.sub(r'[^a-zA-Z ]+', '', text_preprocessed)\n",
        "  #tokenize for stopword removal\n",
        "  text_preprocessed = word_tokenize(text_preprocessed)\n",
        "  #remove stopwords\n",
        "  text_preprocessed = [word for word in text_preprocessed if word not in stopwords.words('english')]\n",
        "  #join to make string again\n",
        "  text_preprocessed = (\" \").join(text_preprocessed)\n",
        "\n",
        "  return text_preprocessed"
      ],
      "metadata": {
        "id": "8JzEjrWbWnkv"
      },
      "execution_count": 44,
      "outputs": []
    },
    {
      "cell_type": "code",
      "source": [
        "print(preprocess_text('THIS is my 100% messy text! ... It is not pretty'))"
      ],
      "metadata": {
        "colab": {
          "base_uri": "https://localhost:8080/"
        },
        "id": "60lDbt31XZsv",
        "outputId": "973b0385-aa7c-4c05-da87-9c49baa2c89e"
      },
      "execution_count": 45,
      "outputs": [
        {
          "output_type": "stream",
          "name": "stdout",
          "text": [
            "messy text pretty\n"
          ]
        }
      ]
    },
    {
      "cell_type": "code",
      "source": [
        ""
      ],
      "metadata": {
        "id": "PXF2UNFeXgdk"
      },
      "execution_count": null,
      "outputs": []
    }
  ]
}