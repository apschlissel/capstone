{
 "cells": [
  {
   "cell_type": "markdown",
   "id": "87751d27-97ef-4b6b-b9e4-a92465172407",
   "metadata": {},
   "source": [
    "# Model Evaluations"
   ]
  },
  {
   "cell_type": "code",
   "execution_count": 5,
   "id": "5219bee5-2548-4952-8237-623f004391f9",
   "metadata": {},
   "outputs": [],
   "source": [
    "import s3fs\n",
    "import boto3\n",
    "import pandas as pd\n",
    "import nltk\n",
    "#nltk.download('wordnet')\n",
    "#nltk.download('omw-1.4')\n",
    "#nltk.download('stopwords')\n",
    "#nltk.download('punkt')\n",
    "\n",
    "import re\n",
    "from nltk.corpus import stopwords\n",
    "from nltk.corpus import wordnet\n",
    "from nltk.tokenize import word_tokenize"
   ]
  },
  {
   "cell_type": "code",
   "execution_count": 6,
   "id": "43defc02-97f4-4e3b-b291-8869a84b4e85",
   "metadata": {},
   "outputs": [],
   "source": [
    "from sklearn.metrics import confusion_matrix\n",
    "import matplotlib.pyplot as plt\n",
    "from sklearn.datasets import make_classification\n",
    "from sklearn.metrics import confusion_matrix, ConfusionMatrixDisplay\n",
    "from sklearn.model_selection import train_test_split\n",
    "from sklearn.svm import SVC\n",
    "import numpy as np\n",
    "from copy import copy\n",
    "from sklearn.metrics import f1_score, roc_auc_score, accuracy_score\n",
    "from sklearn.metrics import multilabel_confusion_matrix\n",
    "from sklearn.metrics import classification_report"
   ]
  },
  {
   "cell_type": "markdown",
   "id": "42cc0a60-38a8-430c-bfa8-6a79ef0ef2ee",
   "metadata": {},
   "source": [
    "## Load Model Data"
   ]
  },
  {
   "cell_type": "code",
   "execution_count": 47,
   "id": "9f9103cc-8e6d-4059-b5f7-917eac8088ea",
   "metadata": {},
   "outputs": [],
   "source": [
    "#True labels\n",
    "true_labels = pd.read_csv('train_1000_labeled.csv') #labeled data\n",
    "true_labels = true_labels.replace(np.nan, False)\n",
    "true_labels.to_csv('train_1000_labeled.csv')\n",
    "#Zero-shot \n",
    "zero_shot = pd.read_csv('ZS_classifications.csv')\n",
    "#Fine-tuned - NEED TO RUN\n",
    "fine_tuned = pd.read_csv('fine_tuned_8_1.csv')\n",
    "#BERTopic - NEED TO RUN\n",
    "\n",
    "#Model 1 - NEED TO RUN \n",
    "model_one = pd.read_csv('1000results_model1v2.csv')\n",
    "#guided LDA - use allison's LDA notebook\n",
    "#guided_LDA = pd.read_csv('results_1000.csv')\n",
    "#corex LDA - use allison's LDA notebook\n",
    "#corex_LDA = pd.read_csv('results_1000.csv')"
   ]
  },
  {
   "cell_type": "code",
   "execution_count": null,
   "id": "de5005f2-4fc3-4c15-bba9-6387d618f169",
   "metadata": {},
   "outputs": [],
   "source": [
    "#bertopic models\n",
    "bert_topic_g5 = pd.read_csv('bertopic_unsup_guided_5.csv')\n",
    "bert_topic_g4 = pd.read_csv('bertopic_unsup_guided_4.csv')\n",
    "bert_topic_g3 = pd.read_csv('bertopic_unsup_guided_3.csv')\n",
    "bert_topic_g2 = pd.read_csv('bertopic_unsup_guided_2.csv')\n",
    "bert_topic_g1 = pd.read_csv('bertopic_unsup_guided_1.csv')\n",
    "bert_topic_g01 = pd.read_csv('bertopic_unsup_guided_01.csv')\n",
    "bert_topic_g001 = pd.read_csv('bertopic_unsup_guided_001.csv')\n",
    "bert_topic_g0001 = pd.read_csv('bertopic_unsup_guided_0001.csv')\n",
    "\n",
    "bert_topic_5 = pd.read_csv('bertopic_unsup_5.csv')\n",
    "bert_topic_4 = pd.read_csv('bertopic_unsup_4.csv')\n",
    "bert_topic_3 = pd.read_csv('bertopic_unsup_3.csv')\n",
    "bert_topic_2 = pd.read_csv('bertopic_unsup_2.csv')\n",
    "bert_topic_1 = pd.read_csv('bertopic_unsup_1.csv')\n",
    "bert_topic_01 = pd.read_csv('bertopic_unsup_01.csv')\n",
    "bert_topic_001 = pd.read_csv('bertopic_unsup_001.csv')\n",
    "bert_topic_0001 = pd.read_csv('bertopic_unsup_0001.csv')"
   ]
  },
  {
   "cell_type": "code",
   "execution_count": 11,
   "id": "14998dcc-9cf8-45a3-ba3a-6d6e5ab40631",
   "metadata": {},
   "outputs": [
    {
     "data": {
      "text/html": [
       "<div>\n",
       "<style scoped>\n",
       "    .dataframe tbody tr th:only-of-type {\n",
       "        vertical-align: middle;\n",
       "    }\n",
       "\n",
       "    .dataframe tbody tr th {\n",
       "        vertical-align: top;\n",
       "    }\n",
       "\n",
       "    .dataframe thead th {\n",
       "        text-align: right;\n",
       "    }\n",
       "</style>\n",
       "<table border=\"1\" class=\"dataframe\">\n",
       "  <thead>\n",
       "    <tr style=\"text-align: right;\">\n",
       "      <th></th>\n",
       "      <th>Unnamed: 0.3</th>\n",
       "      <th>Unnamed: 0.2</th>\n",
       "      <th>Unnamed: 0.1</th>\n",
       "      <th>index</th>\n",
       "      <th>Unnamed: 0</th>\n",
       "      <th>bookId</th>\n",
       "      <th>title</th>\n",
       "      <th>series</th>\n",
       "      <th>author</th>\n",
       "      <th>rating</th>\n",
       "      <th>...</th>\n",
       "      <th>Contains True?</th>\n",
       "      <th>tokens</th>\n",
       "      <th>university</th>\n",
       "      <th>relationships</th>\n",
       "      <th>break ups</th>\n",
       "      <th>divorce</th>\n",
       "      <th>weddings</th>\n",
       "      <th>family</th>\n",
       "      <th>friendship</th>\n",
       "      <th>death</th>\n",
       "    </tr>\n",
       "  </thead>\n",
       "  <tbody>\n",
       "    <tr>\n",
       "      <th>0</th>\n",
       "      <td>0</td>\n",
       "      <td>0</td>\n",
       "      <td>0</td>\n",
       "      <td>0</td>\n",
       "      <td>39,822</td>\n",
       "      <td>34838660-not-part-of-the-plan</td>\n",
       "      <td>Not Part of the Plan</td>\n",
       "      <td>Blue Moon #4</td>\n",
       "      <td>Lucy Score (Goodreads Author)</td>\n",
       "      <td>4.46</td>\n",
       "      <td>...</td>\n",
       "      <td>1.0</td>\n",
       "      <td>['wall', 'street', 'journal', 'amazon', 'bests...</td>\n",
       "      <td>False</td>\n",
       "      <td>False</td>\n",
       "      <td>False</td>\n",
       "      <td>False</td>\n",
       "      <td>False</td>\n",
       "      <td>True</td>\n",
       "      <td>True</td>\n",
       "      <td>False</td>\n",
       "    </tr>\n",
       "    <tr>\n",
       "      <th>1</th>\n",
       "      <td>1</td>\n",
       "      <td>1</td>\n",
       "      <td>1</td>\n",
       "      <td>1</td>\n",
       "      <td>34,235</td>\n",
       "      <td>20176552-dragon-age-volume-1</td>\n",
       "      <td>Dragon Age, Volume 1</td>\n",
       "      <td>Dragon Age Graphic Novels #1-3</td>\n",
       "      <td>David Gaider, Chad Hardin (Illustrator), Antho...</td>\n",
       "      <td>4.26</td>\n",
       "      <td>...</td>\n",
       "      <td>0.0</td>\n",
       "      <td>['helping', 'set', 'stage', 'biowares', 'hotly...</td>\n",
       "      <td>False</td>\n",
       "      <td>False</td>\n",
       "      <td>False</td>\n",
       "      <td>False</td>\n",
       "      <td>False</td>\n",
       "      <td>False</td>\n",
       "      <td>False</td>\n",
       "      <td>False</td>\n",
       "    </tr>\n",
       "    <tr>\n",
       "      <th>2</th>\n",
       "      <td>2</td>\n",
       "      <td>2</td>\n",
       "      <td>2</td>\n",
       "      <td>2</td>\n",
       "      <td>27,904</td>\n",
       "      <td>124110.Dangerous_to_Know</td>\n",
       "      <td>Dangerous to Know</td>\n",
       "      <td>NaN</td>\n",
       "      <td>Barbara Taylor Bradford (Goodreads Author)</td>\n",
       "      <td>3.73</td>\n",
       "      <td>...</td>\n",
       "      <td>1.0</td>\n",
       "      <td>['sebastian', 'locke', 'fiftysixyearold', 'pat...</td>\n",
       "      <td>False</td>\n",
       "      <td>False</td>\n",
       "      <td>False</td>\n",
       "      <td>True</td>\n",
       "      <td>False</td>\n",
       "      <td>True</td>\n",
       "      <td>False</td>\n",
       "      <td>True</td>\n",
       "    </tr>\n",
       "    <tr>\n",
       "      <th>3</th>\n",
       "      <td>3</td>\n",
       "      <td>3</td>\n",
       "      <td>3</td>\n",
       "      <td>3</td>\n",
       "      <td>10,515</td>\n",
       "      <td>1046450.The_Wheel_of_Fortune</td>\n",
       "      <td>The Wheel of Fortune</td>\n",
       "      <td>NaN</td>\n",
       "      <td>Susan Howatch</td>\n",
       "      <td>4.11</td>\n",
       "      <td>...</td>\n",
       "      <td>1.0</td>\n",
       "      <td>['take', 'back', 'oxmoon', 'lost', 'paradise',...</td>\n",
       "      <td>False</td>\n",
       "      <td>False</td>\n",
       "      <td>False</td>\n",
       "      <td>False</td>\n",
       "      <td>False</td>\n",
       "      <td>True</td>\n",
       "      <td>False</td>\n",
       "      <td>False</td>\n",
       "    </tr>\n",
       "    <tr>\n",
       "      <th>4</th>\n",
       "      <td>4</td>\n",
       "      <td>4</td>\n",
       "      <td>4</td>\n",
       "      <td>4</td>\n",
       "      <td>935</td>\n",
       "      <td>872333.Blue_Bloods</td>\n",
       "      <td>Blue Bloods</td>\n",
       "      <td>Blue Bloods #1</td>\n",
       "      <td>Melissa de la Cruz (Goodreads Author)</td>\n",
       "      <td>3.69</td>\n",
       "      <td>...</td>\n",
       "      <td>0.0</td>\n",
       "      <td>['mayflower', 'set', 'sail', 'carried', 'board...</td>\n",
       "      <td>False</td>\n",
       "      <td>False</td>\n",
       "      <td>False</td>\n",
       "      <td>False</td>\n",
       "      <td>False</td>\n",
       "      <td>False</td>\n",
       "      <td>False</td>\n",
       "      <td>False</td>\n",
       "    </tr>\n",
       "    <tr>\n",
       "      <th>...</th>\n",
       "      <td>...</td>\n",
       "      <td>...</td>\n",
       "      <td>...</td>\n",
       "      <td>...</td>\n",
       "      <td>...</td>\n",
       "      <td>...</td>\n",
       "      <td>...</td>\n",
       "      <td>...</td>\n",
       "      <td>...</td>\n",
       "      <td>...</td>\n",
       "      <td>...</td>\n",
       "      <td>...</td>\n",
       "      <td>...</td>\n",
       "      <td>...</td>\n",
       "      <td>...</td>\n",
       "      <td>...</td>\n",
       "      <td>...</td>\n",
       "      <td>...</td>\n",
       "      <td>...</td>\n",
       "      <td>...</td>\n",
       "      <td>...</td>\n",
       "    </tr>\n",
       "    <tr>\n",
       "      <th>995</th>\n",
       "      <td>995</td>\n",
       "      <td>995</td>\n",
       "      <td>995</td>\n",
       "      <td>995</td>\n",
       "      <td>17,361</td>\n",
       "      <td>588326.The_Blue_Helmet</td>\n",
       "      <td>The Blue Helmet</td>\n",
       "      <td>NaN</td>\n",
       "      <td>William Bell</td>\n",
       "      <td>3.42</td>\n",
       "      <td>...</td>\n",
       "      <td>1.0</td>\n",
       "      <td>['lee', 'wants', 'tarantula', 'member', 'bigge...</td>\n",
       "      <td>False</td>\n",
       "      <td>False</td>\n",
       "      <td>False</td>\n",
       "      <td>False</td>\n",
       "      <td>False</td>\n",
       "      <td>False</td>\n",
       "      <td>True</td>\n",
       "      <td>True</td>\n",
       "    </tr>\n",
       "    <tr>\n",
       "      <th>996</th>\n",
       "      <td>996</td>\n",
       "      <td>996</td>\n",
       "      <td>996</td>\n",
       "      <td>996</td>\n",
       "      <td>9,029</td>\n",
       "      <td>93007.The_Merry_Adventures_of_Robin_Hood</td>\n",
       "      <td>The Merry Adventures of Robin Hood</td>\n",
       "      <td>NaN</td>\n",
       "      <td>Howard Pyle</td>\n",
       "      <td>4.07</td>\n",
       "      <td>...</td>\n",
       "      <td>0.0</td>\n",
       "      <td>['merry', 'adventures', 'robin', 'hood', 'grea...</td>\n",
       "      <td>False</td>\n",
       "      <td>False</td>\n",
       "      <td>False</td>\n",
       "      <td>False</td>\n",
       "      <td>True</td>\n",
       "      <td>False</td>\n",
       "      <td>False</td>\n",
       "      <td>False</td>\n",
       "    </tr>\n",
       "    <tr>\n",
       "      <th>997</th>\n",
       "      <td>997</td>\n",
       "      <td>997</td>\n",
       "      <td>997</td>\n",
       "      <td>997</td>\n",
       "      <td>32,216</td>\n",
       "      <td>1085376.Before_You_Sleep</td>\n",
       "      <td>Before You Sleep</td>\n",
       "      <td>NaN</td>\n",
       "      <td>Linn Ullmann, Tiina Nunnally (Translator)</td>\n",
       "      <td>3.34</td>\n",
       "      <td>...</td>\n",
       "      <td>1.0</td>\n",
       "      <td>['moving', 'presentday', 'oslo', 'brooklyn', '...</td>\n",
       "      <td>False</td>\n",
       "      <td>False</td>\n",
       "      <td>False</td>\n",
       "      <td>False</td>\n",
       "      <td>True</td>\n",
       "      <td>True</td>\n",
       "      <td>False</td>\n",
       "      <td>False</td>\n",
       "    </tr>\n",
       "    <tr>\n",
       "      <th>998</th>\n",
       "      <td>998</td>\n",
       "      <td>998</td>\n",
       "      <td>998</td>\n",
       "      <td>998</td>\n",
       "      <td>1,036</td>\n",
       "      <td>28195.Inkspell</td>\n",
       "      <td>Inkspell</td>\n",
       "      <td>Inkworld #2</td>\n",
       "      <td>Cornelia Funke (Goodreads Author), Anthea Bell...</td>\n",
       "      <td>3.91</td>\n",
       "      <td>...</td>\n",
       "      <td>0.0</td>\n",
       "      <td>['captivating', 'sequel', 'inkheart', 'critica...</td>\n",
       "      <td>False</td>\n",
       "      <td>False</td>\n",
       "      <td>False</td>\n",
       "      <td>False</td>\n",
       "      <td>False</td>\n",
       "      <td>False</td>\n",
       "      <td>False</td>\n",
       "      <td>False</td>\n",
       "    </tr>\n",
       "    <tr>\n",
       "      <th>999</th>\n",
       "      <td>999</td>\n",
       "      <td>999</td>\n",
       "      <td>999</td>\n",
       "      <td>999</td>\n",
       "      <td>9,738.00</td>\n",
       "      <td>13505670-krampus</td>\n",
       "      <td>Krampus: The Yule Lord</td>\n",
       "      <td>NaN</td>\n",
       "      <td>Brom</td>\n",
       "      <td>$4.08</td>\n",
       "      <td>...</td>\n",
       "      <td>NaN</td>\n",
       "      <td>['santa', 'claus', 'dear', 'old', 'friend', 't...</td>\n",
       "      <td>False</td>\n",
       "      <td>False</td>\n",
       "      <td>False</td>\n",
       "      <td>False</td>\n",
       "      <td>False</td>\n",
       "      <td>True</td>\n",
       "      <td>False</td>\n",
       "      <td>False</td>\n",
       "    </tr>\n",
       "  </tbody>\n",
       "</table>\n",
       "<p>1000 rows × 56 columns</p>\n",
       "</div>"
      ],
      "text/plain": [
       "     Unnamed: 0.3  Unnamed: 0.2  Unnamed: 0.1  index Unnamed: 0  \\\n",
       "0               0             0             0      0     39,822   \n",
       "1               1             1             1      1     34,235   \n",
       "2               2             2             2      2     27,904   \n",
       "3               3             3             3      3     10,515   \n",
       "4               4             4             4      4        935   \n",
       "..            ...           ...           ...    ...        ...   \n",
       "995           995           995           995    995     17,361   \n",
       "996           996           996           996    996      9,029   \n",
       "997           997           997           997    997     32,216   \n",
       "998           998           998           998    998      1,036   \n",
       "999           999           999           999    999   9,738.00   \n",
       "\n",
       "                                       bookId  \\\n",
       "0               34838660-not-part-of-the-plan   \n",
       "1                20176552-dragon-age-volume-1   \n",
       "2                    124110.Dangerous_to_Know   \n",
       "3                1046450.The_Wheel_of_Fortune   \n",
       "4                          872333.Blue_Bloods   \n",
       "..                                        ...   \n",
       "995                    588326.The_Blue_Helmet   \n",
       "996  93007.The_Merry_Adventures_of_Robin_Hood   \n",
       "997                  1085376.Before_You_Sleep   \n",
       "998                            28195.Inkspell   \n",
       "999                          13505670-krampus   \n",
       "\n",
       "                                  title                          series  \\\n",
       "0                  Not Part of the Plan                    Blue Moon #4   \n",
       "1                  Dragon Age, Volume 1  Dragon Age Graphic Novels #1-3   \n",
       "2                     Dangerous to Know                             NaN   \n",
       "3                  The Wheel of Fortune                             NaN   \n",
       "4                           Blue Bloods                  Blue Bloods #1   \n",
       "..                                  ...                             ...   \n",
       "995                     The Blue Helmet                             NaN   \n",
       "996  The Merry Adventures of Robin Hood                             NaN   \n",
       "997                    Before You Sleep                             NaN   \n",
       "998                            Inkspell                     Inkworld #2   \n",
       "999              Krampus: The Yule Lord                             NaN   \n",
       "\n",
       "                                                author rating  ...  \\\n",
       "0                        Lucy Score (Goodreads Author)   4.46  ...   \n",
       "1    David Gaider, Chad Hardin (Illustrator), Antho...   4.26  ...   \n",
       "2           Barbara Taylor Bradford (Goodreads Author)   3.73  ...   \n",
       "3                                        Susan Howatch   4.11  ...   \n",
       "4                Melissa de la Cruz (Goodreads Author)   3.69  ...   \n",
       "..                                                 ...    ...  ...   \n",
       "995                                       William Bell   3.42  ...   \n",
       "996                                        Howard Pyle   4.07  ...   \n",
       "997          Linn Ullmann, Tiina Nunnally (Translator)   3.34  ...   \n",
       "998  Cornelia Funke (Goodreads Author), Anthea Bell...   3.91  ...   \n",
       "999                                               Brom  $4.08  ...   \n",
       "\n",
       "    Contains True?                                             tokens  \\\n",
       "0              1.0  ['wall', 'street', 'journal', 'amazon', 'bests...   \n",
       "1              0.0  ['helping', 'set', 'stage', 'biowares', 'hotly...   \n",
       "2              1.0  ['sebastian', 'locke', 'fiftysixyearold', 'pat...   \n",
       "3              1.0  ['take', 'back', 'oxmoon', 'lost', 'paradise',...   \n",
       "4              0.0  ['mayflower', 'set', 'sail', 'carried', 'board...   \n",
       "..             ...                                                ...   \n",
       "995            1.0  ['lee', 'wants', 'tarantula', 'member', 'bigge...   \n",
       "996            0.0  ['merry', 'adventures', 'robin', 'hood', 'grea...   \n",
       "997            1.0  ['moving', 'presentday', 'oslo', 'brooklyn', '...   \n",
       "998            0.0  ['captivating', 'sequel', 'inkheart', 'critica...   \n",
       "999            NaN  ['santa', 'claus', 'dear', 'old', 'friend', 't...   \n",
       "\n",
       "    university relationships break ups divorce weddings family friendship  \\\n",
       "0        False         False     False   False    False   True       True   \n",
       "1        False         False     False   False    False  False      False   \n",
       "2        False         False     False    True    False   True      False   \n",
       "3        False         False     False   False    False   True      False   \n",
       "4        False         False     False   False    False  False      False   \n",
       "..         ...           ...       ...     ...      ...    ...        ...   \n",
       "995      False         False     False   False    False  False       True   \n",
       "996      False         False     False   False     True  False      False   \n",
       "997      False         False     False   False     True   True      False   \n",
       "998      False         False     False   False    False  False      False   \n",
       "999      False         False     False   False    False   True      False   \n",
       "\n",
       "     death  \n",
       "0    False  \n",
       "1    False  \n",
       "2     True  \n",
       "3    False  \n",
       "4    False  \n",
       "..     ...  \n",
       "995   True  \n",
       "996  False  \n",
       "997  False  \n",
       "998  False  \n",
       "999  False  \n",
       "\n",
       "[1000 rows x 56 columns]"
      ]
     },
     "execution_count": 11,
     "metadata": {},
     "output_type": "execute_result"
    }
   ],
   "source": [
    "model_one"
   ]
  },
  {
   "cell_type": "markdown",
   "id": "a302dac0-f8ae-488b-825b-8429193929ac",
   "metadata": {},
   "source": [
    "## Reformat Data"
   ]
  },
  {
   "cell_type": "markdown",
   "id": "f506e68c-1817-4dca-a98e-6f18015c52bc",
   "metadata": {},
   "source": [
    "## Evaluation Function"
   ]
  },
  {
   "cell_type": "code",
   "execution_count": 8,
   "id": "0796dbf3-0378-4098-b559-1d8ca37ff97f",
   "metadata": {},
   "outputs": [],
   "source": [
    "def eval_func(model, true_labels):\n",
    "    labels =['relationships', 'friendship', 'weddings', 'family', 'break ups', 'university', 'death', 'divorce']\n",
    "    p = model[labels]\n",
    "    t = true_labels[labels]\n",
    "    y_true = np.array(t.values.tolist())\n",
    "    y_pred = np.array(p.values.tolist())\n",
    "    print(classification_report(y_true, y_pred, target_names=labels))\n",
    "    #cm = multilabel_confusion_matrix(y_true, y_pred)\n",
    "    #disp = ConfusionMatrixDisplay(confusion_matrix=cm, display_labels=labels)\n",
    "    #disp.plot()\n",
    "    #plt.show()"
   ]
  },
  {
   "cell_type": "markdown",
   "id": "8fe198ea-d150-49f9-97f2-e1deb7e054c6",
   "metadata": {},
   "source": [
    "# Evaluations"
   ]
  },
  {
   "cell_type": "code",
   "execution_count": 9,
   "id": "49c4b346-028e-4733-b536-5b7b53e0664a",
   "metadata": {},
   "outputs": [
    {
     "name": "stdout",
     "output_type": "stream",
     "text": [
      "               precision    recall  f1-score   support\n",
      "\n",
      "relationships       0.52      0.55      0.53       399\n",
      "   friendship       0.68      0.36      0.47       191\n",
      "     weddings       0.02      0.58      0.03        19\n",
      "       family       0.40      0.69      0.50       187\n",
      "    break ups       0.02      0.25      0.03         4\n",
      "   university       0.11      0.42      0.17        26\n",
      "        death       0.03      0.14      0.04        29\n",
      "      divorce       0.06      0.33      0.11        12\n",
      "\n",
      "    micro avg       0.24      0.51      0.33       867\n",
      "    macro avg       0.23      0.41      0.24       867\n",
      " weighted avg       0.48      0.51      0.47       867\n",
      "  samples avg       0.19      0.31      0.21       867\n",
      "\n"
     ]
    },
    {
     "name": "stderr",
     "output_type": "stream",
     "text": [
      "/home/ec2-user/anaconda3/lib/python3.9/site-packages/sklearn/metrics/_classification.py:1318: UndefinedMetricWarning: Precision and F-score are ill-defined and being set to 0.0 in samples with no predicted labels. Use `zero_division` parameter to control this behavior.\n",
      "  _warn_prf(average, modifier, msg_start, len(result))\n",
      "/home/ec2-user/anaconda3/lib/python3.9/site-packages/sklearn/metrics/_classification.py:1318: UndefinedMetricWarning: Recall and F-score are ill-defined and being set to 0.0 in samples with no true labels. Use `zero_division` parameter to control this behavior.\n",
      "  _warn_prf(average, modifier, msg_start, len(result))\n"
     ]
    }
   ],
   "source": [
    "eval_func(zero_shot, true_labels)"
   ]
  },
  {
   "cell_type": "code",
   "execution_count": 20,
   "id": "70ee770d-292b-4616-8520-274d3791061e",
   "metadata": {},
   "outputs": [
    {
     "name": "stdout",
     "output_type": "stream",
     "text": [
      "               precision    recall  f1-score   support\n",
      "\n",
      "relationships       0.74      0.62      0.67       159\n",
      "   friendship       0.00      0.00      0.00        72\n",
      "     weddings       0.00      0.00      0.00         8\n",
      "       family       0.35      0.13      0.19        62\n",
      "    break ups       0.00      0.00      0.00         0\n",
      "   university       0.00      0.00      0.00         8\n",
      "        death       0.00      0.00      0.00         7\n",
      "      divorce       0.00      0.00      0.00         5\n",
      "\n",
      "    micro avg       0.68      0.33      0.45       321\n",
      "    macro avg       0.14      0.09      0.11       321\n",
      " weighted avg       0.43      0.33      0.37       321\n",
      "  samples avg       0.23      0.19      0.20       321\n",
      "\n"
     ]
    },
    {
     "name": "stderr",
     "output_type": "stream",
     "text": [
      "/home/ec2-user/anaconda3/lib/python3.9/site-packages/sklearn/metrics/_classification.py:1318: UndefinedMetricWarning: Precision and F-score are ill-defined and being set to 0.0 in labels with no predicted samples. Use `zero_division` parameter to control this behavior.\n",
      "  _warn_prf(average, modifier, msg_start, len(result))\n",
      "/home/ec2-user/anaconda3/lib/python3.9/site-packages/sklearn/metrics/_classification.py:1318: UndefinedMetricWarning: Recall and F-score are ill-defined and being set to 0.0 in labels with no true samples. Use `zero_division` parameter to control this behavior.\n",
      "  _warn_prf(average, modifier, msg_start, len(result))\n",
      "/home/ec2-user/anaconda3/lib/python3.9/site-packages/sklearn/metrics/_classification.py:1318: UndefinedMetricWarning: Precision and F-score are ill-defined and being set to 0.0 in samples with no predicted labels. Use `zero_division` parameter to control this behavior.\n",
      "  _warn_prf(average, modifier, msg_start, len(result))\n",
      "/home/ec2-user/anaconda3/lib/python3.9/site-packages/sklearn/metrics/_classification.py:1318: UndefinedMetricWarning: Recall and F-score are ill-defined and being set to 0.0 in samples with no true labels. Use `zero_division` parameter to control this behavior.\n",
      "  _warn_prf(average, modifier, msg_start, len(result))\n"
     ]
    }
   ],
   "source": [
    "eval_func(fine_tuned, true_labels[600:1000])"
   ]
  },
  {
   "cell_type": "code",
   "execution_count": 46,
   "id": "58827340-0e54-40f5-bbaf-e22ea7791cbf",
   "metadata": {},
   "outputs": [
    {
     "name": "stdout",
     "output_type": "stream",
     "text": [
      "               precision    recall  f1-score   support\n",
      "\n",
      "relationships       0.54      0.02      0.03       399\n",
      "   friendship       0.22      0.01      0.02       191\n",
      "     weddings       0.10      0.05      0.07        19\n",
      "       family       0.00      0.00      0.00       187\n",
      "    break ups       0.00      0.00      0.00         4\n",
      "   university       0.00      0.00      0.00        26\n",
      "        death       0.00      0.00      0.00        29\n",
      "      divorce       0.00      0.00      0.00        12\n",
      "\n",
      "    micro avg       0.16      0.01      0.02       867\n",
      "    macro avg       0.11      0.01      0.02       867\n",
      " weighted avg       0.30      0.01      0.02       867\n",
      "  samples avg       0.01      0.01      0.01       867\n",
      "\n"
     ]
    },
    {
     "name": "stderr",
     "output_type": "stream",
     "text": [
      "/home/ec2-user/anaconda3/lib/python3.9/site-packages/sklearn/metrics/_classification.py:1318: UndefinedMetricWarning: Precision and F-score are ill-defined and being set to 0.0 in samples with no predicted labels. Use `zero_division` parameter to control this behavior.\n",
      "  _warn_prf(average, modifier, msg_start, len(result))\n",
      "/home/ec2-user/anaconda3/lib/python3.9/site-packages/sklearn/metrics/_classification.py:1318: UndefinedMetricWarning: Recall and F-score are ill-defined and being set to 0.0 in samples with no true labels. Use `zero_division` parameter to control this behavior.\n",
      "  _warn_prf(average, modifier, msg_start, len(result))\n"
     ]
    }
   ],
   "source": [
    "eval_func(bert_topic_5, true_labels)"
   ]
  },
  {
   "cell_type": "code",
   "execution_count": 41,
   "id": "2ad269d2-b39a-4f56-b2ab-adad2c79c16e",
   "metadata": {},
   "outputs": [
    {
     "name": "stdout",
     "output_type": "stream",
     "text": [
      "               precision    recall  f1-score   support\n",
      "\n",
      "relationships       0.56      0.02      0.04       399\n",
      "   friendship       0.22      0.01      0.02       191\n",
      "     weddings       0.04      0.05      0.05        19\n",
      "       family       0.00      0.00      0.00       187\n",
      "    break ups       0.00      0.00      0.00         4\n",
      "   university       0.00      0.00      0.00        26\n",
      "        death       0.00      0.00      0.00        29\n",
      "      divorce       0.00      0.00      0.00        12\n",
      "\n",
      "    micro avg       0.14      0.01      0.03       867\n",
      "    macro avg       0.10      0.01      0.01       867\n",
      " weighted avg       0.31      0.01      0.03       867\n",
      "  samples avg       0.01      0.01      0.01       867\n",
      "\n"
     ]
    },
    {
     "name": "stderr",
     "output_type": "stream",
     "text": [
      "/home/ec2-user/anaconda3/lib/python3.9/site-packages/sklearn/metrics/_classification.py:1318: UndefinedMetricWarning: Precision and F-score are ill-defined and being set to 0.0 in samples with no predicted labels. Use `zero_division` parameter to control this behavior.\n",
      "  _warn_prf(average, modifier, msg_start, len(result))\n",
      "/home/ec2-user/anaconda3/lib/python3.9/site-packages/sklearn/metrics/_classification.py:1318: UndefinedMetricWarning: Recall and F-score are ill-defined and being set to 0.0 in samples with no true labels. Use `zero_division` parameter to control this behavior.\n",
      "  _warn_prf(average, modifier, msg_start, len(result))\n"
     ]
    }
   ],
   "source": [
    "eval_func(bert_topic_4, true_labels)"
   ]
  },
  {
   "cell_type": "code",
   "execution_count": 43,
   "id": "af1e88e1-3868-42fe-905b-c2c5bcfffde1",
   "metadata": {},
   "outputs": [
    {
     "name": "stdout",
     "output_type": "stream",
     "text": [
      "               precision    recall  f1-score   support\n",
      "\n",
      "relationships       0.56      0.02      0.04       399\n",
      "   friendship       0.22      0.01      0.02       191\n",
      "     weddings       0.04      0.05      0.05        19\n",
      "       family       0.00      0.00      0.00       187\n",
      "    break ups       0.00      0.00      0.00         4\n",
      "   university       0.00      0.00      0.00        26\n",
      "        death       0.00      0.00      0.00        29\n",
      "      divorce       0.00      0.00      0.00        12\n",
      "\n",
      "    micro avg       0.14      0.01      0.03       867\n",
      "    macro avg       0.10      0.01      0.01       867\n",
      " weighted avg       0.31      0.01      0.03       867\n",
      "  samples avg       0.01      0.01      0.01       867\n",
      "\n"
     ]
    },
    {
     "name": "stderr",
     "output_type": "stream",
     "text": [
      "/home/ec2-user/anaconda3/lib/python3.9/site-packages/sklearn/metrics/_classification.py:1318: UndefinedMetricWarning: Precision and F-score are ill-defined and being set to 0.0 in samples with no predicted labels. Use `zero_division` parameter to control this behavior.\n",
      "  _warn_prf(average, modifier, msg_start, len(result))\n",
      "/home/ec2-user/anaconda3/lib/python3.9/site-packages/sklearn/metrics/_classification.py:1318: UndefinedMetricWarning: Recall and F-score are ill-defined and being set to 0.0 in samples with no true labels. Use `zero_division` parameter to control this behavior.\n",
      "  _warn_prf(average, modifier, msg_start, len(result))\n"
     ]
    }
   ],
   "source": [
    "eval_func(bert_topic_3, true_labels)"
   ]
  },
  {
   "cell_type": "code",
   "execution_count": 44,
   "id": "ca9c27e0-a037-4ff0-839b-be5cb81920c8",
   "metadata": {},
   "outputs": [
    {
     "name": "stdout",
     "output_type": "stream",
     "text": [
      "               precision    recall  f1-score   support\n",
      "\n",
      "relationships       0.56      0.02      0.04       399\n",
      "   friendship       0.22      0.01      0.02       191\n",
      "     weddings       0.04      0.05      0.05        19\n",
      "       family       0.00      0.00      0.00       187\n",
      "    break ups       0.00      0.00      0.00         4\n",
      "   university       0.00      0.00      0.00        26\n",
      "        death       0.00      0.00      0.00        29\n",
      "      divorce       0.00      0.00      0.00        12\n",
      "\n",
      "    micro avg       0.14      0.01      0.03       867\n",
      "    macro avg       0.10      0.01      0.01       867\n",
      " weighted avg       0.31      0.01      0.03       867\n",
      "  samples avg       0.01      0.01      0.01       867\n",
      "\n"
     ]
    },
    {
     "name": "stderr",
     "output_type": "stream",
     "text": [
      "/home/ec2-user/anaconda3/lib/python3.9/site-packages/sklearn/metrics/_classification.py:1318: UndefinedMetricWarning: Precision and F-score are ill-defined and being set to 0.0 in samples with no predicted labels. Use `zero_division` parameter to control this behavior.\n",
      "  _warn_prf(average, modifier, msg_start, len(result))\n",
      "/home/ec2-user/anaconda3/lib/python3.9/site-packages/sklearn/metrics/_classification.py:1318: UndefinedMetricWarning: Recall and F-score are ill-defined and being set to 0.0 in samples with no true labels. Use `zero_division` parameter to control this behavior.\n",
      "  _warn_prf(average, modifier, msg_start, len(result))\n"
     ]
    }
   ],
   "source": [
    "eval_func(bert_topic_2, true_labels)"
   ]
  },
  {
   "cell_type": "code",
   "execution_count": 45,
   "id": "3b403fac-b77b-46bb-b74f-f38ad4c38369",
   "metadata": {},
   "outputs": [
    {
     "name": "stdout",
     "output_type": "stream",
     "text": [
      "               precision    recall  f1-score   support\n",
      "\n",
      "relationships       0.56      0.02      0.04       399\n",
      "   friendship       0.22      0.01      0.02       191\n",
      "     weddings       0.04      0.05      0.05        19\n",
      "       family       0.00      0.00      0.00       187\n",
      "    break ups       0.00      0.00      0.00         4\n",
      "   university       0.00      0.00      0.00        26\n",
      "        death       0.00      0.00      0.00        29\n",
      "      divorce       0.00      0.00      0.00        12\n",
      "\n",
      "    micro avg       0.14      0.01      0.03       867\n",
      "    macro avg       0.10      0.01      0.01       867\n",
      " weighted avg       0.31      0.01      0.03       867\n",
      "  samples avg       0.01      0.01      0.01       867\n",
      "\n"
     ]
    },
    {
     "name": "stderr",
     "output_type": "stream",
     "text": [
      "/home/ec2-user/anaconda3/lib/python3.9/site-packages/sklearn/metrics/_classification.py:1318: UndefinedMetricWarning: Precision and F-score are ill-defined and being set to 0.0 in samples with no predicted labels. Use `zero_division` parameter to control this behavior.\n",
      "  _warn_prf(average, modifier, msg_start, len(result))\n",
      "/home/ec2-user/anaconda3/lib/python3.9/site-packages/sklearn/metrics/_classification.py:1318: UndefinedMetricWarning: Recall and F-score are ill-defined and being set to 0.0 in samples with no true labels. Use `zero_division` parameter to control this behavior.\n",
      "  _warn_prf(average, modifier, msg_start, len(result))\n"
     ]
    }
   ],
   "source": [
    "eval_func(bert_topic_1, true_labels)"
   ]
  },
  {
   "cell_type": "code",
   "execution_count": 48,
   "id": "39d88c94-c103-4c75-bfbc-f65a9ba968b0",
   "metadata": {},
   "outputs": [
    {
     "name": "stdout",
     "output_type": "stream",
     "text": [
      "               precision    recall  f1-score   support\n",
      "\n",
      "relationships       0.56      0.02      0.04       399\n",
      "   friendship       0.22      0.01      0.02       191\n",
      "     weddings       0.04      0.05      0.05        19\n",
      "       family       0.00      0.00      0.00       187\n",
      "    break ups       0.00      0.00      0.00         4\n",
      "   university       0.00      0.00      0.00        26\n",
      "        death       0.00      0.00      0.00        29\n",
      "      divorce       0.00      0.00      0.00        12\n",
      "\n",
      "    micro avg       0.14      0.01      0.03       867\n",
      "    macro avg       0.10      0.01      0.01       867\n",
      " weighted avg       0.31      0.01      0.03       867\n",
      "  samples avg       0.01      0.01      0.01       867\n",
      "\n"
     ]
    },
    {
     "name": "stderr",
     "output_type": "stream",
     "text": [
      "/home/ec2-user/anaconda3/lib/python3.9/site-packages/sklearn/metrics/_classification.py:1318: UndefinedMetricWarning: Precision and F-score are ill-defined and being set to 0.0 in samples with no predicted labels. Use `zero_division` parameter to control this behavior.\n",
      "  _warn_prf(average, modifier, msg_start, len(result))\n",
      "/home/ec2-user/anaconda3/lib/python3.9/site-packages/sklearn/metrics/_classification.py:1318: UndefinedMetricWarning: Recall and F-score are ill-defined and being set to 0.0 in samples with no true labels. Use `zero_division` parameter to control this behavior.\n",
      "  _warn_prf(average, modifier, msg_start, len(result))\n"
     ]
    }
   ],
   "source": [
    "eval_func(bert_topic_01, true_labels)"
   ]
  },
  {
   "cell_type": "code",
   "execution_count": 10,
   "id": "b49208ec-03a6-4fd7-ad0c-10b63130ef08",
   "metadata": {},
   "outputs": [
    {
     "name": "stdout",
     "output_type": "stream",
     "text": [
      "               precision    recall  f1-score   support\n",
      "\n",
      "relationships       0.59      0.14      0.22       399\n",
      "   friendship       0.95      0.11      0.20       191\n",
      "     weddings       0.27      0.95      0.42        19\n",
      "       family       0.54      0.88      0.67       187\n",
      "    break ups       0.14      0.25      0.18         4\n",
      "   university       0.81      0.85      0.83        26\n",
      "        death       0.05      0.21      0.08        29\n",
      "      divorce       0.38      0.92      0.54        12\n",
      "\n",
      "    micro avg       0.44      0.34      0.39       867\n",
      "    macro avg       0.47      0.54      0.39       867\n",
      " weighted avg       0.63      0.34      0.33       867\n",
      "  samples avg       0.22      0.19      0.19       867\n",
      "\n"
     ]
    },
    {
     "name": "stderr",
     "output_type": "stream",
     "text": [
      "/home/ec2-user/anaconda3/lib/python3.9/site-packages/sklearn/metrics/_classification.py:1318: UndefinedMetricWarning: Precision and F-score are ill-defined and being set to 0.0 in samples with no predicted labels. Use `zero_division` parameter to control this behavior.\n",
      "  _warn_prf(average, modifier, msg_start, len(result))\n",
      "/home/ec2-user/anaconda3/lib/python3.9/site-packages/sklearn/metrics/_classification.py:1318: UndefinedMetricWarning: Recall and F-score are ill-defined and being set to 0.0 in samples with no true labels. Use `zero_division` parameter to control this behavior.\n",
      "  _warn_prf(average, modifier, msg_start, len(result))\n"
     ]
    }
   ],
   "source": [
    "eval_func(model_one, true_labels)"
   ]
  },
  {
   "cell_type": "code",
   "execution_count": null,
   "id": "6468b881-7dc0-4204-87b0-095bfe5031b7",
   "metadata": {},
   "outputs": [],
   "source": [
    "guided_files = [bert_topic_g5, bert_topic_g4, bert_topic_g3, bert_topic_g2, bert_topic_g1, bert_topic_g01, bert_topic_g001, bert_topic_g0001]\n",
    "unsup_files = [bert_topic_5, bert_topic_4, bert_topic_3, bert_topic_2, bert_topic_1 ,bert_topic_01, bert_topic_001, bert_topic_0001]"
   ]
  },
  {
   "cell_type": "code",
   "execution_count": null,
   "id": "3bcadbbd-4e60-45df-8a8a-0faaf10ddd96",
   "metadata": {},
   "outputs": [],
   "source": [
    "for g in guided_files:\n",
    "    print(eval_func(g, true_labels))"
   ]
  },
  {
   "cell_type": "code",
   "execution_count": null,
   "id": "f605ff32-8663-4cb2-9e48-cd6e5a9fab16",
   "metadata": {},
   "outputs": [],
   "source": [
    "for u in unsup_files:\n",
    "    print(eval_func(u, true_labels))"
   ]
  }
 ],
 "metadata": {
  "kernelspec": {
   "display_name": "Python 3 (ipykernel)",
   "language": "python",
   "name": "python3"
  },
  "language_info": {
   "codemirror_mode": {
    "name": "ipython",
    "version": 3
   },
   "file_extension": ".py",
   "mimetype": "text/x-python",
   "name": "python",
   "nbconvert_exporter": "python",
   "pygments_lexer": "ipython3",
   "version": "3.9.12"
  }
 },
 "nbformat": 4,
 "nbformat_minor": 5
}
