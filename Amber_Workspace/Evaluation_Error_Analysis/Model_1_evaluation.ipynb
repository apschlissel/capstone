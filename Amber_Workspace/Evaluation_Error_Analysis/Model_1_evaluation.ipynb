{
 "cells": [
  {
   "cell_type": "markdown",
   "id": "c737c231-f3a9-44d8-b35e-90a5b1b94949",
   "metadata": {},
   "source": [
    "# Model 1 Evaluation"
   ]
  },
  {
   "cell_type": "code",
   "execution_count": 1,
   "id": "aee8bc4b-4a6d-4e8c-a7f5-a86b742669d1",
   "metadata": {},
   "outputs": [],
   "source": [
    "import s3fs\n",
    "import boto3\n",
    "import pandas as pd"
   ]
  },
  {
   "cell_type": "code",
   "execution_count": 2,
   "id": "59dcba2d-156e-491a-92f9-59c43a7ec3b1",
   "metadata": {},
   "outputs": [],
   "source": [
    "model_1_v0 = pd.read_csv('s3://ec2-jupyter-notebook-us-west-2-8c94c42abbd5478ca9a1a477613965a7/test_results_model1v0.csv')\n",
    "model_1_v1 = pd.read_csv('s3://ec2-jupyter-notebook-us-west-2-8c94c42abbd5478ca9a1a477613965a7/test_results_model1v1.csv')"
   ]
  },
  {
   "cell_type": "code",
   "execution_count": 3,
   "id": "89e21312-8c6f-4463-941d-8bb84b1346a2",
   "metadata": {},
   "outputs": [],
   "source": [
    "model_1_v0.to_csv('model_1_v0.csv')"
   ]
  },
  {
   "cell_type": "code",
   "execution_count": 4,
   "id": "905a3984-12d5-45ff-80bd-b5ec93903b15",
   "metadata": {},
   "outputs": [],
   "source": [
    "model_1_v1.to_csv('model_1_v1.csv')"
   ]
  },
  {
   "cell_type": "code",
   "execution_count": 153,
   "id": "c126d993-67b1-4d25-b8f5-c4825f9bc116",
   "metadata": {},
   "outputs": [
    {
     "data": {
      "text/plain": [
       "[]            99\n",
       "['moving']     1\n",
       "Name: moving, dtype: int64"
      ]
     },
     "execution_count": 153,
     "metadata": {},
     "output_type": "execute_result"
    }
   ],
   "source": [
    "model_1_v0['moving'].value_counts()"
   ]
  },
  {
   "cell_type": "code",
   "execution_count": null,
   "id": "19eccb59-f017-4326-bc74-fa450cf74fcf",
   "metadata": {},
   "outputs": [],
   "source": [
    "#average number of classifications per book (out of books that were classified)\n",
    "#average number of classifications per book (out of all books)"
   ]
  },
  {
   "cell_type": "markdown",
   "id": "8aa8f3b9-a6f3-4f5b-bdd2-af786eab3190",
   "metadata": {},
   "source": [
    "## Model 1 v0"
   ]
  },
  {
   "cell_type": "code",
   "execution_count": 154,
   "id": "477422b0-acf1-4bac-90e2-84cade03cf39",
   "metadata": {},
   "outputs": [
    {
     "data": {
      "text/plain": [
       "Index(['Unnamed: 0.2', 'Unnamed: 0.1', 'Unnamed: 0', 'bookId', 'title',\n",
       "       'series', 'author', 'description', 'isbn', 'genres', 'pages',\n",
       "       'publishDate', 'Fiction', 'Young Adult', 'Childrens', 'New Adult',\n",
       "       'Fantasy', 'History', 'Dystopia', 'Manga', 'Thriller', 'Graphic Novels',\n",
       "       'Romance', 'tokens', 'university', 'relationships', 'break ups',\n",
       "       'divorce', 'wedding', 'moving', 'coming of age', 'death',\n",
       "       'Life Event Categories', 'University_T', 'Relationships_T',\n",
       "       'Break_ups_T', 'Divorce_T', 'Wedding_T', 'Moving_T', 'Coming_of_age_T',\n",
       "       'Death_T', 'Family_T', 'Friendship_T'],\n",
       "      dtype='object')"
      ]
     },
     "execution_count": 154,
     "metadata": {},
     "output_type": "execute_result"
    }
   ],
   "source": [
    "model_1_v0.columns"
   ]
  },
  {
   "cell_type": "code",
   "execution_count": 155,
   "id": "a4ac8448-75c1-492e-9c29-0c2ee80bab35",
   "metadata": {},
   "outputs": [],
   "source": [
    "def prec_func(class_col, true_col, model):\n",
    "    FP = 0\n",
    "    FN = 0\n",
    "    TN = 0\n",
    "    TP = 0\n",
    "    for i in range(0,len(model)):\n",
    "            if model[class_col][i] != '[]' and model[true_col][i] == True:\n",
    "                TP = TP + 1\n",
    "            if model[class_col][i] == '[]' and model[true_col][i] == True:\n",
    "                FN = FN + 1\n",
    "            if model[class_col][i] != '[]' and model[true_col][i] == False:\n",
    "                FP == FP + 1\n",
    "            if model[class_col][i] == '[]'  and model[true_col][i] == False:\n",
    "                TN = TN + 1\n",
    "    results = [TP, TN, FP, FN]\n",
    "    #accuracy = TP / (FP + TP)\n",
    "    return results"
   ]
  },
  {
   "cell_type": "code",
   "execution_count": 156,
   "id": "6362af93-1996-4938-bd0f-0e4cb41ebaf5",
   "metadata": {},
   "outputs": [],
   "source": [
    "def eval_func(class_col, true_col, model):\n",
    "    FP = 0\n",
    "    FN = 0\n",
    "    TN = 0\n",
    "    TP = 0\n",
    "    for i in range(0,len(model)):\n",
    "            if model[class_col][i] != '[]' and model[true_col][i] == True:\n",
    "                TP = TP + 1\n",
    "            if model[class_col][i] == '[]' and model[true_col][i] == True:\n",
    "                FN = FN + 1\n",
    "            if model[class_col][i] != '[]' and model[true_col][i] == False:\n",
    "                FP == FP + 1\n",
    "            if model[class_col][i] == '[]'  and model[true_col][i] == False:\n",
    "                TN = TN + 1\n",
    "    results = [TP, TN, FP, FN]\n",
    "    accuracy = (TP + TN) / sum(results)\n",
    "    return accuracy"
   ]
  },
  {
   "cell_type": "code",
   "execution_count": 157,
   "id": "23912e34-7047-4826-8594-ebf5b92fc151",
   "metadata": {},
   "outputs": [
    {
     "data": {
      "text/plain": [
       "1.0"
      ]
     },
     "execution_count": 157,
     "metadata": {},
     "output_type": "execute_result"
    }
   ],
   "source": [
    "un_v0 = eval_func('university', 'University_T', model_1_v0)\n",
    "#print('TP:', un_v0[0], 'TN:', un_v0[1],'FP:', un_v0[2],'FN:', un_v0[3],)\n",
    "un_v0"
   ]
  },
  {
   "cell_type": "code",
   "execution_count": 158,
   "id": "75f9fef0-69af-4bdf-9f46-81535e0a7c1b",
   "metadata": {},
   "outputs": [],
   "source": [
    "re_v0 = eval_func('relationships', 'Relationships_T', model_1_v0)\n",
    "#print('TP:', re_v0[0], 'TN:', re_v0[1],'FP:', re_v0[2],'FN:', re_v0[3],)"
   ]
  },
  {
   "cell_type": "code",
   "execution_count": 159,
   "id": "93117e5a-29bc-4723-9c03-1a8139d20e32",
   "metadata": {},
   "outputs": [],
   "source": [
    "br_v0 = eval_func('break ups', 'Break_ups_T', model_1_v0)\n",
    "#print('TP:', br_v0[0], 'TN:', br_v0[1],'FP:', br_v0[2],'FN:', br_v0[3],)"
   ]
  },
  {
   "cell_type": "code",
   "execution_count": 160,
   "id": "7bbde449-3835-42bc-a748-ff1b719b413d",
   "metadata": {},
   "outputs": [],
   "source": [
    "di_v0 = eval_func('divorce', 'Divorce_T', model_1_v0)\n",
    "#print('TP:', di_v0[0], 'TN:', di_v0[1],'FP:', di_v0[2],'FN:', di_v0[3],)"
   ]
  },
  {
   "cell_type": "code",
   "execution_count": 161,
   "id": "7096496c-07bd-4a92-a1da-09419e9f080c",
   "metadata": {},
   "outputs": [],
   "source": [
    "we_v0 = eval_func('wedding', 'Wedding_T', model_1_v0)\n",
    "#print('TP:', we_v0[0], 'TN:', we_v0[1],'FP:', we_v0[2],'FN:', we_v0[3],)"
   ]
  },
  {
   "cell_type": "code",
   "execution_count": 162,
   "id": "d141b598-a3cd-4f85-863b-4e2105147711",
   "metadata": {},
   "outputs": [],
   "source": [
    "mo_v0 = eval_func('moving', 'Moving_T', model_1_v0)\n",
    "#print('TP:', mo_v0[0], 'TN:', mo_v0[1],'FP:', mo_v0[2],'FN:', mo_v0[3],)"
   ]
  },
  {
   "cell_type": "code",
   "execution_count": 163,
   "id": "a4269918-9567-44f3-91a8-17d5ee849c22",
   "metadata": {},
   "outputs": [
    {
     "data": {
      "text/plain": [
       "0.0"
      ]
     },
     "execution_count": 163,
     "metadata": {},
     "output_type": "execute_result"
    }
   ],
   "source": [
    "mo_v0"
   ]
  },
  {
   "cell_type": "code",
   "execution_count": 164,
   "id": "098262f3-bc15-4cce-aae7-52ba96394b43",
   "metadata": {},
   "outputs": [],
   "source": [
    "co_v0 = eval_func('coming of age', 'Coming_of_age_T', model_1_v0)\n",
    "#print('TP:', co_v0[0], 'TN:', co_v0[1],'FP:', co_v0[2],'FN:', co_v0[3],)"
   ]
  },
  {
   "cell_type": "code",
   "execution_count": 165,
   "id": "b5df7494-a951-4f90-81a6-5a96a59d2191",
   "metadata": {},
   "outputs": [],
   "source": [
    "de_v0 = eval_func('death', 'Death_T', model_1_v0)\n",
    "#print('TP:', de_v0[0], 'TN:', de_v0[1],'FP:', de_v0[2],'FN:', de_v0[3],)"
   ]
  },
  {
   "cell_type": "markdown",
   "id": "492749bd-9c03-4302-9409-3aedec601c7a",
   "metadata": {},
   "source": [
    "## Model 1 v1"
   ]
  },
  {
   "cell_type": "code",
   "execution_count": 166,
   "id": "33ff7ca9-7e3f-48c6-b7b8-748c79644eb1",
   "metadata": {},
   "outputs": [
    {
     "data": {
      "text/plain": [
       "Index(['Unnamed: 0.2', 'Unnamed: 0.1', 'Unnamed: 0', 'bookId', 'title',\n",
       "       'series', 'author', 'description', 'isbn', 'genres', 'pages',\n",
       "       'publishDate', 'Fiction', 'Young Adult', 'Childrens', 'New Adult',\n",
       "       'Fantasy', 'History', 'Dystopia', 'Manga', 'Thriller', 'Graphic Novels',\n",
       "       'Romance', 'tokens', 'university', 'relationships', 'break ups',\n",
       "       'divorce', 'wedding', 'death', 'family', 'friendship',\n",
       "       'Life Event Categories', 'University_T', 'Relationships_T',\n",
       "       'Break_ups_T', 'Divorce_T', 'Wedding_T', 'Moving_T', 'Coming_of_age_T',\n",
       "       'Death_T', 'Family_T', 'Friendship_T'],\n",
       "      dtype='object')"
      ]
     },
     "execution_count": 166,
     "metadata": {},
     "output_type": "execute_result"
    }
   ],
   "source": [
    "model_1_v1.columns"
   ]
  },
  {
   "cell_type": "code",
   "execution_count": 167,
   "id": "edf2c08a-d1a3-4159-923b-41d524966eb4",
   "metadata": {},
   "outputs": [],
   "source": [
    "un_v1 = eval_func('university', 'University_T', model_1_v1)\n",
    "re_v1 = eval_func('relationships', 'Relationships_T', model_1_v1)\n",
    "br_v1 = eval_func('break ups', 'Break_ups_T', model_1_v1)\n",
    "di_v1 = eval_func('divorce', 'Divorce_T', model_1_v1)\n",
    "we_v1 = eval_func('wedding', 'Wedding_T', model_1_v1)\n",
    "#mo_v1 = eval_func('moving', 'Moving_T', model_1_v1)\n",
    "#co_v1 = eval_func('coming of age', 'Coming_of_age_T', model_1_v1)\n",
    "de_v1 = eval_func('death', 'Death_T', model_1_v1)\n",
    "fa_v1 = eval_func('family', 'Family_T', model_1_v1)\n",
    "fr_v1 = eval_func('friendship', 'Friendship_T', model_1_v1)"
   ]
  },
  {
   "cell_type": "code",
   "execution_count": 168,
   "id": "4a2d5391-c65f-47cf-8528-cb53302f8320",
   "metadata": {},
   "outputs": [
    {
     "data": {
      "text/html": [
       "<div>\n",
       "<style scoped>\n",
       "    .dataframe tbody tr th:only-of-type {\n",
       "        vertical-align: middle;\n",
       "    }\n",
       "\n",
       "    .dataframe tbody tr th {\n",
       "        vertical-align: top;\n",
       "    }\n",
       "\n",
       "    .dataframe thead th {\n",
       "        text-align: right;\n",
       "    }\n",
       "</style>\n",
       "<table border=\"1\" class=\"dataframe\">\n",
       "  <thead>\n",
       "    <tr style=\"text-align: right;\">\n",
       "      <th></th>\n",
       "      <th>v0</th>\n",
       "      <th>v1</th>\n",
       "    </tr>\n",
       "  </thead>\n",
       "  <tbody>\n",
       "    <tr>\n",
       "      <th>University</th>\n",
       "      <td>1.0</td>\n",
       "      <td>1.0</td>\n",
       "    </tr>\n",
       "    <tr>\n",
       "      <th>Relationships</th>\n",
       "      <td>0.5</td>\n",
       "      <td>0.538462</td>\n",
       "    </tr>\n",
       "    <tr>\n",
       "      <th>Break ups</th>\n",
       "      <td>0.870968</td>\n",
       "      <td>0.870968</td>\n",
       "    </tr>\n",
       "    <tr>\n",
       "      <th>Divorce</th>\n",
       "      <td>1.0</td>\n",
       "      <td>1.0</td>\n",
       "    </tr>\n",
       "    <tr>\n",
       "      <th>Wedding</th>\n",
       "      <td>0.967742</td>\n",
       "      <td>0.90625</td>\n",
       "    </tr>\n",
       "    <tr>\n",
       "      <th>Moving</th>\n",
       "      <td>0.0</td>\n",
       "      <td>N/A</td>\n",
       "    </tr>\n",
       "    <tr>\n",
       "      <th>Coming of age</th>\n",
       "      <td>0.931034</td>\n",
       "      <td>N/A</td>\n",
       "    </tr>\n",
       "    <tr>\n",
       "      <th>Death</th>\n",
       "      <td>0.666667</td>\n",
       "      <td>0.666667</td>\n",
       "    </tr>\n",
       "    <tr>\n",
       "      <th>Family</th>\n",
       "      <td>N/A</td>\n",
       "      <td>0.839286</td>\n",
       "    </tr>\n",
       "    <tr>\n",
       "      <th>Friendship</th>\n",
       "      <td>N/A</td>\n",
       "      <td>0.902439</td>\n",
       "    </tr>\n",
       "  </tbody>\n",
       "</table>\n",
       "</div>"
      ],
      "text/plain": [
       "                     v0        v1\n",
       "University          1.0       1.0\n",
       "Relationships       0.5  0.538462\n",
       "Break ups      0.870968  0.870968\n",
       "Divorce             1.0       1.0\n",
       "Wedding        0.967742   0.90625\n",
       "Moving              0.0       N/A\n",
       "Coming of age  0.931034       N/A\n",
       "Death          0.666667  0.666667\n",
       "Family              N/A  0.839286\n",
       "Friendship          N/A  0.902439"
      ]
     },
     "execution_count": 168,
     "metadata": {},
     "output_type": "execute_result"
    }
   ],
   "source": [
    "data = {'v0': [un_v0, re_v0 , br_v0, di_v0, we_v0, mo_v0, co_v0, de_v0, 'N/A', 'N/A'],\n",
    "        'v1': [un_v1, re_v1 , br_v1, di_v1, we_v1, 'N/A', 'N/A', de_v1, fa_v1, fr_v1]}\n",
    "  \n",
    "# Creates pandas DataFrame.\n",
    "df = pd.DataFrame(data, index=['University',\n",
    "                               'Relationships',\n",
    "                               'Break ups',\n",
    "                               'Divorce', 'Wedding', 'Moving', 'Coming of age', 'Death', 'Family', 'Friendship'])\n",
    "  \n",
    "# print the data\n",
    "df"
   ]
  },
  {
   "cell_type": "markdown",
   "id": "a896e8b0-6654-4a6f-a06e-9004235bca2c",
   "metadata": {},
   "source": [
    "# Overall Accuracy"
   ]
  },
  {
   "cell_type": "code",
   "execution_count": 136,
   "id": "07ab0cdd-a3ae-4474-9a49-0af49f713901",
   "metadata": {},
   "outputs": [],
   "source": [
    "un_v1 = prec_func('university', 'University_T', model_1_v1)\n",
    "re_v1 = prec_func('relationships', 'Relationships_T', model_1_v1)\n",
    "br_v1 = prec_func('break ups', 'Break_ups_T', model_1_v1)\n",
    "di_v1 = prec_func('divorce', 'Divorce_T', model_1_v1)\n",
    "we_v1 = prec_func('wedding', 'Wedding_T', model_1_v1)\n",
    "#mo_v1 = prec_func('moving', 'Moving_T', model_1_v1)\n",
    "#co_v1 = prec_func('coming of age', 'Coming_of_age_T', model_1_v1)\n",
    "de_v1 = prec_func('death', 'Death_T', model_1_v1)\n",
    "fa_v1 = prec_func('family', 'Family_T', model_1_v1)\n",
    "fr_v1 = prec_func('friendship', 'Friendship_T', model_1_v1)"
   ]
  },
  {
   "cell_type": "code",
   "execution_count": 137,
   "id": "d7bf490e-be07-4376-9b16-0b1fad12c1b0",
   "metadata": {},
   "outputs": [
    {
     "name": "stdout",
     "output_type": "stream",
     "text": [
      "model 1 v1 accuracy 0.8018018018018018\n"
     ]
    }
   ],
   "source": [
    "true_pos = 0\n",
    "total = 0\n",
    "false_pos = 0\n",
    "true_neg = 0\n",
    "false_neg = 0\n",
    "for i in [un_v1, re_v1, br_v1, di_v1, we_v1, de_v1, fa_v1, fr_v1]:\n",
    "    total = total + sum(i)\n",
    "    true_pos = true_pos + i[0]\n",
    "    false_pos = false_pos + i[2]\n",
    "    true_neg = true_neg + i[1]\n",
    "    false_neg = false_neg + i[3]\n",
    "print('model 1 v1 accuracy', (true_pos + true_neg) / total)"
   ]
  },
  {
   "cell_type": "code",
   "execution_count": 142,
   "id": "acd4553e-885a-483a-9c87-5556a5e189a7",
   "metadata": {},
   "outputs": [],
   "source": [
    "un_v0 = prec_func('university', 'University_T', model_1_v0)\n",
    "re_v0 = prec_func('relationships', 'Relationships_T', model_1_v0)\n",
    "br_v0 = prec_func('break ups', 'Break_ups_T', model_1_v0)\n",
    "di_v0 = prec_func('divorce', 'Divorce_T', model_1_v0)\n",
    "we_v0 = prec_func('wedding', 'Wedding_T', model_1_v0)\n",
    "mo_v0 = prec_func('moving', 'Moving_T', model_1_v0)\n",
    "co_v0 = prec_func('coming of age', 'Coming_of_age_T', model_1_v0)\n",
    "de_v0 = prec_func('death', 'Death_T', model_1_v0)"
   ]
  },
  {
   "cell_type": "code",
   "execution_count": 145,
   "id": "45190a0f-2495-4409-8495-227eda371b6b",
   "metadata": {},
   "outputs": [
    {
     "name": "stdout",
     "output_type": "stream",
     "text": [
      "0\n",
      "0\n",
      "0\n",
      "0\n",
      "0\n",
      "0\n",
      "0\n",
      "0\n",
      "model 1 v0 accuracy 0.7509025270758123\n"
     ]
    }
   ],
   "source": [
    "true_pos = 0\n",
    "total = 0\n",
    "false_pos = 0\n",
    "true_neg = 0\n",
    "false_neg = 0\n",
    "for i in [un_v0, re_v0, br_v0, di_v0, we_v0, mo_v0, co_v0, de_v0]:\n",
    "    total = total + sum(i)\n",
    "    true_pos = true_pos + i[0]\n",
    "    false_pos = false_pos + i[2]\n",
    "    true_neg = true_neg + i[1]\n",
    "    false_neg = false_neg + i[3]\n",
    "print('model 1 v0 accuracy', (true_pos + true_neg) / total)"
   ]
  },
  {
   "cell_type": "code",
   "execution_count": null,
   "id": "b4b2074a-f57d-4605-b29b-c57db85e33ca",
   "metadata": {},
   "outputs": [],
   "source": []
  }
 ],
 "metadata": {
  "kernelspec": {
   "display_name": "Python 3 (ipykernel)",
   "language": "python",
   "name": "python3"
  },
  "language_info": {
   "codemirror_mode": {
    "name": "ipython",
    "version": 3
   },
   "file_extension": ".py",
   "mimetype": "text/x-python",
   "name": "python",
   "nbconvert_exporter": "python",
   "pygments_lexer": "ipython3",
   "version": "3.9.12"
  }
 },
 "nbformat": 4,
 "nbformat_minor": 5
}
