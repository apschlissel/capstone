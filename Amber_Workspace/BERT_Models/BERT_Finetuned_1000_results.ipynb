{
 "cells": [
  {
   "cell_type": "markdown",
   "metadata": {
    "id": "kLB3I4FKZ5Lr",
    "tags": []
   },
   "source": [
    "# Fine-tuning BERT (and friends) for multi-label text classification\n",
    "\n",
    "In this notebook, we are going to fine-tune BERT to predict one or more labels for a given piece of text. Note that this notebook illustrates how to fine-tune a bert-base-uncased model, but you can also fine-tune a RoBERTa, DeBERTa, DistilBERT, CANINE, ... checkpoint in the same way. \n",
    "\n",
    "All of those work in the same way: they add a linear layer on top of the base model, which is used to produce a tensor of shape (batch_size, num_labels), indicating the unnormalized scores for a number of labels for every example in the batch.\n",
    "\n",
    "\n",
    "\n",
    "## Set-up environment\n",
    "\n",
    "First, we install the libraries which we'll use: HuggingFace Transformers and Datasets."
   ]
  },
  {
   "cell_type": "code",
   "execution_count": 1,
   "metadata": {
    "id": "4wxY3x-ZZz8h"
   },
   "outputs": [
    {
     "name": "stderr",
     "output_type": "stream",
     "text": [
      "2022-08-01 17:24:41.304398: I tensorflow/core/util/util.cc:169] oneDNN custom operations are on. You may see slightly different numerical results due to floating-point round-off errors from different computation orders. To turn them off, set the environment variable `TF_ENABLE_ONEDNN_OPTS=0`.\n",
      "2022-08-01 17:24:41.467005: W tensorflow/stream_executor/platform/default/dso_loader.cc:64] Could not load dynamic library 'libcudart.so.11.0'; dlerror: libcudart.so.11.0: cannot open shared object file: No such file or directory\n",
      "2022-08-01 17:24:41.467022: I tensorflow/stream_executor/cuda/cudart_stub.cc:29] Ignore above cudart dlerror if you do not have a GPU set up on your machine.\n"
     ]
    }
   ],
   "source": [
    "import s3fs\n",
    "import boto3\n",
    "import pandas as pd\n",
    "import nltk\n",
    "\n",
    "import re\n",
    "from nltk.corpus import stopwords\n",
    "from nltk.corpus import wordnet\n",
    "from nltk.tokenize import word_tokenize\n",
    "import tensorflow as tf\n",
    "import transformers\n",
    "import numpy as np\n"
   ]
  },
  {
   "cell_type": "code",
   "execution_count": 2,
   "metadata": {},
   "outputs": [],
   "source": [
    "import torch"
   ]
  },
  {
   "cell_type": "markdown",
   "metadata": {
    "id": "bIH9NP0MZ6-O"
   },
   "source": [
    "## Load dataset\n",
    "\n",
    "Next, let's download a multi-label text classification dataset from the [hub](https://huggingface.co/).\n",
    "\n",
    "At the time of writing, I picked a random one as follows:   \n",
    "\n",
    "* first, go to the \"datasets\" tab on huggingface.co\n",
    "* next, select the \"multi-label-classification\" tag on the left as well as the the \"1k<10k\" tag (fo find a relatively small dataset).\n",
    "\n",
    "Note that you can also easily load your local data (i.e. csv files, txt files, Parquet files, JSON, ...) as explained [here](https://huggingface.co/docs/datasets/loading.html#local-and-remote-files).\n",
    "\n"
   ]
  },
  {
   "cell_type": "code",
   "execution_count": 3,
   "metadata": {},
   "outputs": [],
   "source": [
    "dataset = pd.read_csv('BERTopic_Labeled.csv')"
   ]
  },
  {
   "cell_type": "code",
   "execution_count": 4,
   "metadata": {},
   "outputs": [],
   "source": [
    "dataset.rename(columns = {'Unnamed: 0':'ID'}, inplace = True)"
   ]
  },
  {
   "cell_type": "code",
   "execution_count": 5,
   "metadata": {},
   "outputs": [],
   "source": [
    "dataset = dataset[['ID','description', 'university', 'relationships', 'break ups', 'divorce', 'weddings', 'death', 'family', 'friendship']]"
   ]
  },
  {
   "cell_type": "code",
   "execution_count": 6,
   "metadata": {},
   "outputs": [
    {
     "data": {
      "text/plain": [
       "0      From the Wall Street Journal and #1 Amazon bes...\n",
       "1      Helping set the stage for BioWare's hotly anti...\n",
       "2      Sebastian Locke, the fifty-six-year-old patria...\n",
       "3      \"Take me back to Oxmoon, the lost paradise of ...\n",
       "4      When the Mayflower set sail in 1620, it carrie...\n",
       "                             ...                        \n",
       "995    Lee wants to be a Tarantula – a member of the ...\n",
       "996    The Merry Adventures of Robin Hood of Great Re...\n",
       "997    Moving from present-day Oslo to Brooklyn in th...\n",
       "998    The captivating sequel to INKHEART, the critic...\n",
       "999    Santa Claus, my dear old friend, you are a thi...\n",
       "Name: description, Length: 1000, dtype: object"
      ]
     },
     "execution_count": 6,
     "metadata": {},
     "output_type": "execute_result"
    }
   ],
   "source": [
    "dataset['description']"
   ]
  },
  {
   "cell_type": "code",
   "execution_count": 7,
   "metadata": {},
   "outputs": [],
   "source": [
    "#dataset['description'] = dataset['description'].apply(lambda x: re.sub(r'[^a-zA-Z ]+', ' ', x))"
   ]
  },
  {
   "cell_type": "code",
   "execution_count": 8,
   "metadata": {},
   "outputs": [],
   "source": [
    "#dataset['description'] = dataset['description'].apply(lambda x: x.lower())"
   ]
  },
  {
   "cell_type": "code",
   "execution_count": 9,
   "metadata": {},
   "outputs": [],
   "source": [
    "dataset = dataset.replace(np.nan, False)"
   ]
  },
  {
   "cell_type": "code",
   "execution_count": 10,
   "metadata": {},
   "outputs": [
    {
     "data": {
      "text/html": [
       "<div>\n",
       "<style scoped>\n",
       "    .dataframe tbody tr th:only-of-type {\n",
       "        vertical-align: middle;\n",
       "    }\n",
       "\n",
       "    .dataframe tbody tr th {\n",
       "        vertical-align: top;\n",
       "    }\n",
       "\n",
       "    .dataframe thead th {\n",
       "        text-align: right;\n",
       "    }\n",
       "</style>\n",
       "<table border=\"1\" class=\"dataframe\">\n",
       "  <thead>\n",
       "    <tr style=\"text-align: right;\">\n",
       "      <th></th>\n",
       "      <th>ID</th>\n",
       "      <th>description</th>\n",
       "      <th>university</th>\n",
       "      <th>relationships</th>\n",
       "      <th>break ups</th>\n",
       "      <th>divorce</th>\n",
       "      <th>weddings</th>\n",
       "      <th>death</th>\n",
       "      <th>family</th>\n",
       "      <th>friendship</th>\n",
       "    </tr>\n",
       "  </thead>\n",
       "  <tbody>\n",
       "    <tr>\n",
       "      <th>0</th>\n",
       "      <td>39,822</td>\n",
       "      <td>From the Wall Street Journal and #1 Amazon bes...</td>\n",
       "      <td>False</td>\n",
       "      <td>True</td>\n",
       "      <td>False</td>\n",
       "      <td>False</td>\n",
       "      <td>False</td>\n",
       "      <td>False</td>\n",
       "      <td>False</td>\n",
       "      <td>False</td>\n",
       "    </tr>\n",
       "    <tr>\n",
       "      <th>1</th>\n",
       "      <td>34,235</td>\n",
       "      <td>Helping set the stage for BioWare's hotly anti...</td>\n",
       "      <td>False</td>\n",
       "      <td>False</td>\n",
       "      <td>False</td>\n",
       "      <td>False</td>\n",
       "      <td>False</td>\n",
       "      <td>False</td>\n",
       "      <td>False</td>\n",
       "      <td>False</td>\n",
       "    </tr>\n",
       "    <tr>\n",
       "      <th>2</th>\n",
       "      <td>27,904</td>\n",
       "      <td>Sebastian Locke, the fifty-six-year-old patria...</td>\n",
       "      <td>False</td>\n",
       "      <td>True</td>\n",
       "      <td>False</td>\n",
       "      <td>True</td>\n",
       "      <td>False</td>\n",
       "      <td>True</td>\n",
       "      <td>True</td>\n",
       "      <td>False</td>\n",
       "    </tr>\n",
       "    <tr>\n",
       "      <th>3</th>\n",
       "      <td>10,515</td>\n",
       "      <td>\"Take me back to Oxmoon, the lost paradise of ...</td>\n",
       "      <td>False</td>\n",
       "      <td>True</td>\n",
       "      <td>False</td>\n",
       "      <td>False</td>\n",
       "      <td>False</td>\n",
       "      <td>False</td>\n",
       "      <td>True</td>\n",
       "      <td>False</td>\n",
       "    </tr>\n",
       "    <tr>\n",
       "      <th>4</th>\n",
       "      <td>935</td>\n",
       "      <td>When the Mayflower set sail in 1620, it carrie...</td>\n",
       "      <td>False</td>\n",
       "      <td>False</td>\n",
       "      <td>False</td>\n",
       "      <td>False</td>\n",
       "      <td>False</td>\n",
       "      <td>False</td>\n",
       "      <td>False</td>\n",
       "      <td>False</td>\n",
       "    </tr>\n",
       "    <tr>\n",
       "      <th>...</th>\n",
       "      <td>...</td>\n",
       "      <td>...</td>\n",
       "      <td>...</td>\n",
       "      <td>...</td>\n",
       "      <td>...</td>\n",
       "      <td>...</td>\n",
       "      <td>...</td>\n",
       "      <td>...</td>\n",
       "      <td>...</td>\n",
       "      <td>...</td>\n",
       "    </tr>\n",
       "    <tr>\n",
       "      <th>995</th>\n",
       "      <td>17,361</td>\n",
       "      <td>Lee wants to be a Tarantula – a member of the ...</td>\n",
       "      <td>False</td>\n",
       "      <td>False</td>\n",
       "      <td>False</td>\n",
       "      <td>False</td>\n",
       "      <td>False</td>\n",
       "      <td>False</td>\n",
       "      <td>False</td>\n",
       "      <td>True</td>\n",
       "    </tr>\n",
       "    <tr>\n",
       "      <th>996</th>\n",
       "      <td>9,029</td>\n",
       "      <td>The Merry Adventures of Robin Hood of Great Re...</td>\n",
       "      <td>False</td>\n",
       "      <td>False</td>\n",
       "      <td>False</td>\n",
       "      <td>False</td>\n",
       "      <td>False</td>\n",
       "      <td>False</td>\n",
       "      <td>False</td>\n",
       "      <td>False</td>\n",
       "    </tr>\n",
       "    <tr>\n",
       "      <th>997</th>\n",
       "      <td>32,216</td>\n",
       "      <td>Moving from present-day Oslo to Brooklyn in th...</td>\n",
       "      <td>False</td>\n",
       "      <td>False</td>\n",
       "      <td>False</td>\n",
       "      <td>False</td>\n",
       "      <td>False</td>\n",
       "      <td>False</td>\n",
       "      <td>True</td>\n",
       "      <td>False</td>\n",
       "    </tr>\n",
       "    <tr>\n",
       "      <th>998</th>\n",
       "      <td>1,036</td>\n",
       "      <td>The captivating sequel to INKHEART, the critic...</td>\n",
       "      <td>False</td>\n",
       "      <td>False</td>\n",
       "      <td>False</td>\n",
       "      <td>False</td>\n",
       "      <td>False</td>\n",
       "      <td>False</td>\n",
       "      <td>False</td>\n",
       "      <td>False</td>\n",
       "    </tr>\n",
       "    <tr>\n",
       "      <th>999</th>\n",
       "      <td>9,738.00</td>\n",
       "      <td>Santa Claus, my dear old friend, you are a thi...</td>\n",
       "      <td>False</td>\n",
       "      <td>False</td>\n",
       "      <td>False</td>\n",
       "      <td>False</td>\n",
       "      <td>False</td>\n",
       "      <td>False</td>\n",
       "      <td>True</td>\n",
       "      <td>True</td>\n",
       "    </tr>\n",
       "  </tbody>\n",
       "</table>\n",
       "<p>1000 rows × 10 columns</p>\n",
       "</div>"
      ],
      "text/plain": [
       "           ID                                        description  university  \\\n",
       "0      39,822  From the Wall Street Journal and #1 Amazon bes...       False   \n",
       "1      34,235  Helping set the stage for BioWare's hotly anti...       False   \n",
       "2      27,904  Sebastian Locke, the fifty-six-year-old patria...       False   \n",
       "3      10,515  \"Take me back to Oxmoon, the lost paradise of ...       False   \n",
       "4         935  When the Mayflower set sail in 1620, it carrie...       False   \n",
       "..        ...                                                ...         ...   \n",
       "995    17,361  Lee wants to be a Tarantula – a member of the ...       False   \n",
       "996     9,029  The Merry Adventures of Robin Hood of Great Re...       False   \n",
       "997    32,216  Moving from present-day Oslo to Brooklyn in th...       False   \n",
       "998     1,036  The captivating sequel to INKHEART, the critic...       False   \n",
       "999  9,738.00  Santa Claus, my dear old friend, you are a thi...       False   \n",
       "\n",
       "     relationships  break ups  divorce  weddings  death  family  friendship  \n",
       "0             True      False    False     False  False   False       False  \n",
       "1            False      False    False     False  False   False       False  \n",
       "2             True      False     True     False   True    True       False  \n",
       "3             True      False    False     False  False    True       False  \n",
       "4            False      False    False     False  False   False       False  \n",
       "..             ...        ...      ...       ...    ...     ...         ...  \n",
       "995          False      False    False     False  False   False        True  \n",
       "996          False      False    False     False  False   False       False  \n",
       "997          False      False    False     False  False    True       False  \n",
       "998          False      False    False     False  False   False       False  \n",
       "999          False      False    False     False  False    True        True  \n",
       "\n",
       "[1000 rows x 10 columns]"
      ]
     },
     "execution_count": 10,
     "metadata": {},
     "output_type": "execute_result"
    }
   ],
   "source": [
    "dataset"
   ]
  },
  {
   "cell_type": "code",
   "execution_count": 11,
   "metadata": {},
   "outputs": [],
   "source": [
    "dataset[0:499].to_csv('FINAL_bert_train.csv')\n",
    "dataset[500:599].to_csv('FINAL_bert_validation.csv')\n",
    "dataset[600:999].to_csv('FINAL_bert_test.csv')"
   ]
  },
  {
   "cell_type": "markdown",
   "metadata": {
    "id": "QCL02vQgxYTO"
   },
   "source": [
    "As we can see, the dataset contains 3 splits: one for training, one for validation and one for testing."
   ]
  },
  {
   "cell_type": "code",
   "execution_count": 12,
   "metadata": {},
   "outputs": [
    {
     "name": "stderr",
     "output_type": "stream",
     "text": [
      "Using custom data configuration default-e7c5fbafc91872b6\n"
     ]
    },
    {
     "name": "stdout",
     "output_type": "stream",
     "text": [
      "Downloading and preparing dataset csv/default to /home/ec2-user/.cache/huggingface/datasets/csv/default-e7c5fbafc91872b6/0.0.0/51cce309a08df9c4d82ffd9363bbe090bf173197fc01a71b034e8594995a1a58...\n"
     ]
    },
    {
     "data": {
      "application/vnd.jupyter.widget-view+json": {
       "model_id": "7b9da278f8cb46be824bf425cb05096d",
       "version_major": 2,
       "version_minor": 0
      },
      "text/plain": [
       "Downloading data files:   0%|          | 0/2 [00:00<?, ?it/s]"
      ]
     },
     "metadata": {},
     "output_type": "display_data"
    },
    {
     "data": {
      "application/vnd.jupyter.widget-view+json": {
       "model_id": "3182297ea69543daa8151dc7bd59127a",
       "version_major": 2,
       "version_minor": 0
      },
      "text/plain": [
       "Extracting data files:   0%|          | 0/2 [00:00<?, ?it/s]"
      ]
     },
     "metadata": {},
     "output_type": "display_data"
    },
    {
     "data": {
      "application/vnd.jupyter.widget-view+json": {
       "model_id": "",
       "version_major": 2,
       "version_minor": 0
      },
      "text/plain": [
       "0 tables [00:00, ? tables/s]"
      ]
     },
     "metadata": {},
     "output_type": "display_data"
    },
    {
     "data": {
      "application/vnd.jupyter.widget-view+json": {
       "model_id": "",
       "version_major": 2,
       "version_minor": 0
      },
      "text/plain": [
       "0 tables [00:00, ? tables/s]"
      ]
     },
     "metadata": {},
     "output_type": "display_data"
    },
    {
     "name": "stdout",
     "output_type": "stream",
     "text": [
      "Dataset csv downloaded and prepared to /home/ec2-user/.cache/huggingface/datasets/csv/default-e7c5fbafc91872b6/0.0.0/51cce309a08df9c4d82ffd9363bbe090bf173197fc01a71b034e8594995a1a58. Subsequent calls will reuse this data.\n"
     ]
    },
    {
     "data": {
      "application/vnd.jupyter.widget-view+json": {
       "model_id": "1ac9f44b42874192b556b70f314609e5",
       "version_major": 2,
       "version_minor": 0
      },
      "text/plain": [
       "  0%|          | 0/2 [00:00<?, ?it/s]"
      ]
     },
     "metadata": {},
     "output_type": "display_data"
    }
   ],
   "source": [
    "from datasets import load_dataset\n",
    "dataset = load_dataset('csv', data_files={'train': 'FINAL_bert_train.csv', 'validation':'FINAL_bert_validation.csv'})"
   ]
  },
  {
   "cell_type": "markdown",
   "metadata": {
    "id": "PgS0wMWExcqP"
   },
   "source": [
    "Let's check the first example of the training split:"
   ]
  },
  {
   "cell_type": "code",
   "execution_count": 13,
   "metadata": {
    "colab": {
     "base_uri": "https://localhost:8080/"
    },
    "id": "unjuTtKUjZI3",
    "outputId": "6f1e5051-8272-40f9-ced8-ba17a105e904"
   },
   "outputs": [
    {
     "data": {
      "text/plain": [
       "{'Unnamed: 0': 0,\n",
       " 'ID': '39,822',\n",
       " 'description': 'From the Wall Street Journal and #1 Amazon bestselling author comes a new installment to the Blue Moon small town romance series.  A womanizing bad boy with a motorcycle and sexy-as-sin smile is not part of Emma’s life plan.  She moved cross-country to be close to family and finally settle down in hippie, trippy, nosey Blue Moon Bend. But when famed fashion photographer Niko shows up with his leather jacket, underwear-melting voice, and a problem, she sees nothing but trouble.  He’s all wrong for Emma, but that doesn’t stop the attraction from boiling over.  Niko doesn’t let being friend zoned get in his way. Once he gets his hands—and his mouth—on her, will their friendship survive? Or will he lose everything he’s worked for back in New York to the redhead who dominates his every thought? ',\n",
       " 'university': False,\n",
       " 'relationships': True,\n",
       " 'break ups': False,\n",
       " 'divorce': False,\n",
       " 'weddings': False,\n",
       " 'death': False,\n",
       " 'family': False,\n",
       " 'friendship': False}"
      ]
     },
     "execution_count": 13,
     "metadata": {},
     "output_type": "execute_result"
    }
   ],
   "source": [
    "example = dataset['train'][0]\n",
    "example"
   ]
  },
  {
   "cell_type": "markdown",
   "metadata": {
    "id": "6DV0Rtetxgd4"
   },
   "source": [
    "The dataset consists of tweets, labeled with one or more emotions. \n",
    "\n",
    "Let's create a list that contains the labels, as well as 2 dictionaries that map labels to integers and back."
   ]
  },
  {
   "cell_type": "code",
   "execution_count": 14,
   "metadata": {
    "colab": {
     "base_uri": "https://localhost:8080/"
    },
    "id": "e5vZhQpvkE8s",
    "outputId": "5d513b30-f209-492f-c6ab-245d64a67d40"
   },
   "outputs": [
    {
     "data": {
      "text/plain": [
       "['university',\n",
       " 'relationships',\n",
       " 'break ups',\n",
       " 'divorce',\n",
       " 'weddings',\n",
       " 'death',\n",
       " 'family',\n",
       " 'friendship']"
      ]
     },
     "execution_count": 14,
     "metadata": {},
     "output_type": "execute_result"
    }
   ],
   "source": [
    "labels = [label for label in dataset['train'][0].keys() if label not in ['ID', 'description', 'Unnamed: 0']]\n",
    "id2label = {idx:label for idx, label in enumerate(labels)}\n",
    "label2id = {label:idx for idx, label in enumerate(labels)}\n",
    "labels"
   ]
  },
  {
   "cell_type": "code",
   "execution_count": 15,
   "metadata": {},
   "outputs": [
    {
     "data": {
      "text/plain": [
       "DatasetDict({\n",
       "    train: Dataset({\n",
       "        features: ['Unnamed: 0', 'ID', 'description', 'university', 'relationships', 'break ups', 'divorce', 'weddings', 'death', 'family', 'friendship'],\n",
       "        num_rows: 499\n",
       "    })\n",
       "    validation: Dataset({\n",
       "        features: ['Unnamed: 0', 'ID', 'description', 'university', 'relationships', 'break ups', 'divorce', 'weddings', 'death', 'family', 'friendship'],\n",
       "        num_rows: 99\n",
       "    })\n",
       "})"
      ]
     },
     "execution_count": 15,
     "metadata": {},
     "output_type": "execute_result"
    }
   ],
   "source": [
    "dataset"
   ]
  },
  {
   "cell_type": "markdown",
   "metadata": {
    "id": "nJ3Teyjmank2"
   },
   "source": [
    "## Preprocess data\n",
    "\n",
    "As models like BERT don't expect text as direct input, but rather `input_ids`, etc., we tokenize the text using the tokenizer. Here I'm using the `AutoTokenizer` API, which will automatically load the appropriate tokenizer based on the checkpoint on the hub.\n",
    "\n",
    "What's a bit tricky is that we also need to provide labels to the model. For multi-label text classification, this is a matrix of shape (batch_size, num_labels). Also important: this should be a tensor of floats rather than integers, otherwise PyTorch' `BCEWithLogitsLoss` (which the model will use) will complain, as explained [here](https://discuss.pytorch.org/t/multi-label-binary-classification-result-type-float-cant-be-cast-to-the-desired-output-type-long/117915/3)."
   ]
  },
  {
   "cell_type": "code",
   "execution_count": 16,
   "metadata": {
    "id": "AFWlSsbZaRLc"
   },
   "outputs": [],
   "source": [
    "from transformers import AutoTokenizer\n",
    "import numpy as np\n",
    "\n",
    "tokenizer = AutoTokenizer.from_pretrained(\"bert-base-uncased\")\n",
    "\n",
    "def preprocess_data(examples):\n",
    "  # take a batch of texts\n",
    "  text = examples['description']\n",
    "  # encode them\n",
    "  encoding = tokenizer(text, padding=\"max_length\", truncation=True, max_length=128)\n",
    "  # add labels\n",
    "  labels_batch = {k: examples[k] for k in examples.keys() if k in labels}\n",
    "  # create numpy array of shape (batch_size, num_labels)\n",
    "  labels_matrix = np.zeros((len(text), len(labels)))\n",
    "  # fill numpy array\n",
    "  for idx, label in enumerate(labels):\n",
    "    labels_matrix[:, idx] = labels_batch[label]\n",
    "\n",
    "  encoding[\"labels\"] = labels_matrix.tolist()\n",
    "  \n",
    "  return encoding"
   ]
  },
  {
   "cell_type": "code",
   "execution_count": 17,
   "metadata": {
    "colab": {
     "base_uri": "https://localhost:8080/"
    },
    "id": "i4ENBTdulBEI",
    "outputId": "02554a1f-4961-461a-bf29-555b8debeabf"
   },
   "outputs": [
    {
     "name": "stderr",
     "output_type": "stream",
     "text": [
      "Parameter 'function'=<function preprocess_data at 0x7f1228139c10> of the transform datasets.arrow_dataset.Dataset._map_single couldn't be hashed properly, a random hash was used instead. Make sure your transforms and parameters are serializable with pickle or dill for the dataset fingerprinting and caching to work. If you reuse this transform, the caching mechanism will consider it to be different from the previous calls and recompute everything. This warning is only showed once. Subsequent hashing failures won't be showed.\n"
     ]
    },
    {
     "data": {
      "application/vnd.jupyter.widget-view+json": {
       "model_id": "fdcd11a695e04de0863c7c4f577380f8",
       "version_major": 2,
       "version_minor": 0
      },
      "text/plain": [
       "  0%|          | 0/1 [00:00<?, ?ba/s]"
      ]
     },
     "metadata": {},
     "output_type": "display_data"
    },
    {
     "data": {
      "application/vnd.jupyter.widget-view+json": {
       "model_id": "0a5c8c3335d84cc2be081d8d11e4947f",
       "version_major": 2,
       "version_minor": 0
      },
      "text/plain": [
       "  0%|          | 0/1 [00:00<?, ?ba/s]"
      ]
     },
     "metadata": {},
     "output_type": "display_data"
    }
   ],
   "source": [
    "encoded_dataset = dataset.map(preprocess_data, batched=True, remove_columns=dataset['train'].column_names)"
   ]
  },
  {
   "cell_type": "code",
   "execution_count": 18,
   "metadata": {
    "colab": {
     "base_uri": "https://localhost:8080/"
    },
    "id": "0enAb0W9o25W",
    "outputId": "55bc5ba6-d169-49c6-f562-bb7ea4143866"
   },
   "outputs": [
    {
     "name": "stdout",
     "output_type": "stream",
     "text": [
      "dict_keys(['input_ids', 'token_type_ids', 'attention_mask', 'labels'])\n"
     ]
    }
   ],
   "source": [
    "example = encoded_dataset['train'][0]\n",
    "print(example.keys())"
   ]
  },
  {
   "cell_type": "code",
   "execution_count": 19,
   "metadata": {
    "colab": {
     "base_uri": "https://localhost:8080/",
     "height": 137
    },
    "id": "D0McCtJ8HRJY",
    "outputId": "82fb0336-51a3-40ad-ebc0-65eeb7cf4b6c"
   },
   "outputs": [
    {
     "data": {
      "text/plain": [
       "'[CLS] from the wall street journal and # 1 amazon bestselling author comes a new installment to the blue moon small town romance series. a womanizing bad boy with a motorcycle and sexy - as - sin smile is not part of emma ’ s life plan. she moved cross - country to be close to family and finally settle down in hippie, trippy, nosey blue moon bend. but when famed fashion photographer niko shows up with his leather jacket, underwear - melting voice, and a problem, she sees nothing but trouble. he ’ s all wrong for emma, but that doesn ’ t stop the attraction from boiling over [SEP]'"
      ]
     },
     "execution_count": 19,
     "metadata": {},
     "output_type": "execute_result"
    }
   ],
   "source": [
    "tokenizer.decode(example['input_ids'])"
   ]
  },
  {
   "cell_type": "code",
   "execution_count": 20,
   "metadata": {
    "colab": {
     "base_uri": "https://localhost:8080/"
    },
    "id": "VdIvj6WjHeZQ",
    "outputId": "418c14d2-cca3-44e9-d0a2-6ad4ca7a007c"
   },
   "outputs": [
    {
     "data": {
      "text/plain": [
       "[0.0, 1.0, 0.0, 0.0, 0.0, 0.0, 0.0, 0.0]"
      ]
     },
     "execution_count": 20,
     "metadata": {},
     "output_type": "execute_result"
    }
   ],
   "source": [
    "example['labels']"
   ]
  },
  {
   "cell_type": "code",
   "execution_count": 21,
   "metadata": {
    "colab": {
     "base_uri": "https://localhost:8080/"
    },
    "id": "q4Dx95t2o6N9",
    "outputId": "3ce6c923-0b45-4743-bc4b-7771d088b03e"
   },
   "outputs": [
    {
     "data": {
      "text/plain": [
       "['relationships']"
      ]
     },
     "execution_count": 21,
     "metadata": {},
     "output_type": "execute_result"
    }
   ],
   "source": [
    "[id2label[idx] for idx, label in enumerate(example['labels']) if label == 1.0]"
   ]
  },
  {
   "cell_type": "markdown",
   "metadata": {
    "id": "HgpKXDfvKBxn"
   },
   "source": [
    "Finally, we set the format of our data to PyTorch tensors. This will turn the training, validation and test sets into standard PyTorch [datasets](https://pytorch.org/docs/stable/data.html). "
   ]
  },
  {
   "cell_type": "code",
   "execution_count": 22,
   "metadata": {
    "id": "Lk6Cq9duKBkA"
   },
   "outputs": [],
   "source": [
    "encoded_dataset.set_format(\"torch\")"
   ]
  },
  {
   "cell_type": "markdown",
   "metadata": {
    "id": "w5qSmCgWefWs"
   },
   "source": [
    "## Define model\n",
    "\n",
    "Here we define a model that includes a pre-trained base (i.e. the weights from bert-base-uncased) are loaded, with a random initialized classification head (linear layer) on top. One should fine-tune this head, together with the pre-trained base on a labeled dataset.\n",
    "\n",
    "This is also printed by the warning.\n",
    "\n",
    "We set the `problem_type` to be \"multi_label_classification\", as this will make sure the appropriate loss function is used (namely [`BCEWithLogitsLoss`](https://pytorch.org/docs/stable/generated/torch.nn.BCEWithLogitsLoss.html)). We also make sure the output layer has `len(labels)` output neurons, and we set the id2label and label2id mappings."
   ]
  },
  {
   "cell_type": "code",
   "execution_count": 23,
   "metadata": {
    "colab": {
     "base_uri": "https://localhost:8080/"
    },
    "id": "6XPL1Z_RegBF",
    "outputId": "22994300-8c93-421e-faa4-678d6cc14aab"
   },
   "outputs": [
    {
     "name": "stderr",
     "output_type": "stream",
     "text": [
      "Some weights of the model checkpoint at bert-base-uncased were not used when initializing BertForSequenceClassification: ['cls.predictions.bias', 'cls.predictions.decoder.weight', 'cls.predictions.transform.dense.weight', 'cls.seq_relationship.weight', 'cls.seq_relationship.bias', 'cls.predictions.transform.dense.bias', 'cls.predictions.transform.LayerNorm.bias', 'cls.predictions.transform.LayerNorm.weight']\n",
      "- This IS expected if you are initializing BertForSequenceClassification from the checkpoint of a model trained on another task or with another architecture (e.g. initializing a BertForSequenceClassification model from a BertForPreTraining model).\n",
      "- This IS NOT expected if you are initializing BertForSequenceClassification from the checkpoint of a model that you expect to be exactly identical (initializing a BertForSequenceClassification model from a BertForSequenceClassification model).\n",
      "Some weights of BertForSequenceClassification were not initialized from the model checkpoint at bert-base-uncased and are newly initialized: ['classifier.weight', 'classifier.bias']\n",
      "You should probably TRAIN this model on a down-stream task to be able to use it for predictions and inference.\n"
     ]
    }
   ],
   "source": [
    "from transformers import AutoModelForSequenceClassification\n",
    "\n",
    "model = AutoModelForSequenceClassification.from_pretrained(\"bert-base-uncased\", \n",
    "                                                           problem_type=\"multi_label_classification\", \n",
    "                                                           num_labels=len(labels),\n",
    "                                                           id2label=id2label,\n",
    "                                                           label2id=label2id)"
   ]
  },
  {
   "cell_type": "markdown",
   "metadata": {
    "id": "mjJGEXShp7te"
   },
   "source": [
    "## Train the model!\n",
    "\n",
    "We are going to train the model using HuggingFace's Trainer API. This requires us to define 2 things: \n",
    "\n",
    "* `TrainingArguments`, which specify training hyperparameters. All options can be found in the [docs](https://huggingface.co/transformers/main_classes/trainer.html#trainingarguments). Below, we for example specify that we want to evaluate after every epoch of training, we would like to save the model every epoch, we set the learning rate, the batch size to use for training/evaluation, how many epochs to train for, and so on.\n",
    "* a `Trainer` object (docs can be found [here](https://huggingface.co/transformers/main_classes/trainer.html#id1))."
   ]
  },
  {
   "cell_type": "code",
   "execution_count": 24,
   "metadata": {
    "id": "K5a8_vIKqr7P"
   },
   "outputs": [],
   "source": [
    "batch_size = 8\n",
    "metric_name = \"f1\""
   ]
  },
  {
   "cell_type": "code",
   "execution_count": 25,
   "metadata": {
    "id": "dR2GmpvDqbuZ"
   },
   "outputs": [],
   "source": [
    "from transformers import TrainingArguments, Trainer\n",
    "\n",
    "args = TrainingArguments(\n",
    "    f\"bert-finetuned-sem_eval-english\",\n",
    "    evaluation_strategy = \"epoch\",\n",
    "    save_strategy = \"epoch\",\n",
    "    learning_rate=2e-5,\n",
    "    per_device_train_batch_size=batch_size,\n",
    "    per_device_eval_batch_size=batch_size,\n",
    "    num_train_epochs=5,\n",
    "    weight_decay=0.01,\n",
    "    load_best_model_at_end=True,\n",
    "    metric_for_best_model=metric_name,\n",
    "    #push_to_hub=True,\n",
    ")"
   ]
  },
  {
   "cell_type": "markdown",
   "metadata": {
    "id": "1_v2fPFFJ3-v"
   },
   "source": [
    "We are also going to compute metrics while training. For this, we need to define a `compute_metrics` function, that returns a dictionary with the desired metric values."
   ]
  },
  {
   "cell_type": "code",
   "execution_count": 26,
   "metadata": {
    "id": "797b2WHJqUgZ"
   },
   "outputs": [],
   "source": [
    "from sklearn.metrics import f1_score, roc_auc_score, accuracy_score\n",
    "from transformers import EvalPrediction\n",
    "import torch\n",
    "    \n",
    "# source: https://jesusleal.io/2021/04/21/Longformer-multilabel-classification/\n",
    "def multi_label_metrics(predictions, labels, threshold=0.5):\n",
    "    # first, apply sigmoid on predictions which are of shape (batch_size, num_labels)\n",
    "    sigmoid = torch.nn.Sigmoid()\n",
    "    probs = sigmoid(torch.Tensor(predictions))\n",
    "    # next, use threshold to turn them into integer predictions\n",
    "    y_pred = np.zeros(probs.shape)\n",
    "    y_pred[np.where(probs >= threshold)] = 1\n",
    "    # finally, compute metrics\n",
    "    y_true = labels\n",
    "    f1_micro_average = f1_score(y_true=y_true, y_pred=y_pred, average='micro')\n",
    "    roc_auc = roc_auc_score(y_true, y_pred, average = 'micro')\n",
    "    accuracy = accuracy_score(y_true, y_pred)\n",
    "    # return as dictionary\n",
    "    metrics = {'f1': f1_micro_average,\n",
    "               'roc_auc': roc_auc,\n",
    "               'accuracy': accuracy}\n",
    "    return metrics\n",
    "\n",
    "def compute_metrics(p: EvalPrediction):\n",
    "    preds = p.predictions[0] if isinstance(p.predictions, \n",
    "            tuple) else p.predictions\n",
    "    result = multi_label_metrics(\n",
    "        predictions=preds, \n",
    "        labels=p.label_ids)\n",
    "    return result"
   ]
  },
  {
   "cell_type": "markdown",
   "metadata": {
    "id": "fxNo4_TsvzDm"
   },
   "source": [
    "Let's verify a batch as well as a forward pass:"
   ]
  },
  {
   "cell_type": "code",
   "execution_count": 27,
   "metadata": {
    "colab": {
     "base_uri": "https://localhost:8080/",
     "height": 35
    },
    "id": "IlOgGiojuWwG",
    "outputId": "cd0b2c99-b520-468d-8ffc-c36211b7820a"
   },
   "outputs": [
    {
     "data": {
      "text/plain": [
       "'torch.FloatTensor'"
      ]
     },
     "execution_count": 27,
     "metadata": {},
     "output_type": "execute_result"
    }
   ],
   "source": [
    "encoded_dataset['train'][0]['labels'].type()"
   ]
  },
  {
   "cell_type": "code",
   "execution_count": 28,
   "metadata": {
    "colab": {
     "base_uri": "https://localhost:8080/"
    },
    "id": "Y41Kre_jvD7x",
    "outputId": "b6ca888b-6371-40fb-ab83-3dc24d28320a"
   },
   "outputs": [
    {
     "data": {
      "text/plain": [
       "tensor([  101,  2013,  1996,  2813,  2395,  3485,  1998,  1001,  1015,  9733,\n",
       "         2190, 23836,  2075,  3166,  3310,  1037,  2047, 18932,  2000,  1996,\n",
       "         2630,  4231,  2235,  2237,  7472,  2186,  1012,  1037,  2450,  6026,\n",
       "         2919,  2879,  2007,  1037,  9055,  1998,  7916,  1011,  2004,  1011,\n",
       "         8254,  2868,  2003,  2025,  2112,  1997,  5616,  1521,  1055,  2166,\n",
       "         2933,  1012,  2016,  2333,  2892,  1011,  2406,  2000,  2022,  2485,\n",
       "         2000,  2155,  1998,  2633,  7392,  2091,  1999,  5099, 14756,  1010,\n",
       "         4440,  7685,  1010,  4451,  2100,  2630,  4231,  8815,  1012,  2021,\n",
       "         2043, 15607,  4827,  8088, 23205,  2080,  3065,  2039,  2007,  2010,\n",
       "         5898,  6598,  1010, 14236,  1011, 13721,  2376,  1010,  1998,  1037,\n",
       "         3291,  1010,  2016,  5927,  2498,  2021,  4390,  1012,  2002,  1521,\n",
       "         1055,  2035,  3308,  2005,  5616,  1010,  2021,  2008,  2987,  1521,\n",
       "         1056,  2644,  1996,  8432,  2013, 16018,  2058,   102])"
      ]
     },
     "execution_count": 28,
     "metadata": {},
     "output_type": "execute_result"
    }
   ],
   "source": [
    "encoded_dataset['train']['input_ids'][0]"
   ]
  },
  {
   "cell_type": "code",
   "execution_count": 29,
   "metadata": {
    "colab": {
     "base_uri": "https://localhost:8080/"
    },
    "id": "sxWcnZ8ku12V",
    "outputId": "26522911-c3cd-466a-ae2d-d81d23003c23"
   },
   "outputs": [
    {
     "data": {
      "text/plain": [
       "SequenceClassifierOutput(loss=tensor(0.7021, grad_fn=<BinaryCrossEntropyWithLogitsBackward0>), logits=tensor([[ 0.0293, -0.3861,  0.1062, -0.2864,  0.4190, -0.2009, -0.4986,  0.0125]],\n",
       "       grad_fn=<AddmmBackward0>), hidden_states=None, attentions=None)"
      ]
     },
     "execution_count": 29,
     "metadata": {},
     "output_type": "execute_result"
    }
   ],
   "source": [
    "#forward pass\n",
    "outputs = model(input_ids=encoded_dataset['train']['input_ids'][0].unsqueeze(0), labels=encoded_dataset['train'][0]['labels'].unsqueeze(0))\n",
    "outputs"
   ]
  },
  {
   "cell_type": "markdown",
   "metadata": {
    "id": "f-X2brZcv0X6"
   },
   "source": [
    "Let's start training!"
   ]
  },
  {
   "cell_type": "code",
   "execution_count": 30,
   "metadata": {
    "id": "chq_3nUz73ib"
   },
   "outputs": [],
   "source": [
    "trainer = Trainer(\n",
    "    model,\n",
    "    args,\n",
    "    train_dataset=encoded_dataset[\"train\"],\n",
    "    eval_dataset=encoded_dataset[\"validation\"],\n",
    "    tokenizer=tokenizer,\n",
    "    compute_metrics=compute_metrics\n",
    ")"
   ]
  },
  {
   "cell_type": "code",
   "execution_count": 31,
   "metadata": {
    "colab": {
     "base_uri": "https://localhost:8080/",
     "height": 1000
    },
    "id": "KXmFds8js6P8",
    "outputId": "66ebb2ab-f93f-48aa-a4dc-36f55f2f8559"
   },
   "outputs": [
    {
     "name": "stderr",
     "output_type": "stream",
     "text": [
      "/home/ec2-user/anaconda3/lib/python3.9/site-packages/transformers/optimization.py:306: FutureWarning: This implementation of AdamW is deprecated and will be removed in a future version. Use the PyTorch implementation torch.optim.AdamW instead, or set `no_deprecation_warning=True` to disable this warning\n",
      "  warnings.warn(\n",
      "***** Running training *****\n",
      "  Num examples = 499\n",
      "  Num Epochs = 5\n",
      "  Instantaneous batch size per device = 8\n",
      "  Total train batch size (w. parallel, distributed & accumulation) = 8\n",
      "  Gradient Accumulation steps = 1\n",
      "  Total optimization steps = 315\n"
     ]
    },
    {
     "data": {
      "text/html": [
       "\n",
       "    <div>\n",
       "      \n",
       "      <progress value='315' max='315' style='width:300px; height:20px; vertical-align: middle;'></progress>\n",
       "      [315/315 16:55, Epoch 5/5]\n",
       "    </div>\n",
       "    <table border=\"1\" class=\"dataframe\">\n",
       "  <thead>\n",
       " <tr style=\"text-align: left;\">\n",
       "      <th>Epoch</th>\n",
       "      <th>Training Loss</th>\n",
       "      <th>Validation Loss</th>\n",
       "      <th>F1</th>\n",
       "      <th>Roc Auc</th>\n",
       "      <th>Accuracy</th>\n",
       "    </tr>\n",
       "  </thead>\n",
       "  <tbody>\n",
       "    <tr>\n",
       "      <td>1</td>\n",
       "      <td>No log</td>\n",
       "      <td>0.280225</td>\n",
       "      <td>0.000000</td>\n",
       "      <td>0.500000</td>\n",
       "      <td>0.393939</td>\n",
       "    </tr>\n",
       "    <tr>\n",
       "      <td>2</td>\n",
       "      <td>No log</td>\n",
       "      <td>0.244740</td>\n",
       "      <td>0.208333</td>\n",
       "      <td>0.558159</td>\n",
       "      <td>0.434343</td>\n",
       "    </tr>\n",
       "    <tr>\n",
       "      <td>3</td>\n",
       "      <td>No log</td>\n",
       "      <td>0.230291</td>\n",
       "      <td>0.409836</td>\n",
       "      <td>0.641876</td>\n",
       "      <td>0.454545</td>\n",
       "    </tr>\n",
       "    <tr>\n",
       "      <td>4</td>\n",
       "      <td>No log</td>\n",
       "      <td>0.221997</td>\n",
       "      <td>0.448000</td>\n",
       "      <td>0.660168</td>\n",
       "      <td>0.474747</td>\n",
       "    </tr>\n",
       "    <tr>\n",
       "      <td>5</td>\n",
       "      <td>No log</td>\n",
       "      <td>0.216404</td>\n",
       "      <td>0.393162</td>\n",
       "      <td>0.631793</td>\n",
       "      <td>0.464646</td>\n",
       "    </tr>\n",
       "  </tbody>\n",
       "</table><p>"
      ],
      "text/plain": [
       "<IPython.core.display.HTML object>"
      ]
     },
     "metadata": {},
     "output_type": "display_data"
    },
    {
     "name": "stderr",
     "output_type": "stream",
     "text": [
      "***** Running Evaluation *****\n",
      "  Num examples = 99\n",
      "  Batch size = 8\n",
      "Saving model checkpoint to bert-finetuned-sem_eval-english/checkpoint-63\n",
      "Configuration saved in bert-finetuned-sem_eval-english/checkpoint-63/config.json\n",
      "Model weights saved in bert-finetuned-sem_eval-english/checkpoint-63/pytorch_model.bin\n",
      "tokenizer config file saved in bert-finetuned-sem_eval-english/checkpoint-63/tokenizer_config.json\n",
      "Special tokens file saved in bert-finetuned-sem_eval-english/checkpoint-63/special_tokens_map.json\n",
      "***** Running Evaluation *****\n",
      "  Num examples = 99\n",
      "  Batch size = 8\n",
      "Saving model checkpoint to bert-finetuned-sem_eval-english/checkpoint-126\n",
      "Configuration saved in bert-finetuned-sem_eval-english/checkpoint-126/config.json\n",
      "Model weights saved in bert-finetuned-sem_eval-english/checkpoint-126/pytorch_model.bin\n",
      "tokenizer config file saved in bert-finetuned-sem_eval-english/checkpoint-126/tokenizer_config.json\n",
      "Special tokens file saved in bert-finetuned-sem_eval-english/checkpoint-126/special_tokens_map.json\n",
      "***** Running Evaluation *****\n",
      "  Num examples = 99\n",
      "  Batch size = 8\n",
      "Saving model checkpoint to bert-finetuned-sem_eval-english/checkpoint-189\n",
      "Configuration saved in bert-finetuned-sem_eval-english/checkpoint-189/config.json\n",
      "Model weights saved in bert-finetuned-sem_eval-english/checkpoint-189/pytorch_model.bin\n",
      "tokenizer config file saved in bert-finetuned-sem_eval-english/checkpoint-189/tokenizer_config.json\n",
      "Special tokens file saved in bert-finetuned-sem_eval-english/checkpoint-189/special_tokens_map.json\n",
      "***** Running Evaluation *****\n",
      "  Num examples = 99\n",
      "  Batch size = 8\n",
      "Saving model checkpoint to bert-finetuned-sem_eval-english/checkpoint-252\n",
      "Configuration saved in bert-finetuned-sem_eval-english/checkpoint-252/config.json\n",
      "Model weights saved in bert-finetuned-sem_eval-english/checkpoint-252/pytorch_model.bin\n",
      "tokenizer config file saved in bert-finetuned-sem_eval-english/checkpoint-252/tokenizer_config.json\n",
      "Special tokens file saved in bert-finetuned-sem_eval-english/checkpoint-252/special_tokens_map.json\n",
      "***** Running Evaluation *****\n",
      "  Num examples = 99\n",
      "  Batch size = 8\n",
      "Saving model checkpoint to bert-finetuned-sem_eval-english/checkpoint-315\n",
      "Configuration saved in bert-finetuned-sem_eval-english/checkpoint-315/config.json\n",
      "Model weights saved in bert-finetuned-sem_eval-english/checkpoint-315/pytorch_model.bin\n",
      "tokenizer config file saved in bert-finetuned-sem_eval-english/checkpoint-315/tokenizer_config.json\n",
      "Special tokens file saved in bert-finetuned-sem_eval-english/checkpoint-315/special_tokens_map.json\n",
      "\n",
      "\n",
      "Training completed. Do not forget to share your model on huggingface.co/models =)\n",
      "\n",
      "\n",
      "Loading best model from bert-finetuned-sem_eval-english/checkpoint-252 (score: 0.448).\n"
     ]
    },
    {
     "data": {
      "text/plain": [
       "TrainOutput(global_step=315, training_loss=0.28601502918061755, metrics={'train_runtime': 1019.1994, 'train_samples_per_second': 2.448, 'train_steps_per_second': 0.309, 'total_flos': 164124361943040.0, 'train_loss': 0.28601502918061755, 'epoch': 5.0})"
      ]
     },
     "execution_count": 31,
     "metadata": {},
     "output_type": "execute_result"
    }
   ],
   "source": [
    "trainer.train()"
   ]
  },
  {
   "cell_type": "markdown",
   "metadata": {
    "id": "hiloh9eMK91o"
   },
   "source": [
    "## Evaluate\n",
    "\n",
    "After training, we evaluate our model on the validation set."
   ]
  },
  {
   "cell_type": "code",
   "execution_count": 32,
   "metadata": {
    "colab": {
     "base_uri": "https://localhost:8080/",
     "height": 224
    },
    "id": "cMlebJ83LRYG",
    "outputId": "b18102e7-2198-4beb-c874-d39636f740ed"
   },
   "outputs": [
    {
     "name": "stderr",
     "output_type": "stream",
     "text": [
      "***** Running Evaluation *****\n",
      "  Num examples = 99\n",
      "  Batch size = 8\n"
     ]
    },
    {
     "data": {
      "text/html": [
       "\n",
       "    <div>\n",
       "      \n",
       "      <progress value='13' max='13' style='width:300px; height:20px; vertical-align: middle;'></progress>\n",
       "      [13/13 00:09]\n",
       "    </div>\n",
       "    "
      ],
      "text/plain": [
       "<IPython.core.display.HTML object>"
      ]
     },
     "metadata": {},
     "output_type": "display_data"
    },
    {
     "data": {
      "text/plain": [
       "{'eval_loss': 0.22199691832065582,\n",
       " 'eval_f1': 0.448,\n",
       " 'eval_roc_auc': 0.6601683270353831,\n",
       " 'eval_accuracy': 0.47474747474747475,\n",
       " 'eval_runtime': 10.1031,\n",
       " 'eval_samples_per_second': 9.799,\n",
       " 'eval_steps_per_second': 1.287,\n",
       " 'epoch': 5.0}"
      ]
     },
     "execution_count": 32,
     "metadata": {},
     "output_type": "execute_result"
    }
   ],
   "source": [
    "trainer.evaluate()"
   ]
  },
  {
   "cell_type": "markdown",
   "metadata": {
    "id": "3nmvJp0pLq-3"
   },
   "source": [
    "## Inference\n",
    "\n",
    "Let's test the model on a new sentence:"
   ]
  },
  {
   "cell_type": "code",
   "execution_count": 67,
   "metadata": {},
   "outputs": [],
   "source": [
    "test_data = pd.read_csv('BERTopic_Labeled.csv')[600:1000].drop(columns = ['university', 'relationships', 'break ups', 'divorce', 'weddings', 'death', 'family', 'friendship'])"
   ]
  },
  {
   "cell_type": "code",
   "execution_count": 68,
   "metadata": {},
   "outputs": [
    {
     "data": {
      "text/html": [
       "<div>\n",
       "<style scoped>\n",
       "    .dataframe tbody tr th:only-of-type {\n",
       "        vertical-align: middle;\n",
       "    }\n",
       "\n",
       "    .dataframe tbody tr th {\n",
       "        vertical-align: top;\n",
       "    }\n",
       "\n",
       "    .dataframe thead th {\n",
       "        text-align: right;\n",
       "    }\n",
       "</style>\n",
       "<table border=\"1\" class=\"dataframe\">\n",
       "  <thead>\n",
       "    <tr style=\"text-align: right;\">\n",
       "      <th></th>\n",
       "      <th>Unnamed: 0.3</th>\n",
       "      <th>Unnamed: 0.2</th>\n",
       "      <th>Unnamed: 0.1</th>\n",
       "      <th>index</th>\n",
       "      <th>Unnamed: 0</th>\n",
       "      <th>bookId</th>\n",
       "      <th>title</th>\n",
       "      <th>series</th>\n",
       "      <th>author</th>\n",
       "      <th>rating</th>\n",
       "      <th>...</th>\n",
       "      <th>Dystopia</th>\n",
       "      <th>Poetry</th>\n",
       "      <th>Biography</th>\n",
       "      <th>Manga</th>\n",
       "      <th>Thriller</th>\n",
       "      <th>Graphic Novels</th>\n",
       "      <th>Romance</th>\n",
       "      <th>labeled?</th>\n",
       "      <th>Contains True?</th>\n",
       "      <th>tokens</th>\n",
       "    </tr>\n",
       "  </thead>\n",
       "  <tbody>\n",
       "    <tr>\n",
       "      <th>600</th>\n",
       "      <td>600</td>\n",
       "      <td>600</td>\n",
       "      <td>600</td>\n",
       "      <td>600</td>\n",
       "      <td>39,326</td>\n",
       "      <td>23908423-onyx-webb</td>\n",
       "      <td>Onyx Webb: Episode One: The Story Begins</td>\n",
       "      <td>Onyx Webb</td>\n",
       "      <td>Richard Fenton (Goodreads Author), Andrea Walt...</td>\n",
       "      <td>4.00</td>\n",
       "      <td>...</td>\n",
       "      <td>NaN</td>\n",
       "      <td>NaN</td>\n",
       "      <td>NaN</td>\n",
       "      <td>NaN</td>\n",
       "      <td>NaN</td>\n",
       "      <td>NaN</td>\n",
       "      <td>NaN</td>\n",
       "      <td>NaN</td>\n",
       "      <td>0.0</td>\n",
       "      <td>['bestselling', 'authors', 'fenton', 'waltz', ...</td>\n",
       "    </tr>\n",
       "    <tr>\n",
       "      <th>601</th>\n",
       "      <td>601</td>\n",
       "      <td>601</td>\n",
       "      <td>601</td>\n",
       "      <td>601</td>\n",
       "      <td>34,185</td>\n",
       "      <td>18274597-the-war-inside</td>\n",
       "      <td>The War Inside</td>\n",
       "      <td>The Horizons Trilogy #1</td>\n",
       "      <td>M. Kircher (Goodreads Author)</td>\n",
       "      <td>3.92</td>\n",
       "      <td>...</td>\n",
       "      <td>Dystopia</td>\n",
       "      <td>NaN</td>\n",
       "      <td>NaN</td>\n",
       "      <td>NaN</td>\n",
       "      <td>NaN</td>\n",
       "      <td>NaN</td>\n",
       "      <td>Romance</td>\n",
       "      <td>NaN</td>\n",
       "      <td>1.0</td>\n",
       "      <td>['end', 'world', 'beginning', 'eighteenyearold...</td>\n",
       "    </tr>\n",
       "    <tr>\n",
       "      <th>602</th>\n",
       "      <td>602</td>\n",
       "      <td>602</td>\n",
       "      <td>602</td>\n",
       "      <td>602</td>\n",
       "      <td>42,881</td>\n",
       "      <td>6294553-deep-kiss-of-winter</td>\n",
       "      <td>Deep Kiss of Winter</td>\n",
       "      <td>Immortals After Dark #7</td>\n",
       "      <td>Kresley Cole (Goodreads Author), Gena Showalte...</td>\n",
       "      <td>4.22</td>\n",
       "      <td>...</td>\n",
       "      <td>NaN</td>\n",
       "      <td>NaN</td>\n",
       "      <td>NaN</td>\n",
       "      <td>NaN</td>\n",
       "      <td>NaN</td>\n",
       "      <td>NaN</td>\n",
       "      <td>Romance</td>\n",
       "      <td>NaN</td>\n",
       "      <td>1.0</td>\n",
       "      <td>['kresley', 'cole', 'untouchable', 'immortals'...</td>\n",
       "    </tr>\n",
       "    <tr>\n",
       "      <th>603</th>\n",
       "      <td>603</td>\n",
       "      <td>603</td>\n",
       "      <td>603</td>\n",
       "      <td>603</td>\n",
       "      <td>25,586</td>\n",
       "      <td>37569307-the-evolution-of-claire</td>\n",
       "      <td>The Evolution of Claire</td>\n",
       "      <td>Jurassic World: Fallen Kingdom #1</td>\n",
       "      <td>Tess Sharpe (Goodreads Author)</td>\n",
       "      <td>4.05</td>\n",
       "      <td>...</td>\n",
       "      <td>NaN</td>\n",
       "      <td>NaN</td>\n",
       "      <td>NaN</td>\n",
       "      <td>NaN</td>\n",
       "      <td>NaN</td>\n",
       "      <td>NaN</td>\n",
       "      <td>NaN</td>\n",
       "      <td>NaN</td>\n",
       "      <td>0.0</td>\n",
       "      <td>['discover', 'beginnings', 'one', 'jurassic', ...</td>\n",
       "    </tr>\n",
       "    <tr>\n",
       "      <th>604</th>\n",
       "      <td>604</td>\n",
       "      <td>604</td>\n",
       "      <td>604</td>\n",
       "      <td>604</td>\n",
       "      <td>4,579</td>\n",
       "      <td>47954.The_Invisible_Ring</td>\n",
       "      <td>The Invisible Ring</td>\n",
       "      <td>The Black Jewels #4</td>\n",
       "      <td>Anne Bishop</td>\n",
       "      <td>4.08</td>\n",
       "      <td>...</td>\n",
       "      <td>NaN</td>\n",
       "      <td>NaN</td>\n",
       "      <td>NaN</td>\n",
       "      <td>NaN</td>\n",
       "      <td>NaN</td>\n",
       "      <td>NaN</td>\n",
       "      <td>Romance</td>\n",
       "      <td>NaN</td>\n",
       "      <td>1.0</td>\n",
       "      <td>['prequel', 'set', 'dark', 'sensual', 'world',...</td>\n",
       "    </tr>\n",
       "    <tr>\n",
       "      <th>...</th>\n",
       "      <td>...</td>\n",
       "      <td>...</td>\n",
       "      <td>...</td>\n",
       "      <td>...</td>\n",
       "      <td>...</td>\n",
       "      <td>...</td>\n",
       "      <td>...</td>\n",
       "      <td>...</td>\n",
       "      <td>...</td>\n",
       "      <td>...</td>\n",
       "      <td>...</td>\n",
       "      <td>...</td>\n",
       "      <td>...</td>\n",
       "      <td>...</td>\n",
       "      <td>...</td>\n",
       "      <td>...</td>\n",
       "      <td>...</td>\n",
       "      <td>...</td>\n",
       "      <td>...</td>\n",
       "      <td>...</td>\n",
       "      <td>...</td>\n",
       "    </tr>\n",
       "    <tr>\n",
       "      <th>995</th>\n",
       "      <td>995</td>\n",
       "      <td>995</td>\n",
       "      <td>995</td>\n",
       "      <td>995</td>\n",
       "      <td>17,361</td>\n",
       "      <td>588326.The_Blue_Helmet</td>\n",
       "      <td>The Blue Helmet</td>\n",
       "      <td>NaN</td>\n",
       "      <td>William Bell</td>\n",
       "      <td>3.42</td>\n",
       "      <td>...</td>\n",
       "      <td>NaN</td>\n",
       "      <td>NaN</td>\n",
       "      <td>NaN</td>\n",
       "      <td>NaN</td>\n",
       "      <td>NaN</td>\n",
       "      <td>NaN</td>\n",
       "      <td>NaN</td>\n",
       "      <td>NaN</td>\n",
       "      <td>1.0</td>\n",
       "      <td>['lee', 'wants', 'tarantula', 'member', 'bigge...</td>\n",
       "    </tr>\n",
       "    <tr>\n",
       "      <th>996</th>\n",
       "      <td>996</td>\n",
       "      <td>996</td>\n",
       "      <td>996</td>\n",
       "      <td>996</td>\n",
       "      <td>9,029</td>\n",
       "      <td>93007.The_Merry_Adventures_of_Robin_Hood</td>\n",
       "      <td>The Merry Adventures of Robin Hood</td>\n",
       "      <td>NaN</td>\n",
       "      <td>Howard Pyle</td>\n",
       "      <td>4.07</td>\n",
       "      <td>...</td>\n",
       "      <td>NaN</td>\n",
       "      <td>NaN</td>\n",
       "      <td>NaN</td>\n",
       "      <td>NaN</td>\n",
       "      <td>NaN</td>\n",
       "      <td>NaN</td>\n",
       "      <td>NaN</td>\n",
       "      <td>NaN</td>\n",
       "      <td>0.0</td>\n",
       "      <td>['merry', 'adventures', 'robin', 'hood', 'grea...</td>\n",
       "    </tr>\n",
       "    <tr>\n",
       "      <th>997</th>\n",
       "      <td>997</td>\n",
       "      <td>997</td>\n",
       "      <td>997</td>\n",
       "      <td>997</td>\n",
       "      <td>32,216</td>\n",
       "      <td>1085376.Before_You_Sleep</td>\n",
       "      <td>Before You Sleep</td>\n",
       "      <td>NaN</td>\n",
       "      <td>Linn Ullmann, Tiina Nunnally (Translator)</td>\n",
       "      <td>3.34</td>\n",
       "      <td>...</td>\n",
       "      <td>NaN</td>\n",
       "      <td>NaN</td>\n",
       "      <td>NaN</td>\n",
       "      <td>NaN</td>\n",
       "      <td>NaN</td>\n",
       "      <td>NaN</td>\n",
       "      <td>NaN</td>\n",
       "      <td>NaN</td>\n",
       "      <td>1.0</td>\n",
       "      <td>['moving', 'presentday', 'oslo', 'brooklyn', '...</td>\n",
       "    </tr>\n",
       "    <tr>\n",
       "      <th>998</th>\n",
       "      <td>998</td>\n",
       "      <td>998</td>\n",
       "      <td>998</td>\n",
       "      <td>998</td>\n",
       "      <td>1,036</td>\n",
       "      <td>28195.Inkspell</td>\n",
       "      <td>Inkspell</td>\n",
       "      <td>Inkworld #2</td>\n",
       "      <td>Cornelia Funke (Goodreads Author), Anthea Bell...</td>\n",
       "      <td>3.91</td>\n",
       "      <td>...</td>\n",
       "      <td>NaN</td>\n",
       "      <td>NaN</td>\n",
       "      <td>NaN</td>\n",
       "      <td>NaN</td>\n",
       "      <td>NaN</td>\n",
       "      <td>NaN</td>\n",
       "      <td>NaN</td>\n",
       "      <td>NaN</td>\n",
       "      <td>0.0</td>\n",
       "      <td>['captivating', 'sequel', 'inkheart', 'critica...</td>\n",
       "    </tr>\n",
       "    <tr>\n",
       "      <th>999</th>\n",
       "      <td>999</td>\n",
       "      <td>999</td>\n",
       "      <td>999</td>\n",
       "      <td>999</td>\n",
       "      <td>9,738.00</td>\n",
       "      <td>13505670-krampus</td>\n",
       "      <td>Krampus: The Yule Lord</td>\n",
       "      <td>NaN</td>\n",
       "      <td>Brom</td>\n",
       "      <td>$4.08</td>\n",
       "      <td>...</td>\n",
       "      <td>NaN</td>\n",
       "      <td>NaN</td>\n",
       "      <td>NaN</td>\n",
       "      <td>NaN</td>\n",
       "      <td>NaN</td>\n",
       "      <td>NaN</td>\n",
       "      <td>NaN</td>\n",
       "      <td>NaN</td>\n",
       "      <td>NaN</td>\n",
       "      <td>['santa', 'claus', 'dear', 'old', 'friend', 't...</td>\n",
       "    </tr>\n",
       "  </tbody>\n",
       "</table>\n",
       "<p>400 rows × 48 columns</p>\n",
       "</div>"
      ],
      "text/plain": [
       "     Unnamed: 0.3  Unnamed: 0.2  Unnamed: 0.1  index Unnamed: 0  \\\n",
       "600           600           600           600    600     39,326   \n",
       "601           601           601           601    601     34,185   \n",
       "602           602           602           602    602     42,881   \n",
       "603           603           603           603    603     25,586   \n",
       "604           604           604           604    604      4,579   \n",
       "..            ...           ...           ...    ...        ...   \n",
       "995           995           995           995    995     17,361   \n",
       "996           996           996           996    996      9,029   \n",
       "997           997           997           997    997     32,216   \n",
       "998           998           998           998    998      1,036   \n",
       "999           999           999           999    999   9,738.00   \n",
       "\n",
       "                                       bookId  \\\n",
       "600                        23908423-onyx-webb   \n",
       "601                   18274597-the-war-inside   \n",
       "602               6294553-deep-kiss-of-winter   \n",
       "603          37569307-the-evolution-of-claire   \n",
       "604                  47954.The_Invisible_Ring   \n",
       "..                                        ...   \n",
       "995                    588326.The_Blue_Helmet   \n",
       "996  93007.The_Merry_Adventures_of_Robin_Hood   \n",
       "997                  1085376.Before_You_Sleep   \n",
       "998                            28195.Inkspell   \n",
       "999                          13505670-krampus   \n",
       "\n",
       "                                        title  \\\n",
       "600  Onyx Webb: Episode One: The Story Begins   \n",
       "601                            The War Inside   \n",
       "602                       Deep Kiss of Winter   \n",
       "603                   The Evolution of Claire   \n",
       "604                        The Invisible Ring   \n",
       "..                                        ...   \n",
       "995                           The Blue Helmet   \n",
       "996        The Merry Adventures of Robin Hood   \n",
       "997                          Before You Sleep   \n",
       "998                                  Inkspell   \n",
       "999                    Krampus: The Yule Lord   \n",
       "\n",
       "                                series  \\\n",
       "600                          Onyx Webb   \n",
       "601            The Horizons Trilogy #1   \n",
       "602            Immortals After Dark #7   \n",
       "603  Jurassic World: Fallen Kingdom #1   \n",
       "604                The Black Jewels #4   \n",
       "..                                 ...   \n",
       "995                                NaN   \n",
       "996                                NaN   \n",
       "997                                NaN   \n",
       "998                        Inkworld #2   \n",
       "999                                NaN   \n",
       "\n",
       "                                                author rating  ...  Dystopia  \\\n",
       "600  Richard Fenton (Goodreads Author), Andrea Walt...   4.00  ...       NaN   \n",
       "601                      M. Kircher (Goodreads Author)   3.92  ...  Dystopia   \n",
       "602  Kresley Cole (Goodreads Author), Gena Showalte...   4.22  ...       NaN   \n",
       "603                     Tess Sharpe (Goodreads Author)   4.05  ...       NaN   \n",
       "604                                        Anne Bishop   4.08  ...       NaN   \n",
       "..                                                 ...    ...  ...       ...   \n",
       "995                                       William Bell   3.42  ...       NaN   \n",
       "996                                        Howard Pyle   4.07  ...       NaN   \n",
       "997          Linn Ullmann, Tiina Nunnally (Translator)   3.34  ...       NaN   \n",
       "998  Cornelia Funke (Goodreads Author), Anthea Bell...   3.91  ...       NaN   \n",
       "999                                               Brom  $4.08  ...       NaN   \n",
       "\n",
       "    Poetry Biography Manga Thriller Graphic Novels  Romance labeled?   \\\n",
       "600    NaN       NaN   NaN      NaN            NaN      NaN       NaN   \n",
       "601    NaN       NaN   NaN      NaN            NaN  Romance       NaN   \n",
       "602    NaN       NaN   NaN      NaN            NaN  Romance       NaN   \n",
       "603    NaN       NaN   NaN      NaN            NaN      NaN       NaN   \n",
       "604    NaN       NaN   NaN      NaN            NaN  Romance       NaN   \n",
       "..     ...       ...   ...      ...            ...      ...       ...   \n",
       "995    NaN       NaN   NaN      NaN            NaN      NaN       NaN   \n",
       "996    NaN       NaN   NaN      NaN            NaN      NaN       NaN   \n",
       "997    NaN       NaN   NaN      NaN            NaN      NaN       NaN   \n",
       "998    NaN       NaN   NaN      NaN            NaN      NaN       NaN   \n",
       "999    NaN       NaN   NaN      NaN            NaN      NaN       NaN   \n",
       "\n",
       "    Contains True?                                             tokens  \n",
       "600            0.0  ['bestselling', 'authors', 'fenton', 'waltz', ...  \n",
       "601            1.0  ['end', 'world', 'beginning', 'eighteenyearold...  \n",
       "602            1.0  ['kresley', 'cole', 'untouchable', 'immortals'...  \n",
       "603            0.0  ['discover', 'beginnings', 'one', 'jurassic', ...  \n",
       "604            1.0  ['prequel', 'set', 'dark', 'sensual', 'world',...  \n",
       "..             ...                                                ...  \n",
       "995            1.0  ['lee', 'wants', 'tarantula', 'member', 'bigge...  \n",
       "996            0.0  ['merry', 'adventures', 'robin', 'hood', 'grea...  \n",
       "997            1.0  ['moving', 'presentday', 'oslo', 'brooklyn', '...  \n",
       "998            0.0  ['captivating', 'sequel', 'inkheart', 'critica...  \n",
       "999            NaN  ['santa', 'claus', 'dear', 'old', 'friend', 't...  \n",
       "\n",
       "[400 rows x 48 columns]"
      ]
     },
     "execution_count": 68,
     "metadata": {},
     "output_type": "execute_result"
    }
   ],
   "source": [
    "test_data"
   ]
  },
  {
   "cell_type": "code",
   "execution_count": 69,
   "metadata": {},
   "outputs": [],
   "source": [
    "def predict_bert(text):\n",
    "    #text = final_preds['description'][i]\n",
    "    encoding = tokenizer(text, return_tensors=\"pt\", padding=\"max_length\", truncation=True, max_length=128)\n",
    "    encoding = {k: v.to(trainer.model.device) for k,v in encoding.items()}\n",
    "    outputs = trainer.model(**encoding)\n",
    "    logits = outputs.logits\n",
    "    #print(i, logits.shape)\n",
    "    # apply sigmoid + threshold\n",
    "    sigmoid = torch.nn.Sigmoid()\n",
    "    probs = sigmoid(logits.squeeze().cpu())\n",
    "    return probs.tolist()"
   ]
  },
  {
   "cell_type": "code",
   "execution_count": 71,
   "metadata": {},
   "outputs": [],
   "source": [
    "test_data['scores'] = test_data['description'].apply(lambda x: predict_bert(x))"
   ]
  },
  {
   "cell_type": "code",
   "execution_count": 72,
   "metadata": {},
   "outputs": [
    {
     "data": {
      "text/html": [
       "<div>\n",
       "<style scoped>\n",
       "    .dataframe tbody tr th:only-of-type {\n",
       "        vertical-align: middle;\n",
       "    }\n",
       "\n",
       "    .dataframe tbody tr th {\n",
       "        vertical-align: top;\n",
       "    }\n",
       "\n",
       "    .dataframe thead th {\n",
       "        text-align: right;\n",
       "    }\n",
       "</style>\n",
       "<table border=\"1\" class=\"dataframe\">\n",
       "  <thead>\n",
       "    <tr style=\"text-align: right;\">\n",
       "      <th></th>\n",
       "      <th>Unnamed: 0.3</th>\n",
       "      <th>Unnamed: 0.2</th>\n",
       "      <th>Unnamed: 0.1</th>\n",
       "      <th>index</th>\n",
       "      <th>Unnamed: 0</th>\n",
       "      <th>bookId</th>\n",
       "      <th>title</th>\n",
       "      <th>series</th>\n",
       "      <th>author</th>\n",
       "      <th>rating</th>\n",
       "      <th>...</th>\n",
       "      <th>Poetry</th>\n",
       "      <th>Biography</th>\n",
       "      <th>Manga</th>\n",
       "      <th>Thriller</th>\n",
       "      <th>Graphic Novels</th>\n",
       "      <th>Romance</th>\n",
       "      <th>labeled?</th>\n",
       "      <th>Contains True?</th>\n",
       "      <th>tokens</th>\n",
       "      <th>scores</th>\n",
       "    </tr>\n",
       "  </thead>\n",
       "  <tbody>\n",
       "    <tr>\n",
       "      <th>600</th>\n",
       "      <td>600</td>\n",
       "      <td>600</td>\n",
       "      <td>600</td>\n",
       "      <td>600</td>\n",
       "      <td>39,326</td>\n",
       "      <td>23908423-onyx-webb</td>\n",
       "      <td>Onyx Webb: Episode One: The Story Begins</td>\n",
       "      <td>Onyx Webb</td>\n",
       "      <td>Richard Fenton (Goodreads Author), Andrea Walt...</td>\n",
       "      <td>4.00</td>\n",
       "      <td>...</td>\n",
       "      <td>NaN</td>\n",
       "      <td>NaN</td>\n",
       "      <td>NaN</td>\n",
       "      <td>NaN</td>\n",
       "      <td>NaN</td>\n",
       "      <td>NaN</td>\n",
       "      <td>NaN</td>\n",
       "      <td>0.0</td>\n",
       "      <td>['bestselling', 'authors', 'fenton', 'waltz', ...</td>\n",
       "      <td>[0.04233139380812645, 0.39226487278938293, 0.0...</td>\n",
       "    </tr>\n",
       "    <tr>\n",
       "      <th>601</th>\n",
       "      <td>601</td>\n",
       "      <td>601</td>\n",
       "      <td>601</td>\n",
       "      <td>601</td>\n",
       "      <td>34,185</td>\n",
       "      <td>18274597-the-war-inside</td>\n",
       "      <td>The War Inside</td>\n",
       "      <td>The Horizons Trilogy #1</td>\n",
       "      <td>M. Kircher (Goodreads Author)</td>\n",
       "      <td>3.92</td>\n",
       "      <td>...</td>\n",
       "      <td>NaN</td>\n",
       "      <td>NaN</td>\n",
       "      <td>NaN</td>\n",
       "      <td>NaN</td>\n",
       "      <td>NaN</td>\n",
       "      <td>Romance</td>\n",
       "      <td>NaN</td>\n",
       "      <td>1.0</td>\n",
       "      <td>['end', 'world', 'beginning', 'eighteenyearold...</td>\n",
       "      <td>[0.040408384054899216, 0.408073753118515, 0.02...</td>\n",
       "    </tr>\n",
       "    <tr>\n",
       "      <th>602</th>\n",
       "      <td>602</td>\n",
       "      <td>602</td>\n",
       "      <td>602</td>\n",
       "      <td>602</td>\n",
       "      <td>42,881</td>\n",
       "      <td>6294553-deep-kiss-of-winter</td>\n",
       "      <td>Deep Kiss of Winter</td>\n",
       "      <td>Immortals After Dark #7</td>\n",
       "      <td>Kresley Cole (Goodreads Author), Gena Showalte...</td>\n",
       "      <td>4.22</td>\n",
       "      <td>...</td>\n",
       "      <td>NaN</td>\n",
       "      <td>NaN</td>\n",
       "      <td>NaN</td>\n",
       "      <td>NaN</td>\n",
       "      <td>NaN</td>\n",
       "      <td>Romance</td>\n",
       "      <td>NaN</td>\n",
       "      <td>1.0</td>\n",
       "      <td>['kresley', 'cole', 'untouchable', 'immortals'...</td>\n",
       "      <td>[0.06058784946799278, 0.6148503422737122, 0.03...</td>\n",
       "    </tr>\n",
       "    <tr>\n",
       "      <th>603</th>\n",
       "      <td>603</td>\n",
       "      <td>603</td>\n",
       "      <td>603</td>\n",
       "      <td>603</td>\n",
       "      <td>25,586</td>\n",
       "      <td>37569307-the-evolution-of-claire</td>\n",
       "      <td>The Evolution of Claire</td>\n",
       "      <td>Jurassic World: Fallen Kingdom #1</td>\n",
       "      <td>Tess Sharpe (Goodreads Author)</td>\n",
       "      <td>4.05</td>\n",
       "      <td>...</td>\n",
       "      <td>NaN</td>\n",
       "      <td>NaN</td>\n",
       "      <td>NaN</td>\n",
       "      <td>NaN</td>\n",
       "      <td>NaN</td>\n",
       "      <td>NaN</td>\n",
       "      <td>NaN</td>\n",
       "      <td>0.0</td>\n",
       "      <td>['discover', 'beginnings', 'one', 'jurassic', ...</td>\n",
       "      <td>[0.04561688378453255, 0.3967863619327545, 0.02...</td>\n",
       "    </tr>\n",
       "    <tr>\n",
       "      <th>604</th>\n",
       "      <td>604</td>\n",
       "      <td>604</td>\n",
       "      <td>604</td>\n",
       "      <td>604</td>\n",
       "      <td>4,579</td>\n",
       "      <td>47954.The_Invisible_Ring</td>\n",
       "      <td>The Invisible Ring</td>\n",
       "      <td>The Black Jewels #4</td>\n",
       "      <td>Anne Bishop</td>\n",
       "      <td>4.08</td>\n",
       "      <td>...</td>\n",
       "      <td>NaN</td>\n",
       "      <td>NaN</td>\n",
       "      <td>NaN</td>\n",
       "      <td>NaN</td>\n",
       "      <td>NaN</td>\n",
       "      <td>Romance</td>\n",
       "      <td>NaN</td>\n",
       "      <td>1.0</td>\n",
       "      <td>['prequel', 'set', 'dark', 'sensual', 'world',...</td>\n",
       "      <td>[0.0368616096675396, 0.24831132590770721, 0.02...</td>\n",
       "    </tr>\n",
       "    <tr>\n",
       "      <th>...</th>\n",
       "      <td>...</td>\n",
       "      <td>...</td>\n",
       "      <td>...</td>\n",
       "      <td>...</td>\n",
       "      <td>...</td>\n",
       "      <td>...</td>\n",
       "      <td>...</td>\n",
       "      <td>...</td>\n",
       "      <td>...</td>\n",
       "      <td>...</td>\n",
       "      <td>...</td>\n",
       "      <td>...</td>\n",
       "      <td>...</td>\n",
       "      <td>...</td>\n",
       "      <td>...</td>\n",
       "      <td>...</td>\n",
       "      <td>...</td>\n",
       "      <td>...</td>\n",
       "      <td>...</td>\n",
       "      <td>...</td>\n",
       "      <td>...</td>\n",
       "    </tr>\n",
       "    <tr>\n",
       "      <th>995</th>\n",
       "      <td>995</td>\n",
       "      <td>995</td>\n",
       "      <td>995</td>\n",
       "      <td>995</td>\n",
       "      <td>17,361</td>\n",
       "      <td>588326.The_Blue_Helmet</td>\n",
       "      <td>The Blue Helmet</td>\n",
       "      <td>NaN</td>\n",
       "      <td>William Bell</td>\n",
       "      <td>3.42</td>\n",
       "      <td>...</td>\n",
       "      <td>NaN</td>\n",
       "      <td>NaN</td>\n",
       "      <td>NaN</td>\n",
       "      <td>NaN</td>\n",
       "      <td>NaN</td>\n",
       "      <td>NaN</td>\n",
       "      <td>NaN</td>\n",
       "      <td>1.0</td>\n",
       "      <td>['lee', 'wants', 'tarantula', 'member', 'bigge...</td>\n",
       "      <td>[0.06012316420674324, 0.475518137216568, 0.026...</td>\n",
       "    </tr>\n",
       "    <tr>\n",
       "      <th>996</th>\n",
       "      <td>996</td>\n",
       "      <td>996</td>\n",
       "      <td>996</td>\n",
       "      <td>996</td>\n",
       "      <td>9,029</td>\n",
       "      <td>93007.The_Merry_Adventures_of_Robin_Hood</td>\n",
       "      <td>The Merry Adventures of Robin Hood</td>\n",
       "      <td>NaN</td>\n",
       "      <td>Howard Pyle</td>\n",
       "      <td>4.07</td>\n",
       "      <td>...</td>\n",
       "      <td>NaN</td>\n",
       "      <td>NaN</td>\n",
       "      <td>NaN</td>\n",
       "      <td>NaN</td>\n",
       "      <td>NaN</td>\n",
       "      <td>NaN</td>\n",
       "      <td>NaN</td>\n",
       "      <td>0.0</td>\n",
       "      <td>['merry', 'adventures', 'robin', 'hood', 'grea...</td>\n",
       "      <td>[0.045951638370752335, 0.14277443289756775, 0....</td>\n",
       "    </tr>\n",
       "    <tr>\n",
       "      <th>997</th>\n",
       "      <td>997</td>\n",
       "      <td>997</td>\n",
       "      <td>997</td>\n",
       "      <td>997</td>\n",
       "      <td>32,216</td>\n",
       "      <td>1085376.Before_You_Sleep</td>\n",
       "      <td>Before You Sleep</td>\n",
       "      <td>NaN</td>\n",
       "      <td>Linn Ullmann, Tiina Nunnally (Translator)</td>\n",
       "      <td>3.34</td>\n",
       "      <td>...</td>\n",
       "      <td>NaN</td>\n",
       "      <td>NaN</td>\n",
       "      <td>NaN</td>\n",
       "      <td>NaN</td>\n",
       "      <td>NaN</td>\n",
       "      <td>NaN</td>\n",
       "      <td>NaN</td>\n",
       "      <td>1.0</td>\n",
       "      <td>['moving', 'presentday', 'oslo', 'brooklyn', '...</td>\n",
       "      <td>[0.08235049992799759, 0.6309429407119751, 0.04...</td>\n",
       "    </tr>\n",
       "    <tr>\n",
       "      <th>998</th>\n",
       "      <td>998</td>\n",
       "      <td>998</td>\n",
       "      <td>998</td>\n",
       "      <td>998</td>\n",
       "      <td>1,036</td>\n",
       "      <td>28195.Inkspell</td>\n",
       "      <td>Inkspell</td>\n",
       "      <td>Inkworld #2</td>\n",
       "      <td>Cornelia Funke (Goodreads Author), Anthea Bell...</td>\n",
       "      <td>3.91</td>\n",
       "      <td>...</td>\n",
       "      <td>NaN</td>\n",
       "      <td>NaN</td>\n",
       "      <td>NaN</td>\n",
       "      <td>NaN</td>\n",
       "      <td>NaN</td>\n",
       "      <td>NaN</td>\n",
       "      <td>NaN</td>\n",
       "      <td>0.0</td>\n",
       "      <td>['captivating', 'sequel', 'inkheart', 'critica...</td>\n",
       "      <td>[0.03647300601005554, 0.24650506675243378, 0.0...</td>\n",
       "    </tr>\n",
       "    <tr>\n",
       "      <th>999</th>\n",
       "      <td>999</td>\n",
       "      <td>999</td>\n",
       "      <td>999</td>\n",
       "      <td>999</td>\n",
       "      <td>9,738.00</td>\n",
       "      <td>13505670-krampus</td>\n",
       "      <td>Krampus: The Yule Lord</td>\n",
       "      <td>NaN</td>\n",
       "      <td>Brom</td>\n",
       "      <td>$4.08</td>\n",
       "      <td>...</td>\n",
       "      <td>NaN</td>\n",
       "      <td>NaN</td>\n",
       "      <td>NaN</td>\n",
       "      <td>NaN</td>\n",
       "      <td>NaN</td>\n",
       "      <td>NaN</td>\n",
       "      <td>NaN</td>\n",
       "      <td>NaN</td>\n",
       "      <td>['santa', 'claus', 'dear', 'old', 'friend', 't...</td>\n",
       "      <td>[0.04358915984630585, 0.14284628629684448, 0.0...</td>\n",
       "    </tr>\n",
       "  </tbody>\n",
       "</table>\n",
       "<p>400 rows × 49 columns</p>\n",
       "</div>"
      ],
      "text/plain": [
       "     Unnamed: 0.3  Unnamed: 0.2  Unnamed: 0.1  index Unnamed: 0  \\\n",
       "600           600           600           600    600     39,326   \n",
       "601           601           601           601    601     34,185   \n",
       "602           602           602           602    602     42,881   \n",
       "603           603           603           603    603     25,586   \n",
       "604           604           604           604    604      4,579   \n",
       "..            ...           ...           ...    ...        ...   \n",
       "995           995           995           995    995     17,361   \n",
       "996           996           996           996    996      9,029   \n",
       "997           997           997           997    997     32,216   \n",
       "998           998           998           998    998      1,036   \n",
       "999           999           999           999    999   9,738.00   \n",
       "\n",
       "                                       bookId  \\\n",
       "600                        23908423-onyx-webb   \n",
       "601                   18274597-the-war-inside   \n",
       "602               6294553-deep-kiss-of-winter   \n",
       "603          37569307-the-evolution-of-claire   \n",
       "604                  47954.The_Invisible_Ring   \n",
       "..                                        ...   \n",
       "995                    588326.The_Blue_Helmet   \n",
       "996  93007.The_Merry_Adventures_of_Robin_Hood   \n",
       "997                  1085376.Before_You_Sleep   \n",
       "998                            28195.Inkspell   \n",
       "999                          13505670-krampus   \n",
       "\n",
       "                                        title  \\\n",
       "600  Onyx Webb: Episode One: The Story Begins   \n",
       "601                            The War Inside   \n",
       "602                       Deep Kiss of Winter   \n",
       "603                   The Evolution of Claire   \n",
       "604                        The Invisible Ring   \n",
       "..                                        ...   \n",
       "995                           The Blue Helmet   \n",
       "996        The Merry Adventures of Robin Hood   \n",
       "997                          Before You Sleep   \n",
       "998                                  Inkspell   \n",
       "999                    Krampus: The Yule Lord   \n",
       "\n",
       "                                series  \\\n",
       "600                          Onyx Webb   \n",
       "601            The Horizons Trilogy #1   \n",
       "602            Immortals After Dark #7   \n",
       "603  Jurassic World: Fallen Kingdom #1   \n",
       "604                The Black Jewels #4   \n",
       "..                                 ...   \n",
       "995                                NaN   \n",
       "996                                NaN   \n",
       "997                                NaN   \n",
       "998                        Inkworld #2   \n",
       "999                                NaN   \n",
       "\n",
       "                                                author rating  ... Poetry  \\\n",
       "600  Richard Fenton (Goodreads Author), Andrea Walt...   4.00  ...    NaN   \n",
       "601                      M. Kircher (Goodreads Author)   3.92  ...    NaN   \n",
       "602  Kresley Cole (Goodreads Author), Gena Showalte...   4.22  ...    NaN   \n",
       "603                     Tess Sharpe (Goodreads Author)   4.05  ...    NaN   \n",
       "604                                        Anne Bishop   4.08  ...    NaN   \n",
       "..                                                 ...    ...  ...    ...   \n",
       "995                                       William Bell   3.42  ...    NaN   \n",
       "996                                        Howard Pyle   4.07  ...    NaN   \n",
       "997          Linn Ullmann, Tiina Nunnally (Translator)   3.34  ...    NaN   \n",
       "998  Cornelia Funke (Goodreads Author), Anthea Bell...   3.91  ...    NaN   \n",
       "999                                               Brom  $4.08  ...    NaN   \n",
       "\n",
       "    Biography Manga Thriller Graphic Novels  Romance labeled?  Contains True?  \\\n",
       "600       NaN   NaN      NaN            NaN      NaN       NaN            0.0   \n",
       "601       NaN   NaN      NaN            NaN  Romance       NaN            1.0   \n",
       "602       NaN   NaN      NaN            NaN  Romance       NaN            1.0   \n",
       "603       NaN   NaN      NaN            NaN      NaN       NaN            0.0   \n",
       "604       NaN   NaN      NaN            NaN  Romance       NaN            1.0   \n",
       "..        ...   ...      ...            ...      ...       ...            ...   \n",
       "995       NaN   NaN      NaN            NaN      NaN       NaN            1.0   \n",
       "996       NaN   NaN      NaN            NaN      NaN       NaN            0.0   \n",
       "997       NaN   NaN      NaN            NaN      NaN       NaN            1.0   \n",
       "998       NaN   NaN      NaN            NaN      NaN       NaN            0.0   \n",
       "999       NaN   NaN      NaN            NaN      NaN       NaN            NaN   \n",
       "\n",
       "                                                tokens  \\\n",
       "600  ['bestselling', 'authors', 'fenton', 'waltz', ...   \n",
       "601  ['end', 'world', 'beginning', 'eighteenyearold...   \n",
       "602  ['kresley', 'cole', 'untouchable', 'immortals'...   \n",
       "603  ['discover', 'beginnings', 'one', 'jurassic', ...   \n",
       "604  ['prequel', 'set', 'dark', 'sensual', 'world',...   \n",
       "..                                                 ...   \n",
       "995  ['lee', 'wants', 'tarantula', 'member', 'bigge...   \n",
       "996  ['merry', 'adventures', 'robin', 'hood', 'grea...   \n",
       "997  ['moving', 'presentday', 'oslo', 'brooklyn', '...   \n",
       "998  ['captivating', 'sequel', 'inkheart', 'critica...   \n",
       "999  ['santa', 'claus', 'dear', 'old', 'friend', 't...   \n",
       "\n",
       "                                                scores  \n",
       "600  [0.04233139380812645, 0.39226487278938293, 0.0...  \n",
       "601  [0.040408384054899216, 0.408073753118515, 0.02...  \n",
       "602  [0.06058784946799278, 0.6148503422737122, 0.03...  \n",
       "603  [0.04561688378453255, 0.3967863619327545, 0.02...  \n",
       "604  [0.0368616096675396, 0.24831132590770721, 0.02...  \n",
       "..                                                 ...  \n",
       "995  [0.06012316420674324, 0.475518137216568, 0.026...  \n",
       "996  [0.045951638370752335, 0.14277443289756775, 0....  \n",
       "997  [0.08235049992799759, 0.6309429407119751, 0.04...  \n",
       "998  [0.03647300601005554, 0.24650506675243378, 0.0...  \n",
       "999  [0.04358915984630585, 0.14284628629684448, 0.0...  \n",
       "\n",
       "[400 rows x 49 columns]"
      ]
     },
     "execution_count": 72,
     "metadata": {},
     "output_type": "execute_result"
    }
   ],
   "source": [
    "test_data"
   ]
  },
  {
   "cell_type": "code",
   "execution_count": 73,
   "metadata": {},
   "outputs": [],
   "source": [
    "bert_list = ['university', 'relationships', 'break ups', 'divorce', 'weddings', 'death', 'family', 'friendship']\n",
    "#final_preds['scores'] = test_probabilities\n",
    "test_data['labels'] = str(bert_list)"
   ]
  },
  {
   "cell_type": "code",
   "execution_count": 74,
   "metadata": {},
   "outputs": [],
   "source": [
    "from ast import literal_eval\n",
    "test_data['labels'] = test_data['labels'].apply(lambda row: literal_eval(row))\n",
    "#test_data['scores'] = test_data['scores'].apply(lambda row: literal_eval(row))\n",
    "test_data['dictionary'] = test_data.apply(lambda row: dict(zip(row['labels'], row['scores'])), axis=1)\n",
    "LE_columns = test_data['dictionary'].apply(pd.Series)\n",
    "LE_columns = LE_columns > 0.5\n",
    "fine_tuned_8_1 = pd.concat([test_data, LE_columns], axis=1)"
   ]
  },
  {
   "cell_type": "code",
   "execution_count": 75,
   "metadata": {},
   "outputs": [
    {
     "data": {
      "text/html": [
       "<div>\n",
       "<style scoped>\n",
       "    .dataframe tbody tr th:only-of-type {\n",
       "        vertical-align: middle;\n",
       "    }\n",
       "\n",
       "    .dataframe tbody tr th {\n",
       "        vertical-align: top;\n",
       "    }\n",
       "\n",
       "    .dataframe thead th {\n",
       "        text-align: right;\n",
       "    }\n",
       "</style>\n",
       "<table border=\"1\" class=\"dataframe\">\n",
       "  <thead>\n",
       "    <tr style=\"text-align: right;\">\n",
       "      <th></th>\n",
       "      <th>Unnamed: 0.3</th>\n",
       "      <th>Unnamed: 0.2</th>\n",
       "      <th>Unnamed: 0.1</th>\n",
       "      <th>index</th>\n",
       "      <th>Unnamed: 0</th>\n",
       "      <th>bookId</th>\n",
       "      <th>title</th>\n",
       "      <th>series</th>\n",
       "      <th>author</th>\n",
       "      <th>rating</th>\n",
       "      <th>...</th>\n",
       "      <th>labels</th>\n",
       "      <th>dictionary</th>\n",
       "      <th>university</th>\n",
       "      <th>relationships</th>\n",
       "      <th>break ups</th>\n",
       "      <th>divorce</th>\n",
       "      <th>weddings</th>\n",
       "      <th>death</th>\n",
       "      <th>family</th>\n",
       "      <th>friendship</th>\n",
       "    </tr>\n",
       "  </thead>\n",
       "  <tbody>\n",
       "    <tr>\n",
       "      <th>600</th>\n",
       "      <td>600</td>\n",
       "      <td>600</td>\n",
       "      <td>600</td>\n",
       "      <td>600</td>\n",
       "      <td>39,326</td>\n",
       "      <td>23908423-onyx-webb</td>\n",
       "      <td>Onyx Webb: Episode One: The Story Begins</td>\n",
       "      <td>Onyx Webb</td>\n",
       "      <td>Richard Fenton (Goodreads Author), Andrea Walt...</td>\n",
       "      <td>4.00</td>\n",
       "      <td>...</td>\n",
       "      <td>[university, relationships, break ups, divorce...</td>\n",
       "      <td>{'university': 0.04233139380812645, 'relations...</td>\n",
       "      <td>False</td>\n",
       "      <td>False</td>\n",
       "      <td>False</td>\n",
       "      <td>False</td>\n",
       "      <td>False</td>\n",
       "      <td>False</td>\n",
       "      <td>False</td>\n",
       "      <td>False</td>\n",
       "    </tr>\n",
       "    <tr>\n",
       "      <th>601</th>\n",
       "      <td>601</td>\n",
       "      <td>601</td>\n",
       "      <td>601</td>\n",
       "      <td>601</td>\n",
       "      <td>34,185</td>\n",
       "      <td>18274597-the-war-inside</td>\n",
       "      <td>The War Inside</td>\n",
       "      <td>The Horizons Trilogy #1</td>\n",
       "      <td>M. Kircher (Goodreads Author)</td>\n",
       "      <td>3.92</td>\n",
       "      <td>...</td>\n",
       "      <td>[university, relationships, break ups, divorce...</td>\n",
       "      <td>{'university': 0.040408384054899216, 'relation...</td>\n",
       "      <td>False</td>\n",
       "      <td>False</td>\n",
       "      <td>False</td>\n",
       "      <td>False</td>\n",
       "      <td>False</td>\n",
       "      <td>False</td>\n",
       "      <td>False</td>\n",
       "      <td>False</td>\n",
       "    </tr>\n",
       "    <tr>\n",
       "      <th>602</th>\n",
       "      <td>602</td>\n",
       "      <td>602</td>\n",
       "      <td>602</td>\n",
       "      <td>602</td>\n",
       "      <td>42,881</td>\n",
       "      <td>6294553-deep-kiss-of-winter</td>\n",
       "      <td>Deep Kiss of Winter</td>\n",
       "      <td>Immortals After Dark #7</td>\n",
       "      <td>Kresley Cole (Goodreads Author), Gena Showalte...</td>\n",
       "      <td>4.22</td>\n",
       "      <td>...</td>\n",
       "      <td>[university, relationships, break ups, divorce...</td>\n",
       "      <td>{'university': 0.06058784946799278, 'relations...</td>\n",
       "      <td>False</td>\n",
       "      <td>True</td>\n",
       "      <td>False</td>\n",
       "      <td>False</td>\n",
       "      <td>False</td>\n",
       "      <td>False</td>\n",
       "      <td>False</td>\n",
       "      <td>False</td>\n",
       "    </tr>\n",
       "    <tr>\n",
       "      <th>603</th>\n",
       "      <td>603</td>\n",
       "      <td>603</td>\n",
       "      <td>603</td>\n",
       "      <td>603</td>\n",
       "      <td>25,586</td>\n",
       "      <td>37569307-the-evolution-of-claire</td>\n",
       "      <td>The Evolution of Claire</td>\n",
       "      <td>Jurassic World: Fallen Kingdom #1</td>\n",
       "      <td>Tess Sharpe (Goodreads Author)</td>\n",
       "      <td>4.05</td>\n",
       "      <td>...</td>\n",
       "      <td>[university, relationships, break ups, divorce...</td>\n",
       "      <td>{'university': 0.04561688378453255, 'relations...</td>\n",
       "      <td>False</td>\n",
       "      <td>False</td>\n",
       "      <td>False</td>\n",
       "      <td>False</td>\n",
       "      <td>False</td>\n",
       "      <td>False</td>\n",
       "      <td>False</td>\n",
       "      <td>False</td>\n",
       "    </tr>\n",
       "    <tr>\n",
       "      <th>604</th>\n",
       "      <td>604</td>\n",
       "      <td>604</td>\n",
       "      <td>604</td>\n",
       "      <td>604</td>\n",
       "      <td>4,579</td>\n",
       "      <td>47954.The_Invisible_Ring</td>\n",
       "      <td>The Invisible Ring</td>\n",
       "      <td>The Black Jewels #4</td>\n",
       "      <td>Anne Bishop</td>\n",
       "      <td>4.08</td>\n",
       "      <td>...</td>\n",
       "      <td>[university, relationships, break ups, divorce...</td>\n",
       "      <td>{'university': 0.0368616096675396, 'relationsh...</td>\n",
       "      <td>False</td>\n",
       "      <td>False</td>\n",
       "      <td>False</td>\n",
       "      <td>False</td>\n",
       "      <td>False</td>\n",
       "      <td>False</td>\n",
       "      <td>False</td>\n",
       "      <td>False</td>\n",
       "    </tr>\n",
       "    <tr>\n",
       "      <th>...</th>\n",
       "      <td>...</td>\n",
       "      <td>...</td>\n",
       "      <td>...</td>\n",
       "      <td>...</td>\n",
       "      <td>...</td>\n",
       "      <td>...</td>\n",
       "      <td>...</td>\n",
       "      <td>...</td>\n",
       "      <td>...</td>\n",
       "      <td>...</td>\n",
       "      <td>...</td>\n",
       "      <td>...</td>\n",
       "      <td>...</td>\n",
       "      <td>...</td>\n",
       "      <td>...</td>\n",
       "      <td>...</td>\n",
       "      <td>...</td>\n",
       "      <td>...</td>\n",
       "      <td>...</td>\n",
       "      <td>...</td>\n",
       "      <td>...</td>\n",
       "    </tr>\n",
       "    <tr>\n",
       "      <th>995</th>\n",
       "      <td>995</td>\n",
       "      <td>995</td>\n",
       "      <td>995</td>\n",
       "      <td>995</td>\n",
       "      <td>17,361</td>\n",
       "      <td>588326.The_Blue_Helmet</td>\n",
       "      <td>The Blue Helmet</td>\n",
       "      <td>NaN</td>\n",
       "      <td>William Bell</td>\n",
       "      <td>3.42</td>\n",
       "      <td>...</td>\n",
       "      <td>[university, relationships, break ups, divorce...</td>\n",
       "      <td>{'university': 0.06012316420674324, 'relations...</td>\n",
       "      <td>False</td>\n",
       "      <td>False</td>\n",
       "      <td>False</td>\n",
       "      <td>False</td>\n",
       "      <td>False</td>\n",
       "      <td>False</td>\n",
       "      <td>False</td>\n",
       "      <td>False</td>\n",
       "    </tr>\n",
       "    <tr>\n",
       "      <th>996</th>\n",
       "      <td>996</td>\n",
       "      <td>996</td>\n",
       "      <td>996</td>\n",
       "      <td>996</td>\n",
       "      <td>9,029</td>\n",
       "      <td>93007.The_Merry_Adventures_of_Robin_Hood</td>\n",
       "      <td>The Merry Adventures of Robin Hood</td>\n",
       "      <td>NaN</td>\n",
       "      <td>Howard Pyle</td>\n",
       "      <td>4.07</td>\n",
       "      <td>...</td>\n",
       "      <td>[university, relationships, break ups, divorce...</td>\n",
       "      <td>{'university': 0.045951638370752335, 'relation...</td>\n",
       "      <td>False</td>\n",
       "      <td>False</td>\n",
       "      <td>False</td>\n",
       "      <td>False</td>\n",
       "      <td>False</td>\n",
       "      <td>False</td>\n",
       "      <td>False</td>\n",
       "      <td>False</td>\n",
       "    </tr>\n",
       "    <tr>\n",
       "      <th>997</th>\n",
       "      <td>997</td>\n",
       "      <td>997</td>\n",
       "      <td>997</td>\n",
       "      <td>997</td>\n",
       "      <td>32,216</td>\n",
       "      <td>1085376.Before_You_Sleep</td>\n",
       "      <td>Before You Sleep</td>\n",
       "      <td>NaN</td>\n",
       "      <td>Linn Ullmann, Tiina Nunnally (Translator)</td>\n",
       "      <td>3.34</td>\n",
       "      <td>...</td>\n",
       "      <td>[university, relationships, break ups, divorce...</td>\n",
       "      <td>{'university': 0.08235049992799759, 'relations...</td>\n",
       "      <td>False</td>\n",
       "      <td>True</td>\n",
       "      <td>False</td>\n",
       "      <td>False</td>\n",
       "      <td>False</td>\n",
       "      <td>False</td>\n",
       "      <td>False</td>\n",
       "      <td>False</td>\n",
       "    </tr>\n",
       "    <tr>\n",
       "      <th>998</th>\n",
       "      <td>998</td>\n",
       "      <td>998</td>\n",
       "      <td>998</td>\n",
       "      <td>998</td>\n",
       "      <td>1,036</td>\n",
       "      <td>28195.Inkspell</td>\n",
       "      <td>Inkspell</td>\n",
       "      <td>Inkworld #2</td>\n",
       "      <td>Cornelia Funke (Goodreads Author), Anthea Bell...</td>\n",
       "      <td>3.91</td>\n",
       "      <td>...</td>\n",
       "      <td>[university, relationships, break ups, divorce...</td>\n",
       "      <td>{'university': 0.03647300601005554, 'relations...</td>\n",
       "      <td>False</td>\n",
       "      <td>False</td>\n",
       "      <td>False</td>\n",
       "      <td>False</td>\n",
       "      <td>False</td>\n",
       "      <td>False</td>\n",
       "      <td>False</td>\n",
       "      <td>False</td>\n",
       "    </tr>\n",
       "    <tr>\n",
       "      <th>999</th>\n",
       "      <td>999</td>\n",
       "      <td>999</td>\n",
       "      <td>999</td>\n",
       "      <td>999</td>\n",
       "      <td>9,738.00</td>\n",
       "      <td>13505670-krampus</td>\n",
       "      <td>Krampus: The Yule Lord</td>\n",
       "      <td>NaN</td>\n",
       "      <td>Brom</td>\n",
       "      <td>$4.08</td>\n",
       "      <td>...</td>\n",
       "      <td>[university, relationships, break ups, divorce...</td>\n",
       "      <td>{'university': 0.04358915984630585, 'relations...</td>\n",
       "      <td>False</td>\n",
       "      <td>False</td>\n",
       "      <td>False</td>\n",
       "      <td>False</td>\n",
       "      <td>False</td>\n",
       "      <td>False</td>\n",
       "      <td>False</td>\n",
       "      <td>False</td>\n",
       "    </tr>\n",
       "  </tbody>\n",
       "</table>\n",
       "<p>400 rows × 59 columns</p>\n",
       "</div>"
      ],
      "text/plain": [
       "     Unnamed: 0.3  Unnamed: 0.2  Unnamed: 0.1  index Unnamed: 0  \\\n",
       "600           600           600           600    600     39,326   \n",
       "601           601           601           601    601     34,185   \n",
       "602           602           602           602    602     42,881   \n",
       "603           603           603           603    603     25,586   \n",
       "604           604           604           604    604      4,579   \n",
       "..            ...           ...           ...    ...        ...   \n",
       "995           995           995           995    995     17,361   \n",
       "996           996           996           996    996      9,029   \n",
       "997           997           997           997    997     32,216   \n",
       "998           998           998           998    998      1,036   \n",
       "999           999           999           999    999   9,738.00   \n",
       "\n",
       "                                       bookId  \\\n",
       "600                        23908423-onyx-webb   \n",
       "601                   18274597-the-war-inside   \n",
       "602               6294553-deep-kiss-of-winter   \n",
       "603          37569307-the-evolution-of-claire   \n",
       "604                  47954.The_Invisible_Ring   \n",
       "..                                        ...   \n",
       "995                    588326.The_Blue_Helmet   \n",
       "996  93007.The_Merry_Adventures_of_Robin_Hood   \n",
       "997                  1085376.Before_You_Sleep   \n",
       "998                            28195.Inkspell   \n",
       "999                          13505670-krampus   \n",
       "\n",
       "                                        title  \\\n",
       "600  Onyx Webb: Episode One: The Story Begins   \n",
       "601                            The War Inside   \n",
       "602                       Deep Kiss of Winter   \n",
       "603                   The Evolution of Claire   \n",
       "604                        The Invisible Ring   \n",
       "..                                        ...   \n",
       "995                           The Blue Helmet   \n",
       "996        The Merry Adventures of Robin Hood   \n",
       "997                          Before You Sleep   \n",
       "998                                  Inkspell   \n",
       "999                    Krampus: The Yule Lord   \n",
       "\n",
       "                                series  \\\n",
       "600                          Onyx Webb   \n",
       "601            The Horizons Trilogy #1   \n",
       "602            Immortals After Dark #7   \n",
       "603  Jurassic World: Fallen Kingdom #1   \n",
       "604                The Black Jewels #4   \n",
       "..                                 ...   \n",
       "995                                NaN   \n",
       "996                                NaN   \n",
       "997                                NaN   \n",
       "998                        Inkworld #2   \n",
       "999                                NaN   \n",
       "\n",
       "                                                author rating  ...  \\\n",
       "600  Richard Fenton (Goodreads Author), Andrea Walt...   4.00  ...   \n",
       "601                      M. Kircher (Goodreads Author)   3.92  ...   \n",
       "602  Kresley Cole (Goodreads Author), Gena Showalte...   4.22  ...   \n",
       "603                     Tess Sharpe (Goodreads Author)   4.05  ...   \n",
       "604                                        Anne Bishop   4.08  ...   \n",
       "..                                                 ...    ...  ...   \n",
       "995                                       William Bell   3.42  ...   \n",
       "996                                        Howard Pyle   4.07  ...   \n",
       "997          Linn Ullmann, Tiina Nunnally (Translator)   3.34  ...   \n",
       "998  Cornelia Funke (Goodreads Author), Anthea Bell...   3.91  ...   \n",
       "999                                               Brom  $4.08  ...   \n",
       "\n",
       "                                                labels  \\\n",
       "600  [university, relationships, break ups, divorce...   \n",
       "601  [university, relationships, break ups, divorce...   \n",
       "602  [university, relationships, break ups, divorce...   \n",
       "603  [university, relationships, break ups, divorce...   \n",
       "604  [university, relationships, break ups, divorce...   \n",
       "..                                                 ...   \n",
       "995  [university, relationships, break ups, divorce...   \n",
       "996  [university, relationships, break ups, divorce...   \n",
       "997  [university, relationships, break ups, divorce...   \n",
       "998  [university, relationships, break ups, divorce...   \n",
       "999  [university, relationships, break ups, divorce...   \n",
       "\n",
       "                                            dictionary university  \\\n",
       "600  {'university': 0.04233139380812645, 'relations...      False   \n",
       "601  {'university': 0.040408384054899216, 'relation...      False   \n",
       "602  {'university': 0.06058784946799278, 'relations...      False   \n",
       "603  {'university': 0.04561688378453255, 'relations...      False   \n",
       "604  {'university': 0.0368616096675396, 'relationsh...      False   \n",
       "..                                                 ...        ...   \n",
       "995  {'university': 0.06012316420674324, 'relations...      False   \n",
       "996  {'university': 0.045951638370752335, 'relation...      False   \n",
       "997  {'university': 0.08235049992799759, 'relations...      False   \n",
       "998  {'university': 0.03647300601005554, 'relations...      False   \n",
       "999  {'university': 0.04358915984630585, 'relations...      False   \n",
       "\n",
       "    relationships break ups divorce weddings  death family friendship  \n",
       "600         False     False   False    False  False  False      False  \n",
       "601         False     False   False    False  False  False      False  \n",
       "602          True     False   False    False  False  False      False  \n",
       "603         False     False   False    False  False  False      False  \n",
       "604         False     False   False    False  False  False      False  \n",
       "..            ...       ...     ...      ...    ...    ...        ...  \n",
       "995         False     False   False    False  False  False      False  \n",
       "996         False     False   False    False  False  False      False  \n",
       "997          True     False   False    False  False  False      False  \n",
       "998         False     False   False    False  False  False      False  \n",
       "999         False     False   False    False  False  False      False  \n",
       "\n",
       "[400 rows x 59 columns]"
      ]
     },
     "execution_count": 75,
     "metadata": {},
     "output_type": "execute_result"
    }
   ],
   "source": [
    "fine_tuned_8_1"
   ]
  },
  {
   "cell_type": "code",
   "execution_count": 76,
   "metadata": {},
   "outputs": [],
   "source": [
    "fine_tuned_8_1.to_csv('fine_tuned_8_1.csv')"
   ]
  },
  {
   "cell_type": "code",
   "execution_count": null,
   "metadata": {},
   "outputs": [],
   "source": []
  }
 ],
 "metadata": {
  "accelerator": "GPU",
  "colab": {
   "collapsed_sections": [],
   "name": "Fine-tuning BERT (and friends) for multi-label text classification.ipynb",
   "provenance": []
  },
  "kernelspec": {
   "display_name": "Python 3 (ipykernel)",
   "language": "python",
   "name": "python3"
  },
  "language_info": {
   "codemirror_mode": {
    "name": "ipython",
    "version": 3
   },
   "file_extension": ".py",
   "mimetype": "text/x-python",
   "name": "python",
   "nbconvert_exporter": "python",
   "pygments_lexer": "ipython3",
   "version": "3.9.12"
  },
  "widgets": {
   "application/vnd.jupyter.widget-state+json": {
    "091f8220f33241f288faa0612853585f": {
     "model_module": "@jupyter-widgets/controls",
     "model_module_version": "1.5.0",
     "model_name": "FloatProgressModel",
     "state": {
      "_dom_classes": [],
      "_model_module": "@jupyter-widgets/controls",
      "_model_module_version": "1.5.0",
      "_model_name": "FloatProgressModel",
      "_view_count": null,
      "_view_module": "@jupyter-widgets/controls",
      "_view_module_version": "1.5.0",
      "_view_name": "ProgressView",
      "bar_style": "success",
      "description": "",
      "description_tooltip": null,
      "layout": "IPY_MODEL_6111a73e684a47769bda7183a836ee91",
      "max": 3,
      "min": 0,
      "orientation": "horizontal",
      "style": "IPY_MODEL_8b1899a0c4b144d7a5e6599f8afb8b65",
      "value": 3
     }
    },
    "1045bb16e3694410898a73cf1b848917": {
     "model_module": "@jupyter-widgets/controls",
     "model_module_version": "1.5.0",
     "model_name": "HTMLModel",
     "state": {
      "_dom_classes": [],
      "_model_module": "@jupyter-widgets/controls",
      "_model_module_version": "1.5.0",
      "_model_name": "HTMLModel",
      "_view_count": null,
      "_view_module": "@jupyter-widgets/controls",
      "_view_module_version": "1.5.0",
      "_view_name": "HTMLView",
      "description": "",
      "description_tooltip": null,
      "layout": "IPY_MODEL_bbba60f793c14100934a268063f63d26",
      "placeholder": "​",
      "style": "IPY_MODEL_cd3570ddf67541d7818d97e236c54e54",
      "value": " 3/3 [00:00&lt;00:00, 75.93it/s]"
     }
    },
    "308fa6a7348140ec981a8d6c7d31f346": {
     "model_module": "@jupyter-widgets/base",
     "model_module_version": "1.2.0",
     "model_name": "LayoutModel",
     "state": {
      "_model_module": "@jupyter-widgets/base",
      "_model_module_version": "1.2.0",
      "_model_name": "LayoutModel",
      "_view_count": null,
      "_view_module": "@jupyter-widgets/base",
      "_view_module_version": "1.2.0",
      "_view_name": "LayoutView",
      "align_content": null,
      "align_items": null,
      "align_self": null,
      "border": null,
      "bottom": null,
      "display": null,
      "flex": null,
      "flex_flow": null,
      "grid_area": null,
      "grid_auto_columns": null,
      "grid_auto_flow": null,
      "grid_auto_rows": null,
      "grid_column": null,
      "grid_gap": null,
      "grid_row": null,
      "grid_template_areas": null,
      "grid_template_columns": null,
      "grid_template_rows": null,
      "height": null,
      "justify_content": null,
      "justify_items": null,
      "left": null,
      "margin": null,
      "max_height": null,
      "max_width": null,
      "min_height": null,
      "min_width": null,
      "object_fit": null,
      "object_position": null,
      "order": null,
      "overflow": null,
      "overflow_x": null,
      "overflow_y": null,
      "padding": null,
      "right": null,
      "top": null,
      "visibility": null,
      "width": null
     }
    },
    "5080d322a8034924b652b379c04667ed": {
     "model_module": "@jupyter-widgets/base",
     "model_module_version": "1.2.0",
     "model_name": "LayoutModel",
     "state": {
      "_model_module": "@jupyter-widgets/base",
      "_model_module_version": "1.2.0",
      "_model_name": "LayoutModel",
      "_view_count": null,
      "_view_module": "@jupyter-widgets/base",
      "_view_module_version": "1.2.0",
      "_view_name": "LayoutView",
      "align_content": null,
      "align_items": null,
      "align_self": null,
      "border": null,
      "bottom": null,
      "display": null,
      "flex": null,
      "flex_flow": null,
      "grid_area": null,
      "grid_auto_columns": null,
      "grid_auto_flow": null,
      "grid_auto_rows": null,
      "grid_column": null,
      "grid_gap": null,
      "grid_row": null,
      "grid_template_areas": null,
      "grid_template_columns": null,
      "grid_template_rows": null,
      "height": null,
      "justify_content": null,
      "justify_items": null,
      "left": null,
      "margin": null,
      "max_height": null,
      "max_width": null,
      "min_height": null,
      "min_width": null,
      "object_fit": null,
      "object_position": null,
      "order": null,
      "overflow": null,
      "overflow_x": null,
      "overflow_y": null,
      "padding": null,
      "right": null,
      "top": null,
      "visibility": null,
      "width": null
     }
    },
    "6111a73e684a47769bda7183a836ee91": {
     "model_module": "@jupyter-widgets/base",
     "model_module_version": "1.2.0",
     "model_name": "LayoutModel",
     "state": {
      "_model_module": "@jupyter-widgets/base",
      "_model_module_version": "1.2.0",
      "_model_name": "LayoutModel",
      "_view_count": null,
      "_view_module": "@jupyter-widgets/base",
      "_view_module_version": "1.2.0",
      "_view_name": "LayoutView",
      "align_content": null,
      "align_items": null,
      "align_self": null,
      "border": null,
      "bottom": null,
      "display": null,
      "flex": null,
      "flex_flow": null,
      "grid_area": null,
      "grid_auto_columns": null,
      "grid_auto_flow": null,
      "grid_auto_rows": null,
      "grid_column": null,
      "grid_gap": null,
      "grid_row": null,
      "grid_template_areas": null,
      "grid_template_columns": null,
      "grid_template_rows": null,
      "height": null,
      "justify_content": null,
      "justify_items": null,
      "left": null,
      "margin": null,
      "max_height": null,
      "max_width": null,
      "min_height": null,
      "min_width": null,
      "object_fit": null,
      "object_position": null,
      "order": null,
      "overflow": null,
      "overflow_x": null,
      "overflow_y": null,
      "padding": null,
      "right": null,
      "top": null,
      "visibility": null,
      "width": null
     }
    },
    "8b1899a0c4b144d7a5e6599f8afb8b65": {
     "model_module": "@jupyter-widgets/controls",
     "model_module_version": "1.5.0",
     "model_name": "ProgressStyleModel",
     "state": {
      "_model_module": "@jupyter-widgets/controls",
      "_model_module_version": "1.5.0",
      "_model_name": "ProgressStyleModel",
      "_view_count": null,
      "_view_module": "@jupyter-widgets/base",
      "_view_module_version": "1.2.0",
      "_view_name": "StyleView",
      "bar_color": null,
      "description_width": ""
     }
    },
    "8bc92587e35443488445e7521fbd0a13": {
     "model_module": "@jupyter-widgets/controls",
     "model_module_version": "1.5.0",
     "model_name": "HTMLModel",
     "state": {
      "_dom_classes": [],
      "_model_module": "@jupyter-widgets/controls",
      "_model_module_version": "1.5.0",
      "_model_name": "HTMLModel",
      "_view_count": null,
      "_view_module": "@jupyter-widgets/controls",
      "_view_module_version": "1.5.0",
      "_view_name": "HTMLView",
      "description": "",
      "description_tooltip": null,
      "layout": "IPY_MODEL_5080d322a8034924b652b379c04667ed",
      "placeholder": "​",
      "style": "IPY_MODEL_cb95e545fbdd4e99903bf634df694c9f",
      "value": "100%"
     }
    },
    "9a1aa9f2cc29473f9f8e5459d2641e76": {
     "model_module": "@jupyter-widgets/controls",
     "model_module_version": "1.5.0",
     "model_name": "HBoxModel",
     "state": {
      "_dom_classes": [],
      "_model_module": "@jupyter-widgets/controls",
      "_model_module_version": "1.5.0",
      "_model_name": "HBoxModel",
      "_view_count": null,
      "_view_module": "@jupyter-widgets/controls",
      "_view_module_version": "1.5.0",
      "_view_name": "HBoxView",
      "box_style": "",
      "children": [
       "IPY_MODEL_8bc92587e35443488445e7521fbd0a13",
       "IPY_MODEL_091f8220f33241f288faa0612853585f",
       "IPY_MODEL_1045bb16e3694410898a73cf1b848917"
      ],
      "layout": "IPY_MODEL_308fa6a7348140ec981a8d6c7d31f346"
     }
    },
    "bbba60f793c14100934a268063f63d26": {
     "model_module": "@jupyter-widgets/base",
     "model_module_version": "1.2.0",
     "model_name": "LayoutModel",
     "state": {
      "_model_module": "@jupyter-widgets/base",
      "_model_module_version": "1.2.0",
      "_model_name": "LayoutModel",
      "_view_count": null,
      "_view_module": "@jupyter-widgets/base",
      "_view_module_version": "1.2.0",
      "_view_name": "LayoutView",
      "align_content": null,
      "align_items": null,
      "align_self": null,
      "border": null,
      "bottom": null,
      "display": null,
      "flex": null,
      "flex_flow": null,
      "grid_area": null,
      "grid_auto_columns": null,
      "grid_auto_flow": null,
      "grid_auto_rows": null,
      "grid_column": null,
      "grid_gap": null,
      "grid_row": null,
      "grid_template_areas": null,
      "grid_template_columns": null,
      "grid_template_rows": null,
      "height": null,
      "justify_content": null,
      "justify_items": null,
      "left": null,
      "margin": null,
      "max_height": null,
      "max_width": null,
      "min_height": null,
      "min_width": null,
      "object_fit": null,
      "object_position": null,
      "order": null,
      "overflow": null,
      "overflow_x": null,
      "overflow_y": null,
      "padding": null,
      "right": null,
      "top": null,
      "visibility": null,
      "width": null
     }
    },
    "cb95e545fbdd4e99903bf634df694c9f": {
     "model_module": "@jupyter-widgets/controls",
     "model_module_version": "1.5.0",
     "model_name": "DescriptionStyleModel",
     "state": {
      "_model_module": "@jupyter-widgets/controls",
      "_model_module_version": "1.5.0",
      "_model_name": "DescriptionStyleModel",
      "_view_count": null,
      "_view_module": "@jupyter-widgets/base",
      "_view_module_version": "1.2.0",
      "_view_name": "StyleView",
      "description_width": ""
     }
    },
    "cd3570ddf67541d7818d97e236c54e54": {
     "model_module": "@jupyter-widgets/controls",
     "model_module_version": "1.5.0",
     "model_name": "DescriptionStyleModel",
     "state": {
      "_model_module": "@jupyter-widgets/controls",
      "_model_module_version": "1.5.0",
      "_model_name": "DescriptionStyleModel",
      "_view_count": null,
      "_view_module": "@jupyter-widgets/base",
      "_view_module_version": "1.2.0",
      "_view_name": "StyleView",
      "description_width": ""
     }
    }
   }
  }
 },
 "nbformat": 4,
 "nbformat_minor": 4
}
